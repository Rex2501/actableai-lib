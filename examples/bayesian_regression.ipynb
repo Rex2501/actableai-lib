{
 "cells": [
  {
   "cell_type": "markdown",
   "metadata": {},
   "source": [
    "<img src=\"https://docs.actable.ai/_images/logo.png\" style=\"object-fit: cover; max-width:100%; height:300px;\" />"
   ]
  },
  {
   "cell_type": "markdown",
   "metadata": {},
   "source": [
    "# AAIBayesianRegressionTask\n",
    "\n",
    "This notebook is an example on how you can run a bayesian regression automatically with\n",
    "[Actable AI](https://actable.ai)\n",
    "\n",
    "For this example we will try to predict the rental prices of appartments and \n",
    "then try to predict the rental prices for new appartments."
   ]
  },
  {
   "cell_type": "markdown",
   "metadata": {},
   "source": [
    "### Imports\n",
    "\n",
    "This part simply imports the python modules.\n",
    "Last line imports the Regression task from actableai"
   ]
  },
  {
   "cell_type": "code",
   "execution_count": 1,
   "metadata": {},
   "outputs": [],
   "source": [
    "import pandas as pd\n",
    "import numpy as np\n",
    "from matplotlib import pyplot as plt\n",
    "from sklearn.metrics import confusion_matrix, ConfusionMatrixDisplay, RocCurveDisplay\n",
    "\n",
    "from actableai import AAIBayesianRegressionTask"
   ]
  },
  {
   "cell_type": "markdown",
   "metadata": {},
   "source": [
    "### Importing the data\n",
    "\n",
    "This part imports the data and cut it into two parts.\\\n",
    "First part will be the data we use for training and second part\n",
    "will be used to showcase the predictive power of the new generated model"
   ]
  },
  {
   "cell_type": "code",
   "execution_count": 2,
   "metadata": {},
   "outputs": [
    {
     "name": "stdout",
     "output_type": "stream",
     "text": [
      "Number of features : 8, Number of rows : 100\n"
     ]
    },
    {
     "data": {
      "text/html": [
       "<div>\n",
       "<style scoped>\n",
       "    .dataframe tbody tr th:only-of-type {\n",
       "        vertical-align: middle;\n",
       "    }\n",
       "\n",
       "    .dataframe tbody tr th {\n",
       "        vertical-align: top;\n",
       "    }\n",
       "\n",
       "    .dataframe thead th {\n",
       "        text-align: right;\n",
       "    }\n",
       "</style>\n",
       "<table border=\"1\" class=\"dataframe\">\n",
       "  <thead>\n",
       "    <tr style=\"text-align: right;\">\n",
       "      <th></th>\n",
       "      <th>number_of_rooms</th>\n",
       "      <th>number_of_bathrooms</th>\n",
       "      <th>sqft</th>\n",
       "      <th>location</th>\n",
       "      <th>days_on_market</th>\n",
       "      <th>initial_price</th>\n",
       "      <th>neighborhood</th>\n",
       "      <th>rental_price</th>\n",
       "    </tr>\n",
       "  </thead>\n",
       "  <tbody>\n",
       "    <tr>\n",
       "      <th>0</th>\n",
       "      <td>0</td>\n",
       "      <td>1</td>\n",
       "      <td>4848</td>\n",
       "      <td>great</td>\n",
       "      <td>10</td>\n",
       "      <td>2271</td>\n",
       "      <td>south_side</td>\n",
       "      <td>2271.0</td>\n",
       "    </tr>\n",
       "    <tr>\n",
       "      <th>1</th>\n",
       "      <td>1</td>\n",
       "      <td>1</td>\n",
       "      <td>674</td>\n",
       "      <td>good</td>\n",
       "      <td>1</td>\n",
       "      <td>2167</td>\n",
       "      <td>NaN</td>\n",
       "      <td>2167.0</td>\n",
       "    </tr>\n",
       "    <tr>\n",
       "      <th>2</th>\n",
       "      <td>1</td>\n",
       "      <td>1</td>\n",
       "      <td>554</td>\n",
       "      <td>poor</td>\n",
       "      <td>19</td>\n",
       "      <td>1883</td>\n",
       "      <td>NaN</td>\n",
       "      <td>1883.0</td>\n",
       "    </tr>\n",
       "    <tr>\n",
       "      <th>3</th>\n",
       "      <td>0</td>\n",
       "      <td>1</td>\n",
       "      <td>529</td>\n",
       "      <td>great</td>\n",
       "      <td>3</td>\n",
       "      <td>2431</td>\n",
       "      <td>NaN</td>\n",
       "      <td>2431.0</td>\n",
       "    </tr>\n",
       "    <tr>\n",
       "      <th>4</th>\n",
       "      <td>3</td>\n",
       "      <td>2</td>\n",
       "      <td>1219</td>\n",
       "      <td>great</td>\n",
       "      <td>3</td>\n",
       "      <td>5510</td>\n",
       "      <td>NaN</td>\n",
       "      <td>5510.0</td>\n",
       "    </tr>\n",
       "  </tbody>\n",
       "</table>\n",
       "</div>"
      ],
      "text/plain": [
       "   number_of_rooms  number_of_bathrooms  sqft location  days_on_market  \\\n",
       "0                0                    1  4848    great              10   \n",
       "1                1                    1   674     good               1   \n",
       "2                1                    1   554     poor              19   \n",
       "3                0                    1   529    great               3   \n",
       "4                3                    2  1219    great               3   \n",
       "\n",
       "   initial_price neighborhood  rental_price  \n",
       "0           2271   south_side        2271.0  \n",
       "1           2167          NaN        2167.0  \n",
       "2           1883          NaN        1883.0  \n",
       "3           2431          NaN        2431.0  \n",
       "4           5510          NaN        5510.0  "
      ]
     },
     "execution_count": 2,
     "metadata": {},
     "output_type": "execute_result"
    }
   ],
   "source": [
    "df = pd.read_csv(\"https://raw.githubusercontent.com/Actable-AI/public-datasets/master/apartments.csv\").head(100)\n",
    "train_ratio = 0.8\n",
    "df_train = df.iloc[:int(train_ratio * len(df))]\n",
    "df_prediction = df.iloc[int(train_ratio * len(df)):]\n",
    "print(f\"Number of features : {df.shape[1]}, Number of rows : {df.shape[0]}\")\n",
    "df.head(5)"
   ]
  },
  {
   "cell_type": "markdown",
   "metadata": {},
   "source": [
    "### Calling Actable AI task\n",
    "\n",
    "This part is the call to the ActableAI regression analysis.\\\n",
    "To learn more about the available parameters you can consult the [API Documentation](https://lib.actable.ai/actableai.tasks.html#module-actableai.tasks.classification)"
   ]
  },
  {
   "cell_type": "code",
   "execution_count": null,
   "metadata": {},
   "outputs": [],
   "source": [
    "# Here df is the DataFrame containing our data\n",
    "# target is \"Churn\" because we want to predict the churn\n",
    "# features set to None means that we will use every single feature available\n",
    "result = AAIBayesianRegressionTask().run(\n",
    "    df=df_train,\n",
    "    target=\"rental_price\",\n",
    "    features=df_train.drop(\"rental_price\", axis=1).columns\n",
    ")"
   ]
  },
  {
   "cell_type": "markdown",
   "metadata": {},
   "source": [
    "### Evaluation of the generated model\n",
    "\n",
    "In this part we take a look at the metrics created by the model on the validation set.\\\n",
    "The validation set is created internally so you dont need to specify it."
   ]
  },
  {
   "cell_type": "code",
   "execution_count": 11,
   "metadata": {},
   "outputs": [
    {
     "name": "stdout",
     "output_type": "stream",
     "text": [
      "{'r2': 0.9972841678588426, 'rmse': 61.956803222871464}\n"
     ]
    }
   ],
   "source": [
    "metrics = result[\"data\"][\"evaluation\"]\n",
    "print(metrics)"
   ]
  },
  {
   "cell_type": "markdown",
   "metadata": {},
   "source": [
    "### Prediction with the generated model \\**Coming Soon*\\*\n",
    "\n",
    "Finally, we showcase how we can use the generated model to make further predictions\\\n",
    "on unseen data. Here in our case we already have the values but this works for any\\\n",
    "new incoming data points."
   ]
  },
  {
   "cell_type": "code",
   "execution_count": null,
   "metadata": {},
   "outputs": [],
   "source": [
    "model = result[\"model\"]\n",
    "prediction = model.predict(df_prediction)\n",
    "df_prediction[\"Predicted rental_price\"] = prediction\n",
    "df_prediction.head(5)"
   ]
  }
 ],
 "metadata": {
  "kernelspec": {
   "display_name": "Python 3.7.13 ('venv': venv)",
   "language": "python",
   "name": "python3"
  },
  "language_info": {
   "codemirror_mode": {
    "name": "ipython",
    "version": 3
   },
   "file_extension": ".py",
   "mimetype": "text/x-python",
   "name": "python",
   "nbconvert_exporter": "python",
   "pygments_lexer": "ipython3",
   "version": "3.7.14"
  },
  "orig_nbformat": 4,
  "vscode": {
   "interpreter": {
    "hash": "f2506a5d2a1a56acbe894b671739c3859923feb61f35b7a5615f5ca1c016a1dc"
   }
  }
 },
 "nbformat": 4,
 "nbformat_minor": 2
}
