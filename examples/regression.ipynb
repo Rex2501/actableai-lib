{
 "cells": [
  {
   "cell_type": "markdown",
   "metadata": {},
   "source": [
    "<img src=\"https://docs.actable.ai/_images/logo.png\" style=\"object-fit: cover; max-width:100%; height:300px;\" />"
   ]
  },
  {
   "cell_type": "markdown",
   "metadata": {},
   "source": [
    "# AAIRegressionTask\n",
    "\n",
    "This notebook is an example on how you can run a regression automatically with\n",
    "[Actable AI](https://actable.ai)\n",
    "\n",
    "For this example we will try to predict the rental prices of appartments and \n",
    "then try to predict the rental prices for new appartments."
   ]
  },
  {
   "cell_type": "markdown",
   "metadata": {},
   "source": [
    "### Imports\n",
    "\n",
    "This part simply imports the python modules.\n",
    "Last line imports the Regression task from actableai"
   ]
  },
  {
   "cell_type": "code",
   "execution_count": 11,
   "metadata": {},
   "outputs": [],
   "source": [
    "import pandas as pd\n",
    "import numpy as np\n",
    "from matplotlib import pyplot as plt\n",
    "from sklearn.metrics import confusion_matrix, ConfusionMatrixDisplay, RocCurveDisplay\n",
    "\n",
    "from actableai.tasks.regression import AAIRegressionTask"
   ]
  },
  {
   "cell_type": "markdown",
   "metadata": {},
   "source": [
    "### Importing the data\n",
    "\n",
    "This part imports the data and cut it into two parts.\\\n",
    "First part will be the data we use for training and second part\n",
    "will be used to showcase the predictive power of the new generated model"
   ]
  },
  {
   "cell_type": "code",
   "execution_count": 12,
   "metadata": {},
   "outputs": [
    {
     "name": "stdout",
     "output_type": "stream",
     "text": [
      "Number of features : 8, Number of rows : 100\n"
     ]
    },
    {
     "data": {
      "text/html": [
       "<div>\n",
       "<style scoped>\n",
       "    .dataframe tbody tr th:only-of-type {\n",
       "        vertical-align: middle;\n",
       "    }\n",
       "\n",
       "    .dataframe tbody tr th {\n",
       "        vertical-align: top;\n",
       "    }\n",
       "\n",
       "    .dataframe thead th {\n",
       "        text-align: right;\n",
       "    }\n",
       "</style>\n",
       "<table border=\"1\" class=\"dataframe\">\n",
       "  <thead>\n",
       "    <tr style=\"text-align: right;\">\n",
       "      <th></th>\n",
       "      <th>number_of_rooms</th>\n",
       "      <th>number_of_bathrooms</th>\n",
       "      <th>sqft</th>\n",
       "      <th>location</th>\n",
       "      <th>days_on_market</th>\n",
       "      <th>initial_price</th>\n",
       "      <th>neighborhood</th>\n",
       "      <th>rental_price</th>\n",
       "    </tr>\n",
       "  </thead>\n",
       "  <tbody>\n",
       "    <tr>\n",
       "      <th>0</th>\n",
       "      <td>0</td>\n",
       "      <td>1</td>\n",
       "      <td>4848</td>\n",
       "      <td>great</td>\n",
       "      <td>10</td>\n",
       "      <td>2271</td>\n",
       "      <td>south_side</td>\n",
       "      <td>2271.0</td>\n",
       "    </tr>\n",
       "    <tr>\n",
       "      <th>1</th>\n",
       "      <td>1</td>\n",
       "      <td>1</td>\n",
       "      <td>674</td>\n",
       "      <td>good</td>\n",
       "      <td>1</td>\n",
       "      <td>2167</td>\n",
       "      <td>NaN</td>\n",
       "      <td>2167.0</td>\n",
       "    </tr>\n",
       "    <tr>\n",
       "      <th>2</th>\n",
       "      <td>1</td>\n",
       "      <td>1</td>\n",
       "      <td>554</td>\n",
       "      <td>poor</td>\n",
       "      <td>19</td>\n",
       "      <td>1883</td>\n",
       "      <td>NaN</td>\n",
       "      <td>1883.0</td>\n",
       "    </tr>\n",
       "    <tr>\n",
       "      <th>3</th>\n",
       "      <td>0</td>\n",
       "      <td>1</td>\n",
       "      <td>529</td>\n",
       "      <td>great</td>\n",
       "      <td>3</td>\n",
       "      <td>2431</td>\n",
       "      <td>NaN</td>\n",
       "      <td>2431.0</td>\n",
       "    </tr>\n",
       "    <tr>\n",
       "      <th>4</th>\n",
       "      <td>3</td>\n",
       "      <td>2</td>\n",
       "      <td>1219</td>\n",
       "      <td>great</td>\n",
       "      <td>3</td>\n",
       "      <td>5510</td>\n",
       "      <td>NaN</td>\n",
       "      <td>5510.0</td>\n",
       "    </tr>\n",
       "  </tbody>\n",
       "</table>\n",
       "</div>"
      ],
      "text/plain": [
       "   number_of_rooms  number_of_bathrooms  sqft location  days_on_market  \\\n",
       "0                0                    1  4848    great              10   \n",
       "1                1                    1   674     good               1   \n",
       "2                1                    1   554     poor              19   \n",
       "3                0                    1   529    great               3   \n",
       "4                3                    2  1219    great               3   \n",
       "\n",
       "   initial_price neighborhood  rental_price  \n",
       "0           2271   south_side        2271.0  \n",
       "1           2167          NaN        2167.0  \n",
       "2           1883          NaN        1883.0  \n",
       "3           2431          NaN        2431.0  \n",
       "4           5510          NaN        5510.0  "
      ]
     },
     "execution_count": 12,
     "metadata": {},
     "output_type": "execute_result"
    }
   ],
   "source": [
    "df = pd.read_csv(\"https://raw.githubusercontent.com/Actable-AI/public-datasets/master/apartments.csv\").head(100)\n",
    "train_ratio = 0.8\n",
    "df_train = df.iloc[:int(train_ratio * len(df))]\n",
    "df_prediction = df.iloc[int(train_ratio * len(df)):]\n",
    "print(f\"Number of features : {df.shape[1]}, Number of rows : {df.shape[0]}\")\n",
    "df.head(5)"
   ]
  },
  {
   "cell_type": "markdown",
   "metadata": {},
   "source": [
    "### Calling Actable AI task\n",
    "\n",
    "This part is the call to the ActableAI regression analysis.\\\n",
    "To learn more about the available parameters you can consult the [API Documentation](https://lib.actable.ai/actableai.tasks.html#module-actableai.tasks.classification)"
   ]
  },
  {
   "cell_type": "code",
   "execution_count": null,
   "metadata": {},
   "outputs": [],
   "source": [
    "# Here df is the DataFrame containing our data\n",
    "# target is \"Churn\" because we want to predict the churn\n",
    "# features set to None means that we will use every single feature available\n",
    "result = AAIRegressionTask().run(\n",
    "    df=df_train,\n",
    "    target=\"rental_price\",\n",
    "    features=None,\n",
    ")"
   ]
  },
  {
   "cell_type": "markdown",
   "metadata": {},
   "source": [
    "### Evaluation of the generated model\n",
    "\n",
    "In this part we take a look at the metrics created by the model on the validation set.\\\n",
    "The validation set is created internally so you dont need to specify it."
   ]
  },
  {
   "cell_type": "code",
   "execution_count": 14,
   "metadata": {},
   "outputs": [
    {
     "name": "stdout",
     "output_type": "stream",
     "text": [
      "                    metric      value\n",
      "0  Root Mean Squared Error  86.478663\n",
      "1                       R2   0.995603\n",
      "2      Mean Absolute Error  56.216107\n",
      "3    Median Absolute Error  32.314331\n"
     ]
    },
    {
     "data": {
      "text/html": [
       "<div>\n",
       "<style scoped>\n",
       "    .dataframe tbody tr th:only-of-type {\n",
       "        vertical-align: middle;\n",
       "    }\n",
       "\n",
       "    .dataframe tbody tr th {\n",
       "        vertical-align: top;\n",
       "    }\n",
       "\n",
       "    .dataframe thead th {\n",
       "        text-align: right;\n",
       "    }\n",
       "</style>\n",
       "<table border=\"1\" class=\"dataframe\">\n",
       "  <thead>\n",
       "    <tr style=\"text-align: right;\">\n",
       "      <th></th>\n",
       "      <th>feature</th>\n",
       "      <th>importance</th>\n",
       "      <th>p_value</th>\n",
       "    </tr>\n",
       "  </thead>\n",
       "  <tbody>\n",
       "    <tr>\n",
       "      <th>0</th>\n",
       "      <td>initial_price</td>\n",
       "      <td>1.139217</td>\n",
       "      <td>0.000546</td>\n",
       "    </tr>\n",
       "    <tr>\n",
       "      <th>1</th>\n",
       "      <td>number_of_rooms</td>\n",
       "      <td>0.064834</td>\n",
       "      <td>0.002703</td>\n",
       "    </tr>\n",
       "    <tr>\n",
       "      <th>2</th>\n",
       "      <td>number_of_bathrooms</td>\n",
       "      <td>0.002851</td>\n",
       "      <td>0.004495</td>\n",
       "    </tr>\n",
       "    <tr>\n",
       "      <th>3</th>\n",
       "      <td>location</td>\n",
       "      <td>0.002824</td>\n",
       "      <td>0.002970</td>\n",
       "    </tr>\n",
       "    <tr>\n",
       "      <th>4</th>\n",
       "      <td>days_on_market</td>\n",
       "      <td>0.002626</td>\n",
       "      <td>0.013342</td>\n",
       "    </tr>\n",
       "    <tr>\n",
       "      <th>5</th>\n",
       "      <td>sqft</td>\n",
       "      <td>0.001197</td>\n",
       "      <td>0.003808</td>\n",
       "    </tr>\n",
       "    <tr>\n",
       "      <th>6</th>\n",
       "      <td>neighborhood</td>\n",
       "      <td>-0.000272</td>\n",
       "      <td>0.980925</td>\n",
       "    </tr>\n",
       "  </tbody>\n",
       "</table>\n",
       "</div>"
      ],
      "text/plain": [
       "               feature  importance   p_value\n",
       "0        initial_price    1.139217  0.000546\n",
       "1      number_of_rooms    0.064834  0.002703\n",
       "2  number_of_bathrooms    0.002851  0.004495\n",
       "3             location    0.002824  0.002970\n",
       "4       days_on_market    0.002626  0.013342\n",
       "5                 sqft    0.001197  0.003808\n",
       "6         neighborhood   -0.000272  0.980925"
      ]
     },
     "execution_count": 14,
     "metadata": {},
     "output_type": "execute_result"
    }
   ],
   "source": [
    "evaluation = result[\"data\"][\"evaluate\"]\n",
    "metrics = evaluation[\"metrics\"]\n",
    "print(metrics)\n",
    "pd.DataFrame(result[\"data\"][\"importantFeatures\"])"
   ]
  },
  {
   "cell_type": "markdown",
   "metadata": {},
   "source": [
    "### Prediction with the generated model\n",
    "\n",
    "Finally, we showcase how we can use the generated model to make further predictions\\\n",
    "on unseen data. Here in our case we already have the values but this works for any\\\n",
    "new incoming data points."
   ]
  },
  {
   "cell_type": "code",
   "execution_count": 15,
   "metadata": {},
   "outputs": [
    {
     "name": "stderr",
     "output_type": "stream",
     "text": [
      "\n",
      "A value is trying to be set on a copy of a slice from a DataFrame.\n",
      "Try using .loc[row_indexer,col_indexer] = value instead\n",
      "\n",
      "See the caveats in the documentation: https://pandas.pydata.org/pandas-docs/stable/user_guide/indexing.html#returning-a-view-versus-a-copy\n"
     ]
    },
    {
     "data": {
      "text/html": [
       "<div>\n",
       "<style scoped>\n",
       "    .dataframe tbody tr th:only-of-type {\n",
       "        vertical-align: middle;\n",
       "    }\n",
       "\n",
       "    .dataframe tbody tr th {\n",
       "        vertical-align: top;\n",
       "    }\n",
       "\n",
       "    .dataframe thead th {\n",
       "        text-align: right;\n",
       "    }\n",
       "</style>\n",
       "<table border=\"1\" class=\"dataframe\">\n",
       "  <thead>\n",
       "    <tr style=\"text-align: right;\">\n",
       "      <th></th>\n",
       "      <th>number_of_rooms</th>\n",
       "      <th>number_of_bathrooms</th>\n",
       "      <th>sqft</th>\n",
       "      <th>location</th>\n",
       "      <th>days_on_market</th>\n",
       "      <th>initial_price</th>\n",
       "      <th>neighborhood</th>\n",
       "      <th>rental_price</th>\n",
       "      <th>Predicted rental_price</th>\n",
       "    </tr>\n",
       "  </thead>\n",
       "  <tbody>\n",
       "    <tr>\n",
       "      <th>80</th>\n",
       "      <td>0</td>\n",
       "      <td>1</td>\n",
       "      <td>245</td>\n",
       "      <td>great</td>\n",
       "      <td>4</td>\n",
       "      <td>2094</td>\n",
       "      <td>south_side</td>\n",
       "      <td>2094.000</td>\n",
       "      <td>2100.277100</td>\n",
       "    </tr>\n",
       "    <tr>\n",
       "      <th>81</th>\n",
       "      <td>3</td>\n",
       "      <td>2</td>\n",
       "      <td>1216</td>\n",
       "      <td>great</td>\n",
       "      <td>5</td>\n",
       "      <td>5495</td>\n",
       "      <td>south_side</td>\n",
       "      <td>5495.000</td>\n",
       "      <td>5282.261230</td>\n",
       "    </tr>\n",
       "    <tr>\n",
       "      <th>82</th>\n",
       "      <td>0</td>\n",
       "      <td>1</td>\n",
       "      <td>381</td>\n",
       "      <td>poor</td>\n",
       "      <td>28</td>\n",
       "      <td>1483</td>\n",
       "      <td>westbrae</td>\n",
       "      <td>1459.272</td>\n",
       "      <td>1395.069336</td>\n",
       "    </tr>\n",
       "    <tr>\n",
       "      <th>83</th>\n",
       "      <td>2</td>\n",
       "      <td>1</td>\n",
       "      <td>819</td>\n",
       "      <td>great</td>\n",
       "      <td>7</td>\n",
       "      <td>3806</td>\n",
       "      <td>south_side</td>\n",
       "      <td>3806.000</td>\n",
       "      <td>3575.249756</td>\n",
       "    </tr>\n",
       "    <tr>\n",
       "      <th>84</th>\n",
       "      <td>2</td>\n",
       "      <td>1</td>\n",
       "      <td>787</td>\n",
       "      <td>good</td>\n",
       "      <td>9</td>\n",
       "      <td>3332</td>\n",
       "      <td>downtown</td>\n",
       "      <td>3332.000</td>\n",
       "      <td>3295.577881</td>\n",
       "    </tr>\n",
       "  </tbody>\n",
       "</table>\n",
       "</div>"
      ],
      "text/plain": [
       "    number_of_rooms  number_of_bathrooms  sqft location  days_on_market  \\\n",
       "80                0                    1   245    great               4   \n",
       "81                3                    2  1216    great               5   \n",
       "82                0                    1   381     poor              28   \n",
       "83                2                    1   819    great               7   \n",
       "84                2                    1   787     good               9   \n",
       "\n",
       "    initial_price neighborhood  rental_price  Predicted rental_price  \n",
       "80           2094   south_side      2094.000             2100.277100  \n",
       "81           5495   south_side      5495.000             5282.261230  \n",
       "82           1483     westbrae      1459.272             1395.069336  \n",
       "83           3806   south_side      3806.000             3575.249756  \n",
       "84           3332     downtown      3332.000             3295.577881  "
      ]
     },
     "execution_count": 15,
     "metadata": {},
     "output_type": "execute_result"
    }
   ],
   "source": [
    "model = result[\"model\"]\n",
    "prediction = model.predict(df_prediction)\n",
    "df_prediction[\"Predicted rental_price\"] = prediction\n",
    "df_prediction.head(5)"
   ]
  }
 ],
 "metadata": {
  "kernelspec": {
   "display_name": "Python 3.7.13 ('venv': venv)",
   "language": "python",
   "name": "python3"
  },
  "language_info": {
   "codemirror_mode": {
    "name": "ipython",
    "version": 3
   },
   "file_extension": ".py",
   "mimetype": "text/x-python",
   "name": "python",
   "nbconvert_exporter": "python",
   "pygments_lexer": "ipython3",
   "version": "3.7.13"
  },
  "orig_nbformat": 4,
  "vscode": {
   "interpreter": {
    "hash": "f2506a5d2a1a56acbe894b671739c3859923feb61f35b7a5615f5ca1c016a1dc"
   }
  }
 },
 "nbformat": 4,
 "nbformat_minor": 2
}
