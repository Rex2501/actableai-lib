{
 "cells": [
  {
   "cell_type": "markdown",
   "metadata": {},
   "source": [
    "<img src=\"https://docs.actable.ai/_images/logo.png\" style=\"object-fit: cover; max-width:100%; height:300px;\" />"
   ]
  },
  {
   "cell_type": "markdown",
   "metadata": {},
   "source": [
    "# AAIForecastTask\n",
    "\n",
    "This notebook is an example on how you can run a forecast automatically with\n",
    "[Actable AI](https://actable.ai)\n",
    "\n",
    "For this example we will we will try to predict the stock prices of Tesla in the\\\n",
    "near future.\n",
    "\n",
    "For this example the dataset we are going to use is the [Tesla Stock Price Dataset](https://www.kaggle.com/datasets/timoboz/tesla-stock-data-from-2010-to-2020)"
   ]
  },
  {
   "cell_type": "markdown",
   "metadata": {},
   "source": [
    "### Imports\n",
    "\n",
    "This part simply imports the python modules.\n",
    "Last line imports the ForecastTask from actableai"
   ]
  },
  {
   "cell_type": "code",
   "execution_count": 1,
   "metadata": {},
   "outputs": [],
   "source": [
    "import pandas as pd\n",
    "import numpy as np\n",
    "from matplotlib import pyplot as plt\n",
    "\n",
    "from actableai import AAIForecastTask"
   ]
  },
  {
   "cell_type": "markdown",
   "metadata": {},
   "source": [
    "### Importing the data\n",
    "\n",
    "This part imports the data."
   ]
  },
  {
   "cell_type": "code",
   "execution_count": 2,
   "metadata": {},
   "outputs": [
    {
     "data": {
      "text/html": [
       "<div>\n",
       "<style scoped>\n",
       "    .dataframe tbody tr th:only-of-type {\n",
       "        vertical-align: middle;\n",
       "    }\n",
       "\n",
       "    .dataframe tbody tr th {\n",
       "        vertical-align: top;\n",
       "    }\n",
       "\n",
       "    .dataframe thead th {\n",
       "        text-align: right;\n",
       "    }\n",
       "</style>\n",
       "<table border=\"1\" class=\"dataframe\">\n",
       "  <thead>\n",
       "    <tr style=\"text-align: right;\">\n",
       "      <th></th>\n",
       "      <th>Date</th>\n",
       "      <th>Open</th>\n",
       "      <th>High</th>\n",
       "      <th>Low</th>\n",
       "      <th>Close</th>\n",
       "      <th>Adj Close</th>\n",
       "      <th>Volume</th>\n",
       "    </tr>\n",
       "  </thead>\n",
       "  <tbody>\n",
       "    <tr>\n",
       "      <th>2216</th>\n",
       "      <td>2019-04-18</td>\n",
       "      <td>271.230011</td>\n",
       "      <td>274.839996</td>\n",
       "      <td>269.750000</td>\n",
       "      <td>273.260010</td>\n",
       "      <td>273.260010</td>\n",
       "      <td>5876300</td>\n",
       "    </tr>\n",
       "    <tr>\n",
       "      <th>2217</th>\n",
       "      <td>2019-04-22</td>\n",
       "      <td>269.000000</td>\n",
       "      <td>269.679993</td>\n",
       "      <td>262.480011</td>\n",
       "      <td>262.750000</td>\n",
       "      <td>262.750000</td>\n",
       "      <td>12147100</td>\n",
       "    </tr>\n",
       "    <tr>\n",
       "      <th>2218</th>\n",
       "      <td>2019-04-23</td>\n",
       "      <td>260.149994</td>\n",
       "      <td>265.600006</td>\n",
       "      <td>255.750000</td>\n",
       "      <td>263.899994</td>\n",
       "      <td>263.899994</td>\n",
       "      <td>10943900</td>\n",
       "    </tr>\n",
       "    <tr>\n",
       "      <th>2219</th>\n",
       "      <td>2019-04-24</td>\n",
       "      <td>263.850006</td>\n",
       "      <td>265.320007</td>\n",
       "      <td>258.000000</td>\n",
       "      <td>258.660004</td>\n",
       "      <td>258.660004</td>\n",
       "      <td>10727500</td>\n",
       "    </tr>\n",
       "    <tr>\n",
       "      <th>2220</th>\n",
       "      <td>2019-04-25</td>\n",
       "      <td>255.000000</td>\n",
       "      <td>259.000000</td>\n",
       "      <td>246.070007</td>\n",
       "      <td>247.630005</td>\n",
       "      <td>247.630005</td>\n",
       "      <td>21849400</td>\n",
       "    </tr>\n",
       "    <tr>\n",
       "      <th>...</th>\n",
       "      <td>...</td>\n",
       "      <td>...</td>\n",
       "      <td>...</td>\n",
       "      <td>...</td>\n",
       "      <td>...</td>\n",
       "      <td>...</td>\n",
       "      <td>...</td>\n",
       "    </tr>\n",
       "    <tr>\n",
       "      <th>2411</th>\n",
       "      <td>2020-01-28</td>\n",
       "      <td>568.489990</td>\n",
       "      <td>576.809998</td>\n",
       "      <td>558.080017</td>\n",
       "      <td>566.900024</td>\n",
       "      <td>566.900024</td>\n",
       "      <td>11788500</td>\n",
       "    </tr>\n",
       "    <tr>\n",
       "      <th>2412</th>\n",
       "      <td>2020-01-29</td>\n",
       "      <td>575.690002</td>\n",
       "      <td>589.799988</td>\n",
       "      <td>567.429993</td>\n",
       "      <td>580.989990</td>\n",
       "      <td>580.989990</td>\n",
       "      <td>17801500</td>\n",
       "    </tr>\n",
       "    <tr>\n",
       "      <th>2413</th>\n",
       "      <td>2020-01-30</td>\n",
       "      <td>632.419983</td>\n",
       "      <td>650.880005</td>\n",
       "      <td>618.000000</td>\n",
       "      <td>640.809998</td>\n",
       "      <td>640.809998</td>\n",
       "      <td>29005700</td>\n",
       "    </tr>\n",
       "    <tr>\n",
       "      <th>2414</th>\n",
       "      <td>2020-01-31</td>\n",
       "      <td>640.000000</td>\n",
       "      <td>653.000000</td>\n",
       "      <td>632.520020</td>\n",
       "      <td>650.570007</td>\n",
       "      <td>650.570007</td>\n",
       "      <td>15719300</td>\n",
       "    </tr>\n",
       "    <tr>\n",
       "      <th>2415</th>\n",
       "      <td>2020-02-03</td>\n",
       "      <td>673.690002</td>\n",
       "      <td>786.140015</td>\n",
       "      <td>673.520020</td>\n",
       "      <td>780.000000</td>\n",
       "      <td>780.000000</td>\n",
       "      <td>47065000</td>\n",
       "    </tr>\n",
       "  </tbody>\n",
       "</table>\n",
       "<p>200 rows × 7 columns</p>\n",
       "</div>"
      ],
      "text/plain": [
       "            Date        Open        High         Low       Close   Adj Close  \\\n",
       "2216  2019-04-18  271.230011  274.839996  269.750000  273.260010  273.260010   \n",
       "2217  2019-04-22  269.000000  269.679993  262.480011  262.750000  262.750000   \n",
       "2218  2019-04-23  260.149994  265.600006  255.750000  263.899994  263.899994   \n",
       "2219  2019-04-24  263.850006  265.320007  258.000000  258.660004  258.660004   \n",
       "2220  2019-04-25  255.000000  259.000000  246.070007  247.630005  247.630005   \n",
       "...          ...         ...         ...         ...         ...         ...   \n",
       "2411  2020-01-28  568.489990  576.809998  558.080017  566.900024  566.900024   \n",
       "2412  2020-01-29  575.690002  589.799988  567.429993  580.989990  580.989990   \n",
       "2413  2020-01-30  632.419983  650.880005  618.000000  640.809998  640.809998   \n",
       "2414  2020-01-31  640.000000  653.000000  632.520020  650.570007  650.570007   \n",
       "2415  2020-02-03  673.690002  786.140015  673.520020  780.000000  780.000000   \n",
       "\n",
       "        Volume  \n",
       "2216   5876300  \n",
       "2217  12147100  \n",
       "2218  10943900  \n",
       "2219  10727500  \n",
       "2220  21849400  \n",
       "...        ...  \n",
       "2411  11788500  \n",
       "2412  17801500  \n",
       "2413  29005700  \n",
       "2414  15719300  \n",
       "2415  47065000  \n",
       "\n",
       "[200 rows x 7 columns]"
      ]
     },
     "execution_count": 2,
     "metadata": {},
     "output_type": "execute_result"
    }
   ],
   "source": [
    "df = pd.read_csv(\"https://raw.githubusercontent.com/Actable-AI/public-datasets/master/TSLA.csv\")\n",
    "df = df.tail(200)\n",
    "df"
   ]
  },
  {
   "cell_type": "markdown",
   "metadata": {},
   "source": [
    "### Calling Actable AI task\n",
    "\n",
    "This part is the call to the ActableAI forecasting analysis.\\\n",
    "To learn more about the available parameters you can consult the [API Documentation](https://lib.actable.ai/actableai.tasks.html#actableai.tasks.forecast.AAIForecastTask.run)"
   ]
  },
  {
   "cell_type": "code",
   "execution_count": null,
   "metadata": {},
   "outputs": [],
   "source": [
    "result = AAIForecastTask().run(\n",
    "    df=df,\n",
    "    prediction_length=20,\n",
    "    date_column=\"Date\",\n",
    "    predicted_columns=[\"Close\"]\n",
    ")\n",
    "result"
   ]
  },
  {
   "cell_type": "markdown",
   "metadata": {},
   "source": [
    "### Evaluation of the generated model\n",
    "\n",
    "In this part we take a look at the metrics created by the model on the validation set.\\\n",
    "The validation set is created internally so you dont need to specify it."
   ]
  },
  {
   "cell_type": "code",
   "execution_count": 4,
   "metadata": {},
   "outputs": [
    {
     "name": "stderr",
     "output_type": "stream",
     "text": [
      "/home/mehdi/actableai-lib/venv/lib/python3.7/site-packages/ipykernel_launcher.py:11: SettingWithCopyWarning: \n",
      "A value is trying to be set on a copy of a slice from a DataFrame.\n",
      "Try using .loc[row_indexer,col_indexer] = value instead\n",
      "\n",
      "See the caveats in the documentation: https://pandas.pydata.org/pandas-docs/stable/user_guide/indexing.html#returning-a-view-versus-a-copy\n",
      "  # This is added back by InteractiveShellApp.init_path()\n"
     ]
    },
    {
     "data": {
      "text/plain": [
       "<AxesSubplot:xlabel='Date', ylabel='Close'>"
      ]
     },
     "execution_count": 4,
     "metadata": {},
     "output_type": "execute_result"
    },
    {
     "data": {
      "image/png": "[encoded data removed]",
      "text/plain": [
       "<Figure size 842.4x595.44 with 1 Axes>"
      ]
     },
     "metadata": {},
     "output_type": "display_data"
    }
   ],
   "source": [
    "import matplotlib.pyplot as plt\n",
    "import seaborn as sns\n",
    "\n",
    "%matplotlib inline\n",
    "sns.set_theme()\n",
    "sns.set(rc={'figure.figsize':(11.7,8.27)})\n",
    "\n",
    "new_dates = result[\"data_v2\"][\"predict\"][\"Date\"]\n",
    "new_close = result[\"data_v2\"][\"predict\"][\"0.5\"]\n",
    "df_plot = df[[\"Date\", \"Close\"]]\n",
    "df_plot[\"color\"] = \"g\"\n",
    "df_plot = df_plot.append(\n",
    "    pd.DataFrame({\n",
    "        \"Date\": new_dates,\n",
    "        \"Close\": new_close,\n",
    "        \"color\": [\"r\" for _ in new_close]\n",
    "    })\n",
    ")\n",
    "\n",
    "df_plot[\"Date\"] = pd.to_datetime(df_plot[\"Date\"])\n",
    "\n",
    "sns.lineplot(\n",
    "    data=df_plot,\n",
    "    x=\"Date\",\n",
    "    y=\"Close\",\n",
    "    hue=\"color\"\n",
    ")"
   ]
  }
 ],
 "metadata": {
  "kernelspec": {
   "display_name": "Python 3.7.13 ('venv': venv)",
   "language": "python",
   "name": "python3"
  },
  "language_info": {
   "codemirror_mode": {
    "name": "ipython",
    "version": 3
   },
   "file_extension": ".py",
   "mimetype": "text/x-python",
   "name": "python",
   "nbconvert_exporter": "python",
   "pygments_lexer": "ipython3",
   "version": "3.7.13"
  },
  "orig_nbformat": 4,
  "vscode": {
   "interpreter": {
    "hash": "c256946009b6d463502efae7f857e4995f38d81e9717a8754436e094e686e044"
   }
  }
 },
 "nbformat": 4,
 "nbformat_minor": 2
}
