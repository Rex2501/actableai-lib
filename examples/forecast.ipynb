{
 "cells": [
  {
   "cell_type": "markdown",
   "metadata": {},
   "source": [
    "<img src=\"https://docs.actable.ai/_images/logo.png\" style=\"object-fit: cover; max-width:100%; height:300px;\" />"
   ]
  },
  {
   "cell_type": "markdown",
   "metadata": {},
   "source": [
    "# AAIForecastTask\n",
    "\n",
    "This notebook is an example on how you can run a forecast automatically with\n",
    "[Actable AI](https://actable.ai)\n",
    "\n",
    "For this example we will we will try to predict the stock prices of Tesla in the\\\n",
    "near future.\n",
    "\n",
    "For this example the dataset we are going to use is the [Tesla Stock Price Dataset](https://www.kaggle.com/datasets/timoboz/tesla-stock-data-from-2010-to-2020)"
   ]
  },
  {
   "cell_type": "markdown",
   "metadata": {},
   "source": [
    "### Imports\n",
    "\n",
    "This part simply imports the python modules.\n",
    "Last line imports the ClassificationTask from actableai"
   ]
  },
  {
   "cell_type": "code",
   "execution_count": null,
   "metadata": {},
   "outputs": [],
   "source": [
    "import pandas as pd\n",
    "import numpy as np\n",
    "from matplotlib import pyplot as plt\n",
    "\n",
    "from actableai import AAIForecastTask"
   ]
  },
  {
   "cell_type": "markdown",
   "metadata": {},
   "source": [
    "### Importing the data\n",
    "\n",
    "This part imports the data."
   ]
  },
  {
   "cell_type": "code",
   "execution_count": null,
   "metadata": {},
   "outputs": [],
   "source": [
    "df = pd.read_csv(\"https://raw.githubusercontent.com/Actable-AI/public-datasets/master/TSLA.csv\")\n",
    "df = df.tail(200)\n",
    "df"
   ]
  },
  {
   "cell_type": "markdown",
   "metadata": {},
   "source": [
    "### Calling Actable AI task\n",
    "\n",
    "This part is the call to the ActableAI forecasting analysis.\\\n",
    "To learn more about the available parameters you can consult the [API Documentation](https://lib.actable.ai/actableai.tasks.html#actableai.tasks.forecast.AAIForecastTask.run)"
   ]
  },
  {
   "cell_type": "code",
   "execution_count": null,
   "metadata": {},
   "outputs": [],
   "source": [
    "result = AAIForecastTask().run(\n",
    "    df=df,\n",
    "    prediction_length=20,\n",
    "    date_column=\"Date\",\n",
    "    predicted_columns=[\"Close\"]\n",
    ")\n",
    "result"
   ]
  },
  {
   "cell_type": "markdown",
   "metadata": {},
   "source": [
    "### Evaluation of the generated model\n",
    "\n",
    "In this part we take a look at the metrics created by the model on the validation set.\\\n",
    "The validation set is created internally so you dont need to specify it."
   ]
  },
  {
   "cell_type": "code",
   "execution_count": null,
   "metadata": {},
   "outputs": [],
   "source": [
    "new_dates = result[\"data_v2\"][\"predict\"][\"Date\"]\n",
    "new_close = result[\"data_v2\"][\"predict\"][\"0.5\"]\n",
    "df_plot = df[[\"Date\", \"Close\"]]\n",
    "df_plot[\"color\"] = \"g\"\n",
    "df_plot = df_plot.append(\n",
    "    pd.DataFrame({\n",
    "        \"Date\": new_dates,\n",
    "        \"Close\": new_close,\n",
    "        \"color\": [\"r\" for _ in new_close]\n",
    "    })\n",
    ")\n",
    "df_plot[\"Date\"] = df_plot[\"Date\"].astype('datetime64[ns]')\n",
    "df_plot = df_plot.set_index(\"Date\").sort_index()\n",
    "df_plot.plot(color=list(df_plot[\"color\"]))\n",
    "df_plot"
   ]
  },
  {
   "cell_type": "code",
   "execution_count": null,
   "metadata": {},
   "outputs": [],
   "source": []
  }
 ],
 "metadata": {
  "kernelspec": {
   "display_name": "Python 3.7.13 ('venv': venv)",
   "language": "python",
   "name": "python3"
  },
  "language_info": {
   "codemirror_mode": {
    "name": "ipython",
    "version": 3
   },
   "file_extension": ".py",
   "mimetype": "text/x-python",
   "name": "python",
   "nbconvert_exporter": "python",
   "pygments_lexer": "ipython3",
   "version": "3.7.13"
  },
  "orig_nbformat": 4,
  "vscode": {
   "interpreter": {
    "hash": "c256946009b6d463502efae7f857e4995f38d81e9717a8754436e094e686e044"
   }
  }
 },
 "nbformat": 4,
 "nbformat_minor": 2
}
