{
 "cells": [
  {
   "cell_type": "markdown",
   "metadata": {},
   "source": [
    "<img src=\"https://docs.actable.ai/_images/logo.png\" style=\"object-fit: cover; max-width:100%; height:300px;\" />"
   ]
  },
  {
   "cell_type": "markdown",
   "metadata": {},
   "source": [
    "# AAIDataImputationTask\n",
    "\n",
    "This notebook is an example on how you can run an automatical data imputation with\n",
    "[Actable AI](https://actable.ai)\n",
    "\n",
    "For this example we will fill the np.nan values of a DataFrame\\\n",
    "by using Machine Learning Techniques to infer the values.\n",
    "\n",
    "For this example the dataset we are going to use is the [Telco Customer Churn](https://www.kaggle.com/datasets/blastchar/telco-customer-churn)"
   ]
  },
  {
   "cell_type": "markdown",
   "metadata": {},
   "source": [
    "### Imports\n",
    "\n",
    "This part simply imports the python modules.\n",
    "Last line imports the DataImputationTask from actableai"
   ]
  },
  {
   "cell_type": "code",
   "execution_count": 1,
   "metadata": {},
   "outputs": [],
   "source": [
    "import pandas as pd\n",
    "import numpy as np\n",
    "from matplotlib import pyplot as plt\n",
    "from sklearn.metrics import confusion_matrix, ConfusionMatrixDisplay, RocCurveDisplay\n",
    "\n",
    "from actableai.tasks.data_imputation import AAIDataImputationTask"
   ]
  },
  {
   "cell_type": "markdown",
   "metadata": {},
   "source": [
    "### Importing the data\n",
    "\n",
    "This part imports the data.\\\n",
    "We will also artificially remove 5 values in random rows and columns of our DataFrame\\\n",
    "for the data imputation to infer them"
   ]
  },
  {
   "cell_type": "code",
   "execution_count": 2,
   "metadata": {},
   "outputs": [],
   "source": [
    "df = pd.read_csv(\"https://raw.githubusercontent.com/Actable-AI/public-datasets/master/apartments.csv\").head(100)\n"
   ]
  },
  {
   "cell_type": "code",
   "execution_count": 3,
   "metadata": {},
   "outputs": [],
   "source": [
    "# Randomly assign some values to np.nan\n",
    "for i in range(5):\n",
    "    df.iloc[np.random.randint(0, len(df)), np.random.randint(0, len(df.columns))] = np.nan"
   ]
  },
  {
   "cell_type": "markdown",
   "metadata": {},
   "source": [
    "### Calling Actable AI task\n",
    "\n",
    "This part is the call to the ActableAI classification analysis.\\\n",
    "To learn more about the available parameters you can consult the [API Documentation](https://lib.actable.ai/actableai.tasks.html#module-actableai.tasks.classification)"
   ]
  },
  {
   "cell_type": "code",
   "execution_count": null,
   "metadata": {},
   "outputs": [],
   "source": [
    "# Here df is the DataFrame containing our data\n",
    "# target is \"Churn\" because we want to predict the churn\n",
    "# features set to None means that we will use every single feature available\n",
    "result = AAIDataImputationTask().run(\n",
    "    df=df,\n",
    "    impute_nulls=True\n",
    ")"
   ]
  },
  {
   "cell_type": "markdown",
   "metadata": {},
   "source": [
    "### Evaluation of the generated model\n",
    "\n",
    "In this part we take a look at the metrics created by the model on the validation set.\\\n",
    "The validation set is created internally so you dont need to specify it."
   ]
  },
  {
   "cell_type": "code",
   "execution_count": 11,
   "metadata": {},
   "outputs": [
    {
     "data": {
      "text/html": [
       "<div>\n",
       "<style scoped>\n",
       "    .dataframe tbody tr th:only-of-type {\n",
       "        vertical-align: middle;\n",
       "    }\n",
       "\n",
       "    .dataframe tbody tr th {\n",
       "        vertical-align: top;\n",
       "    }\n",
       "\n",
       "    .dataframe thead th {\n",
       "        text-align: right;\n",
       "    }\n",
       "</style>\n",
       "<table border=\"1\" class=\"dataframe\">\n",
       "  <thead>\n",
       "    <tr style=\"text-align: right;\">\n",
       "      <th></th>\n",
       "      <th>number_of_rooms</th>\n",
       "      <th>number_of_bathrooms</th>\n",
       "      <th>sqft</th>\n",
       "      <th>location</th>\n",
       "      <th>days_on_market</th>\n",
       "      <th>initial_price</th>\n",
       "      <th>neighborhood</th>\n",
       "      <th>rental_price</th>\n",
       "    </tr>\n",
       "  </thead>\n",
       "  <tbody>\n",
       "    <tr>\n",
       "      <th>0</th>\n",
       "      <td>0</td>\n",
       "      <td>1</td>\n",
       "      <td>4848</td>\n",
       "      <td>great</td>\n",
       "      <td>10</td>\n",
       "      <td>2271</td>\n",
       "      <td>south_side</td>\n",
       "      <td>2271.000</td>\n",
       "    </tr>\n",
       "    <tr>\n",
       "      <th>1</th>\n",
       "      <td>1</td>\n",
       "      <td>1</td>\n",
       "      <td>674</td>\n",
       "      <td>good</td>\n",
       "      <td>1</td>\n",
       "      <td>2167</td>\n",
       "      <td>downtown</td>\n",
       "      <td>2167.000</td>\n",
       "    </tr>\n",
       "    <tr>\n",
       "      <th>2</th>\n",
       "      <td>1</td>\n",
       "      <td>1</td>\n",
       "      <td>554</td>\n",
       "      <td>poor</td>\n",
       "      <td>19</td>\n",
       "      <td>1883</td>\n",
       "      <td>westbrae</td>\n",
       "      <td>1883.000</td>\n",
       "    </tr>\n",
       "    <tr>\n",
       "      <th>3</th>\n",
       "      <td>0</td>\n",
       "      <td>1</td>\n",
       "      <td>529</td>\n",
       "      <td>great</td>\n",
       "      <td>3</td>\n",
       "      <td>2431</td>\n",
       "      <td>south_side</td>\n",
       "      <td>2431.000</td>\n",
       "    </tr>\n",
       "    <tr>\n",
       "      <th>4</th>\n",
       "      <td>3</td>\n",
       "      <td>2</td>\n",
       "      <td>1219</td>\n",
       "      <td>great</td>\n",
       "      <td>3</td>\n",
       "      <td>5510</td>\n",
       "      <td>south_side</td>\n",
       "      <td>5510.000</td>\n",
       "    </tr>\n",
       "    <tr>\n",
       "      <th>...</th>\n",
       "      <td>...</td>\n",
       "      <td>...</td>\n",
       "      <td>...</td>\n",
       "      <td>...</td>\n",
       "      <td>...</td>\n",
       "      <td>...</td>\n",
       "      <td>...</td>\n",
       "      <td>...</td>\n",
       "    </tr>\n",
       "    <tr>\n",
       "      <th>95</th>\n",
       "      <td>1</td>\n",
       "      <td>1</td>\n",
       "      <td>588</td>\n",
       "      <td>good</td>\n",
       "      <td>14</td>\n",
       "      <td>1961</td>\n",
       "      <td>downtown</td>\n",
       "      <td>1961.000</td>\n",
       "    </tr>\n",
       "    <tr>\n",
       "      <th>96</th>\n",
       "      <td>0</td>\n",
       "      <td>1</td>\n",
       "      <td>334</td>\n",
       "      <td>poor</td>\n",
       "      <td>48</td>\n",
       "      <td>1243</td>\n",
       "      <td>westbrae</td>\n",
       "      <td>1173.392</td>\n",
       "    </tr>\n",
       "    <tr>\n",
       "      <th>97</th>\n",
       "      <td>2</td>\n",
       "      <td>1</td>\n",
       "      <td>736</td>\n",
       "      <td>great</td>\n",
       "      <td>2</td>\n",
       "      <td>3854</td>\n",
       "      <td>south_side</td>\n",
       "      <td>3854.000</td>\n",
       "    </tr>\n",
       "    <tr>\n",
       "      <th>98</th>\n",
       "      <td>3</td>\n",
       "      <td>2</td>\n",
       "      <td>1056</td>\n",
       "      <td>poor</td>\n",
       "      <td>54</td>\n",
       "      <td>4408</td>\n",
       "      <td>westbrae</td>\n",
       "      <td>4108.256</td>\n",
       "    </tr>\n",
       "    <tr>\n",
       "      <th>99</th>\n",
       "      <td>1</td>\n",
       "      <td>1</td>\n",
       "      <td>625</td>\n",
       "      <td>great</td>\n",
       "      <td>2</td>\n",
       "      <td>2578</td>\n",
       "      <td>south_side</td>\n",
       "      <td>2578.000</td>\n",
       "    </tr>\n",
       "  </tbody>\n",
       "</table>\n",
       "<p>100 rows × 8 columns</p>\n",
       "</div>"
      ],
      "text/plain": [
       "   number_of_rooms number_of_bathrooms  sqft location days_on_market  \\\n",
       "0                0                   1  4848    great             10   \n",
       "1                1                   1   674     good              1   \n",
       "2                1                   1   554     poor             19   \n",
       "3                0                   1   529    great              3   \n",
       "4                3                   2  1219    great              3   \n",
       "..             ...                 ...   ...      ...            ...   \n",
       "95               1                   1   588     good             14   \n",
       "96               0                   1   334     poor             48   \n",
       "97               2                   1   736    great              2   \n",
       "98               3                   2  1056     poor             54   \n",
       "99               1                   1   625    great              2   \n",
       "\n",
       "   initial_price neighborhood  rental_price  \n",
       "0           2271   south_side      2271.000  \n",
       "1           2167     downtown      2167.000  \n",
       "2           1883     westbrae      1883.000  \n",
       "3           2431   south_side      2431.000  \n",
       "4           5510   south_side      5510.000  \n",
       "..           ...          ...           ...  \n",
       "95          1961     downtown      1961.000  \n",
       "96          1243     westbrae      1173.392  \n",
       "97          3854   south_side      3854.000  \n",
       "98          4408     westbrae      4108.256  \n",
       "99          2578   south_side      2578.000  \n",
       "\n",
       "[100 rows x 8 columns]"
      ]
     },
     "execution_count": 11,
     "metadata": {},
     "output_type": "execute_result"
    }
   ],
   "source": [
    "pd.DataFrame.from_records([x[\"text\"] for x in result['data']['records']])"
   ]
  },
  {
   "cell_type": "code",
   "execution_count": 21,
   "metadata": {},
   "outputs": [
    {
     "data": {
      "text/plain": [
       "False"
      ]
     },
     "execution_count": 21,
     "metadata": {},
     "output_type": "execute_result"
    }
   ],
   "source": [
    "# Here we verifiy that our new generated DataFrame has no np.nan values\n",
    "pd.DataFrame.from_records([x[\"text\"] for x in result['data']['records']]).isna().any().any()"
   ]
  }
 ],
 "metadata": {
  "kernelspec": {
   "display_name": "Python 3.7.13 ('venv': venv)",
   "language": "python",
   "name": "python3"
  },
  "language_info": {
   "codemirror_mode": {
    "name": "ipython",
    "version": 3
   },
   "file_extension": ".py",
   "mimetype": "text/x-python",
   "name": "python",
   "nbconvert_exporter": "python",
   "pygments_lexer": "ipython3",
   "version": "3.7.13"
  },
  "orig_nbformat": 4,
  "vscode": {
   "interpreter": {
    "hash": "c256946009b6d463502efae7f857e4995f38d81e9717a8754436e094e686e044"
   }
  }
 },
 "nbformat": 4,
 "nbformat_minor": 2
}
