{
 "cells": [
  {
   "cell_type": "code",
   "execution_count": 1,
   "metadata": {},
   "outputs": [
    {
     "ename": "ModuleNotFoundError",
     "evalue": "No module named 'mxnet'",
     "output_type": "error",
     "traceback": [
      "\u001b[0;31m---------------------------------------------------------------------------\u001b[0m",
      "\u001b[0;31mModuleNotFoundError\u001b[0m                       Traceback (most recent call last)",
      "\u001b[0;32m<ipython-input-1-0e7b8eb9fc77>\u001b[0m in \u001b[0;36m<module>\u001b[0;34m\u001b[0m\n\u001b[1;32m      1\u001b[0m \u001b[0mget_ipython\u001b[0m\u001b[0;34m(\u001b[0m\u001b[0;34m)\u001b[0m\u001b[0;34m.\u001b[0m\u001b[0mrun_line_magic\u001b[0m\u001b[0;34m(\u001b[0m\u001b[0;34m'load_ext'\u001b[0m\u001b[0;34m,\u001b[0m \u001b[0;34m'autoreload'\u001b[0m\u001b[0;34m)\u001b[0m\u001b[0;34m\u001b[0m\u001b[0;34m\u001b[0m\u001b[0m\n\u001b[1;32m      2\u001b[0m \u001b[0mget_ipython\u001b[0m\u001b[0;34m(\u001b[0m\u001b[0;34m)\u001b[0m\u001b[0;34m.\u001b[0m\u001b[0mrun_line_magic\u001b[0m\u001b[0;34m(\u001b[0m\u001b[0;34m'autoreload'\u001b[0m\u001b[0;34m,\u001b[0m \u001b[0;34m'1'\u001b[0m\u001b[0;34m)\u001b[0m\u001b[0;34m\u001b[0m\u001b[0;34m\u001b[0m\u001b[0m\n\u001b[0;32m----> 3\u001b[0;31m \u001b[0mget_ipython\u001b[0m\u001b[0;34m(\u001b[0m\u001b[0;34m)\u001b[0m\u001b[0;34m.\u001b[0m\u001b[0mrun_line_magic\u001b[0m\u001b[0;34m(\u001b[0m\u001b[0;34m'aimport'\u001b[0m\u001b[0;34m,\u001b[0m \u001b[0;34m'actableai.timeseries.params'\u001b[0m\u001b[0;34m)\u001b[0m\u001b[0;34m\u001b[0m\u001b[0;34m\u001b[0m\u001b[0m\n\u001b[0m\u001b[1;32m      4\u001b[0m \u001b[0mget_ipython\u001b[0m\u001b[0;34m(\u001b[0m\u001b[0;34m)\u001b[0m\u001b[0;34m.\u001b[0m\u001b[0mrun_line_magic\u001b[0m\u001b[0;34m(\u001b[0m\u001b[0;34m'aimport'\u001b[0m\u001b[0;34m,\u001b[0m \u001b[0;34m'actableai.timeseries.models'\u001b[0m\u001b[0;34m)\u001b[0m\u001b[0;34m\u001b[0m\u001b[0;34m\u001b[0m\u001b[0m\n\u001b[1;32m      5\u001b[0m \u001b[0;34m\u001b[0m\u001b[0m\n",
      "\u001b[0;32m~/miniconda3/envs/actableai-ml/lib/python3.7/site-packages/IPython/core/interactiveshell.py\u001b[0m in \u001b[0;36mrun_line_magic\u001b[0;34m(self, magic_name, line, _stack_depth)\u001b[0m\n\u001b[1;32m   2346\u001b[0m                 \u001b[0mkwargs\u001b[0m\u001b[0;34m[\u001b[0m\u001b[0;34m'local_ns'\u001b[0m\u001b[0;34m]\u001b[0m \u001b[0;34m=\u001b[0m \u001b[0mself\u001b[0m\u001b[0;34m.\u001b[0m\u001b[0mget_local_scope\u001b[0m\u001b[0;34m(\u001b[0m\u001b[0mstack_depth\u001b[0m\u001b[0;34m)\u001b[0m\u001b[0;34m\u001b[0m\u001b[0;34m\u001b[0m\u001b[0m\n\u001b[1;32m   2347\u001b[0m             \u001b[0;32mwith\u001b[0m \u001b[0mself\u001b[0m\u001b[0;34m.\u001b[0m\u001b[0mbuiltin_trap\u001b[0m\u001b[0;34m:\u001b[0m\u001b[0;34m\u001b[0m\u001b[0;34m\u001b[0m\u001b[0m\n\u001b[0;32m-> 2348\u001b[0;31m                 \u001b[0mresult\u001b[0m \u001b[0;34m=\u001b[0m \u001b[0mfn\u001b[0m\u001b[0;34m(\u001b[0m\u001b[0;34m*\u001b[0m\u001b[0margs\u001b[0m\u001b[0;34m,\u001b[0m \u001b[0;34m**\u001b[0m\u001b[0mkwargs\u001b[0m\u001b[0;34m)\u001b[0m\u001b[0;34m\u001b[0m\u001b[0;34m\u001b[0m\u001b[0m\n\u001b[0m\u001b[1;32m   2349\u001b[0m             \u001b[0;32mreturn\u001b[0m \u001b[0mresult\u001b[0m\u001b[0;34m\u001b[0m\u001b[0;34m\u001b[0m\u001b[0m\n\u001b[1;32m   2350\u001b[0m \u001b[0;34m\u001b[0m\u001b[0m\n",
      "\u001b[0;32m~/miniconda3/envs/actableai-ml/lib/python3.7/site-packages/decorator.py\u001b[0m in \u001b[0;36mfun\u001b[0;34m(*args, **kw)\u001b[0m\n\u001b[1;32m    230\u001b[0m             \u001b[0;32mif\u001b[0m \u001b[0;32mnot\u001b[0m \u001b[0mkwsyntax\u001b[0m\u001b[0;34m:\u001b[0m\u001b[0;34m\u001b[0m\u001b[0;34m\u001b[0m\u001b[0m\n\u001b[1;32m    231\u001b[0m                 \u001b[0margs\u001b[0m\u001b[0;34m,\u001b[0m \u001b[0mkw\u001b[0m \u001b[0;34m=\u001b[0m \u001b[0mfix\u001b[0m\u001b[0;34m(\u001b[0m\u001b[0margs\u001b[0m\u001b[0;34m,\u001b[0m \u001b[0mkw\u001b[0m\u001b[0;34m,\u001b[0m \u001b[0msig\u001b[0m\u001b[0;34m)\u001b[0m\u001b[0;34m\u001b[0m\u001b[0;34m\u001b[0m\u001b[0m\n\u001b[0;32m--> 232\u001b[0;31m             \u001b[0;32mreturn\u001b[0m \u001b[0mcaller\u001b[0m\u001b[0;34m(\u001b[0m\u001b[0mfunc\u001b[0m\u001b[0;34m,\u001b[0m \u001b[0;34m*\u001b[0m\u001b[0;34m(\u001b[0m\u001b[0mextras\u001b[0m \u001b[0;34m+\u001b[0m \u001b[0margs\u001b[0m\u001b[0;34m)\u001b[0m\u001b[0;34m,\u001b[0m \u001b[0;34m**\u001b[0m\u001b[0mkw\u001b[0m\u001b[0;34m)\u001b[0m\u001b[0;34m\u001b[0m\u001b[0;34m\u001b[0m\u001b[0m\n\u001b[0m\u001b[1;32m    233\u001b[0m     \u001b[0mfun\u001b[0m\u001b[0;34m.\u001b[0m\u001b[0m__name__\u001b[0m \u001b[0;34m=\u001b[0m \u001b[0mfunc\u001b[0m\u001b[0;34m.\u001b[0m\u001b[0m__name__\u001b[0m\u001b[0;34m\u001b[0m\u001b[0;34m\u001b[0m\u001b[0m\n\u001b[1;32m    234\u001b[0m     \u001b[0mfun\u001b[0m\u001b[0;34m.\u001b[0m\u001b[0m__doc__\u001b[0m \u001b[0;34m=\u001b[0m \u001b[0mfunc\u001b[0m\u001b[0;34m.\u001b[0m\u001b[0m__doc__\u001b[0m\u001b[0;34m\u001b[0m\u001b[0;34m\u001b[0m\u001b[0m\n",
      "\u001b[0;32m~/miniconda3/envs/actableai-ml/lib/python3.7/site-packages/IPython/core/magic.py\u001b[0m in \u001b[0;36m<lambda>\u001b[0;34m(f, *a, **k)\u001b[0m\n\u001b[1;32m    185\u001b[0m     \u001b[0;31m# but it's overkill for just that one bit of state.\u001b[0m\u001b[0;34m\u001b[0m\u001b[0;34m\u001b[0m\u001b[0;34m\u001b[0m\u001b[0m\n\u001b[1;32m    186\u001b[0m     \u001b[0;32mdef\u001b[0m \u001b[0mmagic_deco\u001b[0m\u001b[0;34m(\u001b[0m\u001b[0marg\u001b[0m\u001b[0;34m)\u001b[0m\u001b[0;34m:\u001b[0m\u001b[0;34m\u001b[0m\u001b[0;34m\u001b[0m\u001b[0m\n\u001b[0;32m--> 187\u001b[0;31m         \u001b[0mcall\u001b[0m \u001b[0;34m=\u001b[0m \u001b[0;32mlambda\u001b[0m \u001b[0mf\u001b[0m\u001b[0;34m,\u001b[0m \u001b[0;34m*\u001b[0m\u001b[0ma\u001b[0m\u001b[0;34m,\u001b[0m \u001b[0;34m**\u001b[0m\u001b[0mk\u001b[0m\u001b[0;34m:\u001b[0m \u001b[0mf\u001b[0m\u001b[0;34m(\u001b[0m\u001b[0;34m*\u001b[0m\u001b[0ma\u001b[0m\u001b[0;34m,\u001b[0m \u001b[0;34m**\u001b[0m\u001b[0mk\u001b[0m\u001b[0;34m)\u001b[0m\u001b[0;34m\u001b[0m\u001b[0;34m\u001b[0m\u001b[0m\n\u001b[0m\u001b[1;32m    188\u001b[0m \u001b[0;34m\u001b[0m\u001b[0m\n\u001b[1;32m    189\u001b[0m         \u001b[0;32mif\u001b[0m \u001b[0mcallable\u001b[0m\u001b[0;34m(\u001b[0m\u001b[0marg\u001b[0m\u001b[0;34m)\u001b[0m\u001b[0;34m:\u001b[0m\u001b[0;34m\u001b[0m\u001b[0;34m\u001b[0m\u001b[0m\n",
      "\u001b[0;32m~/miniconda3/envs/actableai-ml/lib/python3.7/site-packages/IPython/extensions/autoreload.py\u001b[0m in \u001b[0;36maimport\u001b[0;34m(self, parameter_s, stream)\u001b[0m\n\u001b[1;32m    519\u001b[0m         \u001b[0;32melse\u001b[0m\u001b[0;34m:\u001b[0m\u001b[0;34m\u001b[0m\u001b[0;34m\u001b[0m\u001b[0m\n\u001b[1;32m    520\u001b[0m             \u001b[0;32mfor\u001b[0m \u001b[0m_module\u001b[0m \u001b[0;32min\u001b[0m \u001b[0;34m(\u001b[0m\u001b[0;34m[\u001b[0m\u001b[0m_\u001b[0m\u001b[0;34m.\u001b[0m\u001b[0mstrip\u001b[0m\u001b[0;34m(\u001b[0m\u001b[0;34m)\u001b[0m \u001b[0;32mfor\u001b[0m \u001b[0m_\u001b[0m \u001b[0;32min\u001b[0m \u001b[0mmodname\u001b[0m\u001b[0;34m.\u001b[0m\u001b[0msplit\u001b[0m\u001b[0;34m(\u001b[0m\u001b[0;34m','\u001b[0m\u001b[0;34m)\u001b[0m\u001b[0;34m]\u001b[0m\u001b[0;34m)\u001b[0m\u001b[0;34m:\u001b[0m\u001b[0;34m\u001b[0m\u001b[0;34m\u001b[0m\u001b[0m\n\u001b[0;32m--> 521\u001b[0;31m                 \u001b[0mtop_module\u001b[0m\u001b[0;34m,\u001b[0m \u001b[0mtop_name\u001b[0m \u001b[0;34m=\u001b[0m \u001b[0mself\u001b[0m\u001b[0;34m.\u001b[0m\u001b[0m_reloader\u001b[0m\u001b[0;34m.\u001b[0m\u001b[0maimport_module\u001b[0m\u001b[0;34m(\u001b[0m\u001b[0m_module\u001b[0m\u001b[0;34m)\u001b[0m\u001b[0;34m\u001b[0m\u001b[0;34m\u001b[0m\u001b[0m\n\u001b[0m\u001b[1;32m    522\u001b[0m \u001b[0;34m\u001b[0m\u001b[0m\n\u001b[1;32m    523\u001b[0m                 \u001b[0;31m# Inject module to user namespace\u001b[0m\u001b[0;34m\u001b[0m\u001b[0;34m\u001b[0m\u001b[0;34m\u001b[0m\u001b[0m\n",
      "\u001b[0;32m~/miniconda3/envs/actableai-ml/lib/python3.7/site-packages/IPython/extensions/autoreload.py\u001b[0m in \u001b[0;36maimport_module\u001b[0;34m(self, module_name)\u001b[0m\n\u001b[1;32m    176\u001b[0m         \u001b[0mself\u001b[0m\u001b[0;34m.\u001b[0m\u001b[0mmark_module_reloadable\u001b[0m\u001b[0;34m(\u001b[0m\u001b[0mmodule_name\u001b[0m\u001b[0;34m)\u001b[0m\u001b[0;34m\u001b[0m\u001b[0;34m\u001b[0m\u001b[0m\n\u001b[1;32m    177\u001b[0m \u001b[0;34m\u001b[0m\u001b[0m\n\u001b[0;32m--> 178\u001b[0;31m         \u001b[0mimport_module\u001b[0m\u001b[0;34m(\u001b[0m\u001b[0mmodule_name\u001b[0m\u001b[0;34m)\u001b[0m\u001b[0;34m\u001b[0m\u001b[0;34m\u001b[0m\u001b[0m\n\u001b[0m\u001b[1;32m    179\u001b[0m         \u001b[0mtop_name\u001b[0m \u001b[0;34m=\u001b[0m \u001b[0mmodule_name\u001b[0m\u001b[0;34m.\u001b[0m\u001b[0msplit\u001b[0m\u001b[0;34m(\u001b[0m\u001b[0;34m'.'\u001b[0m\u001b[0;34m)\u001b[0m\u001b[0;34m[\u001b[0m\u001b[0;36m0\u001b[0m\u001b[0;34m]\u001b[0m\u001b[0;34m\u001b[0m\u001b[0;34m\u001b[0m\u001b[0m\n\u001b[1;32m    180\u001b[0m         \u001b[0mtop_module\u001b[0m \u001b[0;34m=\u001b[0m \u001b[0msys\u001b[0m\u001b[0;34m.\u001b[0m\u001b[0mmodules\u001b[0m\u001b[0;34m[\u001b[0m\u001b[0mtop_name\u001b[0m\u001b[0;34m]\u001b[0m\u001b[0;34m\u001b[0m\u001b[0;34m\u001b[0m\u001b[0m\n",
      "\u001b[0;32m~/miniconda3/envs/actableai-ml/lib/python3.7/importlib/__init__.py\u001b[0m in \u001b[0;36mimport_module\u001b[0;34m(name, package)\u001b[0m\n\u001b[1;32m    125\u001b[0m                 \u001b[0;32mbreak\u001b[0m\u001b[0;34m\u001b[0m\u001b[0;34m\u001b[0m\u001b[0m\n\u001b[1;32m    126\u001b[0m             \u001b[0mlevel\u001b[0m \u001b[0;34m+=\u001b[0m \u001b[0;36m1\u001b[0m\u001b[0;34m\u001b[0m\u001b[0;34m\u001b[0m\u001b[0m\n\u001b[0;32m--> 127\u001b[0;31m     \u001b[0;32mreturn\u001b[0m \u001b[0m_bootstrap\u001b[0m\u001b[0;34m.\u001b[0m\u001b[0m_gcd_import\u001b[0m\u001b[0;34m(\u001b[0m\u001b[0mname\u001b[0m\u001b[0;34m[\u001b[0m\u001b[0mlevel\u001b[0m\u001b[0;34m:\u001b[0m\u001b[0;34m]\u001b[0m\u001b[0;34m,\u001b[0m \u001b[0mpackage\u001b[0m\u001b[0;34m,\u001b[0m \u001b[0mlevel\u001b[0m\u001b[0;34m)\u001b[0m\u001b[0;34m\u001b[0m\u001b[0;34m\u001b[0m\u001b[0m\n\u001b[0m\u001b[1;32m    128\u001b[0m \u001b[0;34m\u001b[0m\u001b[0m\n\u001b[1;32m    129\u001b[0m \u001b[0;34m\u001b[0m\u001b[0m\n",
      "\u001b[0;32m~/miniconda3/envs/actableai-ml/lib/python3.7/importlib/_bootstrap.py\u001b[0m in \u001b[0;36m_gcd_import\u001b[0;34m(name, package, level)\u001b[0m\n",
      "\u001b[0;32m~/miniconda3/envs/actableai-ml/lib/python3.7/importlib/_bootstrap.py\u001b[0m in \u001b[0;36m_find_and_load\u001b[0;34m(name, import_)\u001b[0m\n",
      "\u001b[0;32m~/miniconda3/envs/actableai-ml/lib/python3.7/importlib/_bootstrap.py\u001b[0m in \u001b[0;36m_find_and_load_unlocked\u001b[0;34m(name, import_)\u001b[0m\n",
      "\u001b[0;32m~/miniconda3/envs/actableai-ml/lib/python3.7/importlib/_bootstrap.py\u001b[0m in \u001b[0;36m_load_unlocked\u001b[0;34m(spec)\u001b[0m\n",
      "\u001b[0;32m~/miniconda3/envs/actableai-ml/lib/python3.7/importlib/_bootstrap_external.py\u001b[0m in \u001b[0;36mexec_module\u001b[0;34m(self, module)\u001b[0m\n",
      "\u001b[0;32m~/miniconda3/envs/actableai-ml/lib/python3.7/importlib/_bootstrap.py\u001b[0m in \u001b[0;36m_call_with_frames_removed\u001b[0;34m(f, *args, **kwds)\u001b[0m\n",
      "\u001b[0;32m~/miniconda3/envs/actableai-ml/lib/python3.7/site-packages/actableai-0.1-py3.7-macosx-10.9-x86_64.egg/actableai/timeseries/params.py\u001b[0m in \u001b[0;36m<module>\u001b[0;34m\u001b[0m\n\u001b[1;32m      1\u001b[0m \u001b[0;32mfrom\u001b[0m \u001b[0mhyperopt\u001b[0m \u001b[0;32mimport\u001b[0m \u001b[0mhp\u001b[0m\u001b[0;34m\u001b[0m\u001b[0;34m\u001b[0m\u001b[0m\n\u001b[1;32m      2\u001b[0m \u001b[0;34m\u001b[0m\u001b[0m\n\u001b[0;32m----> 3\u001b[0;31m \u001b[0;32mfrom\u001b[0m \u001b[0mgluonts\u001b[0m\u001b[0;34m.\u001b[0m\u001b[0mtrainer\u001b[0m \u001b[0;32mimport\u001b[0m \u001b[0mTrainer\u001b[0m\u001b[0;34m\u001b[0m\u001b[0;34m\u001b[0m\u001b[0m\n\u001b[0m\u001b[1;32m      4\u001b[0m \u001b[0;32mfrom\u001b[0m \u001b[0mgluonts\u001b[0m\u001b[0;34m.\u001b[0m\u001b[0mmodel\u001b[0m\u001b[0;34m.\u001b[0m\u001b[0mdeepar\u001b[0m \u001b[0;32mimport\u001b[0m \u001b[0mDeepAREstimator\u001b[0m\u001b[0;34m\u001b[0m\u001b[0;34m\u001b[0m\u001b[0m\n\u001b[1;32m      5\u001b[0m \u001b[0;32mfrom\u001b[0m \u001b[0mgluonts\u001b[0m\u001b[0;34m.\u001b[0m\u001b[0mmodel\u001b[0m\u001b[0;34m.\u001b[0m\u001b[0mdeepvar\u001b[0m \u001b[0;32mimport\u001b[0m \u001b[0mDeepVAREstimator\u001b[0m\u001b[0;34m\u001b[0m\u001b[0;34m\u001b[0m\u001b[0m\n",
      "\u001b[0;32m~/miniconda3/envs/actableai-ml/lib/python3.7/site-packages/actableai-0.1-py3.7-macosx-10.9-x86_64.egg/gluonts/trainer/__init__.py\u001b[0m in \u001b[0;36m<module>\u001b[0;34m\u001b[0m\n\u001b[1;32m     13\u001b[0m \u001b[0;34m\u001b[0m\u001b[0m\n\u001b[1;32m     14\u001b[0m \u001b[0;31m# Relative imports\u001b[0m\u001b[0;34m\u001b[0m\u001b[0;34m\u001b[0m\u001b[0;34m\u001b[0m\u001b[0m\n\u001b[0;32m---> 15\u001b[0;31m \u001b[0;32mfrom\u001b[0m \u001b[0;34m.\u001b[0m \u001b[0;32mimport\u001b[0m \u001b[0mlearning_rate_scheduler\u001b[0m \u001b[0;32mas\u001b[0m \u001b[0mlrs\u001b[0m\u001b[0;34m\u001b[0m\u001b[0;34m\u001b[0m\u001b[0m\n\u001b[0m\u001b[1;32m     16\u001b[0m \u001b[0;32mfrom\u001b[0m \u001b[0;34m.\u001b[0m\u001b[0m_base\u001b[0m \u001b[0;32mimport\u001b[0m \u001b[0mTrainer\u001b[0m\u001b[0;34m\u001b[0m\u001b[0;34m\u001b[0m\u001b[0m\n\u001b[1;32m     17\u001b[0m \u001b[0;34m\u001b[0m\u001b[0m\n",
      "\u001b[0;32m~/miniconda3/envs/actableai-ml/lib/python3.7/site-packages/actableai-0.1-py3.7-macosx-10.9-x86_64.egg/gluonts/trainer/learning_rate_scheduler.py\u001b[0m in \u001b[0;36m<module>\u001b[0;34m\u001b[0m\n\u001b[1;32m     13\u001b[0m \u001b[0;34m\u001b[0m\u001b[0m\n\u001b[1;32m     14\u001b[0m \u001b[0;31m# Third-party imports\u001b[0m\u001b[0;34m\u001b[0m\u001b[0;34m\u001b[0m\u001b[0;34m\u001b[0m\u001b[0m\n\u001b[0;32m---> 15\u001b[0;31m \u001b[0;32mimport\u001b[0m \u001b[0mmxnet\u001b[0m \u001b[0;32mas\u001b[0m \u001b[0mmx\u001b[0m\u001b[0;34m\u001b[0m\u001b[0;34m\u001b[0m\u001b[0m\n\u001b[0m\u001b[1;32m     16\u001b[0m \u001b[0;32mimport\u001b[0m \u001b[0mnumpy\u001b[0m \u001b[0;32mas\u001b[0m \u001b[0mnp\u001b[0m\u001b[0;34m\u001b[0m\u001b[0;34m\u001b[0m\u001b[0m\n\u001b[1;32m     17\u001b[0m \u001b[0;34m\u001b[0m\u001b[0m\n",
      "\u001b[0;31mModuleNotFoundError\u001b[0m: No module named 'mxnet'"
     ]
    }
   ],
   "source": [
    "%load_ext autoreload\n",
    "%autoreload 1\n",
    "%aimport actableai.timeseries.params\n",
    "%aimport actableai.timeseries.models\n",
    "\n",
    "import pandas as pd\n",
    "from datetime import timedelta\n",
    "from matplotlib import pyplot as plt\n",
    "\n",
    "import ray\n",
    "import torch\n",
    "import numpy as np\n",
    "import json\n",
    "import mxnet as mx\n",
    "import json"
   ]
  },
  {
   "cell_type": "code",
   "execution_count": null,
   "metadata": {
    "scrolled": false
   },
   "outputs": [],
   "source": [
    "ray.init()"
   ]
  },
  {
   "cell_type": "markdown",
   "metadata": {},
   "source": [
    "### Evaluate uni-variate ts forecasting"
   ]
  },
  {
   "cell_type": "code",
   "execution_count": null,
   "metadata": {},
   "outputs": [],
   "source": [
    "df = pd.read_csv(\"data/retail_sales.csv\")\n",
    "df.index = pd.to_datetime(df[\"date\"], format='%Y/%m/%d')\n",
    "df.sort_index(inplace=True)"
   ]
  },
  {
   "cell_type": "code",
   "execution_count": null,
   "metadata": {},
   "outputs": [],
   "source": [
    "from gluonts.model.r_forecast import RForecastPredictor"
   ]
  },
  {
   "cell_type": "code",
   "execution_count": null,
   "metadata": {
    "scrolled": true
   },
   "outputs": [],
   "source": [
    "prediction_length = 100\n",
    "m = actableai.timeseries.models.AAITimeseriesForecaster(\n",
    "    prediction_length, \n",
    "    mx.cpu(), \n",
    "    torch.device(\"cpu\"),\n",
    "    univariate_model_params=[\n",
    "#         actableai.timeseries.params.FeedForwardParams(epochs=1),\n",
    "#         actableai.timeseries.params.DeepARParams(\n",
    "#             num_cells=(1, 20), num_layers=(1, 3), epochs=(10, 50),\n",
    "#             context_length=(prediction_length, prediction_length*3)),\n",
    "        actableai.timeseries.params.ProphetParams(),\n",
    "#         actableai.timeseries.params.RForecastParams()\n",
    "    ])"
   ]
  },
  {
   "cell_type": "code",
   "execution_count": 6,
   "metadata": {},
   "outputs": [
    {
     "name": "stderr",
     "output_type": "stream",
     "text": [
      "2021-03-31 16:22:45,875\tWARNING function_runner.py:541 -- Function checkpointing is disabled. This may result in unexpected behavior when using checkpointing features or certain schedulers. To enable, set the train function arguments to be `func(config, checkpoint_dir=None)`.\n"
     ]
    },
    {
     "data": {
      "text/html": [
       "== Status ==<br>Memory usage on this node: 10.8/16.0 GiB<br>Using FIFO scheduling algorithm.<br>Resources requested: 1/4 CPUs, 0/0 GPUs, 0.0/3.96 GiB heap, 0.0/1.37 GiB objects<br>Result logdir: /Users/trung/ray_results/trainable_2021-03-31_16-22-45<br>Number of trials: 1/3 (1 RUNNING)<br><table>\n",
       "<thead>\n",
       "<tr><th>Trial name        </th><th>status  </th><th>loc  </th><th style=\"text-align: right;\">  model/context_length</th><th style=\"text-align: right;\">  model/epochs</th><th style=\"text-align: right;\">  model/hidden_layer_size</th><th style=\"text-align: right;\">  model/l2</th><th style=\"text-align: right;\">  model/learning_rate</th><th>model/name  </th></tr>\n",
       "</thead>\n",
       "<tbody>\n",
       "<tr><td>trainable_f2889432</td><td>RUNNING </td><td>     </td><td style=\"text-align: right;\">                    39</td><td style=\"text-align: right;\">             1</td><td style=\"text-align: right;\">                       24</td><td style=\"text-align: right;\">0.00169304</td><td style=\"text-align: right;\">           0.00387966</td><td>FeedForward </td></tr>\n",
       "</tbody>\n",
       "</table><br><br>"
      ],
      "text/plain": [
       "<IPython.core.display.HTML object>"
      ]
     },
     "metadata": {},
     "output_type": "display_data"
    },
    {
     "name": "stderr",
     "output_type": "stream",
     "text": [
      "\u001b[2m\u001b[36m(pid=84339)\u001b[0m /Users/trung/Sources/actableai-ml/gluonts/__init__.py:23: UserWarning: Module gluonts was already imported from /Users/trung/Sources/actableai-ml/gluonts/__init__.py, but /Users/trung/miniconda3/envs/actableai-ml/lib/python3.7/site-packages/gluonts-0.5.1.dev136+ga1034b0-py3.7.egg is being added to sys.path\n",
      "\u001b[2m\u001b[36m(pid=84339)\u001b[0m   __version__ = get_distribution(__name__).version\n",
      "  0%|          | 0/50 [00:00<?, ?it/s]\n"
     ]
    },
    {
     "name": "stdout",
     "output_type": "stream",
     "text": [
      "\u001b[2m\u001b[36m(pid=84339)\u001b[0m learning rate from ``lr_scheduler`` has been overwritten by ``learning_rate`` in optimizer.\n",
      "\u001b[2m\u001b[36m(pid=84339)\u001b[0m <gluonts.model.predictor.RepresentableBlockPredictor object at 0x7feb667b6590>\n",
      "Result for trainable_f2889432:\n",
      "  date: 2021-03-31_16-23-06\n",
      "  done: false\n",
      "  experiment_id: c572a3040dc44356a08afccc93e0694a\n",
      "  hostname: 192.168.1.102\n",
      "  iterations_since_restore: 1\n",
      "  mean_wQuantileLoss: 0.05098498149935836\n",
      "  node_ip: 192.168.1.102\n",
      "  pid: 84339\n",
      "  time_since_restore: 3.865018844604492\n",
      "  time_this_iter_s: 3.865018844604492\n",
      "  time_total_s: 3.865018844604492\n",
      "  timestamp: 1617204186\n",
      "  timesteps_since_restore: 0\n",
      "  training_iteration: 1\n",
      "  trial_id: f2889432\n",
      "  \n"
     ]
    },
    {
     "name": "stderr",
     "output_type": "stream",
     "text": [
      "\u001b[2m\u001b[36m(pid=84339)\u001b[0m \r",
      "100%|██████████| 50/50 [00:03<00:00, 13.62it/s, epoch=1/1, avg_epoch_loss=12.6]\n",
      "\u001b[2m\u001b[36m(pid=84339)\u001b[0m \r",
      "Running evaluation:   0%|          | 0/3 [00:00<?, ?it/s]\n",
      "\u001b[2m\u001b[36m(pid=84339)\u001b[0m \r",
      "Running evaluation: 100%|██████████| 3/3 [00:00<00:00, 23.20it/s]\n"
     ]
    },
    {
     "data": {
      "text/html": [
       "== Status ==<br>Memory usage on this node: 10.9/16.0 GiB<br>Using FIFO scheduling algorithm.<br>Resources requested: 1/4 CPUs, 0/0 GPUs, 0.0/3.96 GiB heap, 0.0/1.37 GiB objects<br>Result logdir: /Users/trung/ray_results/trainable_2021-03-31_16-22-45<br>Number of trials: 1/3 (1 RUNNING)<br><table>\n",
       "<thead>\n",
       "<tr><th>Trial name        </th><th>status  </th><th>loc      </th><th style=\"text-align: right;\">  model/context_length</th><th style=\"text-align: right;\">  model/epochs</th><th style=\"text-align: right;\">  model/hidden_layer_size</th><th style=\"text-align: right;\">  model/l2</th><th style=\"text-align: right;\">  model/learning_rate</th><th>model/name  </th><th style=\"text-align: right;\">  iter</th><th style=\"text-align: right;\">  total time (s)</th><th style=\"text-align: right;\">  mean_wQuantileLoss</th></tr>\n",
       "</thead>\n",
       "<tbody>\n",
       "<tr><td>trainable_f2889432</td><td>RUNNING </td><td>pid=84339</td><td style=\"text-align: right;\">                    39</td><td style=\"text-align: right;\">             1</td><td style=\"text-align: right;\">                       24</td><td style=\"text-align: right;\">0.00169304</td><td style=\"text-align: right;\">           0.00387966</td><td>FeedForward </td><td style=\"text-align: right;\">     1</td><td style=\"text-align: right;\">         3.86502</td><td style=\"text-align: right;\">            0.050985</td></tr>\n",
       "</tbody>\n",
       "</table><br><br>"
      ],
      "text/plain": [
       "<IPython.core.display.HTML object>"
      ]
     },
     "metadata": {},
     "output_type": "display_data"
    },
    {
     "name": "stdout",
     "output_type": "stream",
     "text": [
      "Result for trainable_f2889432:\n",
      "  date: 2021-03-31_16-23-06\n",
      "  done: true\n",
      "  experiment_id: c572a3040dc44356a08afccc93e0694a\n",
      "  experiment_tag: 1_context_length=39,epochs=1,hidden_layer_size=24,l2=0.001693,learning_rate=0.0038797,name=FeedForward\n",
      "  hostname: 192.168.1.102\n",
      "  iterations_since_restore: 1\n",
      "  mean_wQuantileLoss: 0.05098498149935836\n",
      "  node_ip: 192.168.1.102\n",
      "  pid: 84339\n",
      "  time_since_restore: 3.865018844604492\n",
      "  time_this_iter_s: 3.865018844604492\n",
      "  time_total_s: 3.865018844604492\n",
      "  timestamp: 1617204186\n",
      "  timesteps_since_restore: 0\n",
      "  training_iteration: 1\n",
      "  trial_id: f2889432\n",
      "  \n"
     ]
    },
    {
     "name": "stderr",
     "output_type": "stream",
     "text": [
      "\u001b[2m\u001b[36m(pid=84342)\u001b[0m /Users/trung/Sources/actableai-ml/gluonts/__init__.py:23: UserWarning: Module gluonts was already imported from /Users/trung/Sources/actableai-ml/gluonts/__init__.py, but /Users/trung/miniconda3/envs/actableai-ml/lib/python3.7/site-packages/gluonts-0.5.1.dev136+ga1034b0-py3.7.egg is being added to sys.path\n",
      "\u001b[2m\u001b[36m(pid=84342)\u001b[0m   __version__ = get_distribution(__name__).version\n",
      "  0%|          | 0/50 [00:00<?, ?it/s]\n"
     ]
    },
    {
     "name": "stdout",
     "output_type": "stream",
     "text": [
      "\u001b[2m\u001b[36m(pid=84342)\u001b[0m learning rate from ``lr_scheduler`` has been overwritten by ``learning_rate`` in optimizer.\n",
      "\u001b[2m\u001b[36m(pid=84342)\u001b[0m <gluonts.model.predictor.RepresentableBlockPredictor object at 0x7fbb60905950>\n",
      "Result for trainable_fe3394d0:\n",
      "  date: 2021-03-31_16-23-22\n",
      "  done: false\n",
      "  experiment_id: 077ec0de83084021a5d832254ea13d74\n",
      "  hostname: 192.168.1.102\n",
      "  iterations_since_restore: 1\n",
      "  mean_wQuantileLoss: 0.05328761430881791\n",
      "  node_ip: 192.168.1.102\n",
      "  pid: 84342\n",
      "  time_since_restore: 2.5234248638153076\n",
      "  time_this_iter_s: 2.5234248638153076\n",
      "  time_total_s: 2.5234248638153076\n",
      "  timestamp: 1617204202\n",
      "  timesteps_since_restore: 0\n",
      "  training_iteration: 1\n",
      "  trial_id: fe3394d0\n",
      "  \n"
     ]
    },
    {
     "name": "stderr",
     "output_type": "stream",
     "text": [
      "\u001b[2m\u001b[36m(pid=84342)\u001b[0m \r",
      "100%|██████████| 50/50 [00:02<00:00, 21.24it/s, epoch=1/1, avg_epoch_loss=12.7]\n",
      "\u001b[2m\u001b[36m(pid=84342)\u001b[0m \r",
      "Running evaluation:   0%|          | 0/3 [00:00<?, ?it/s]\n",
      "\u001b[2m\u001b[36m(pid=84342)\u001b[0m \r",
      "Running evaluation: 100%|██████████| 3/3 [00:00<00:00, 27.54it/s]\n"
     ]
    },
    {
     "data": {
      "text/html": [
       "== Status ==<br>Memory usage on this node: 10.8/16.0 GiB<br>Using FIFO scheduling algorithm.<br>Resources requested: 1/4 CPUs, 0/0 GPUs, 0.0/3.96 GiB heap, 0.0/1.37 GiB objects<br>Result logdir: /Users/trung/ray_results/trainable_2021-03-31_16-22-45<br>Number of trials: 2/3 (1 RUNNING, 1 TERMINATED)<br><table>\n",
       "<thead>\n",
       "<tr><th>Trial name        </th><th>status    </th><th>loc      </th><th style=\"text-align: right;\">  model/context_length</th><th style=\"text-align: right;\">  model/epochs</th><th style=\"text-align: right;\">  model/hidden_layer_size</th><th style=\"text-align: right;\">  model/l2</th><th style=\"text-align: right;\">  model/learning_rate</th><th>model/name  </th><th style=\"text-align: right;\">  iter</th><th style=\"text-align: right;\">  total time (s)</th><th style=\"text-align: right;\">  mean_wQuantileLoss</th></tr>\n",
       "</thead>\n",
       "<tbody>\n",
       "<tr><td>trainable_fe3394d0</td><td>RUNNING   </td><td>pid=84342</td><td style=\"text-align: right;\">                    56</td><td style=\"text-align: right;\">             1</td><td style=\"text-align: right;\">                       17</td><td style=\"text-align: right;\">0.00139808</td><td style=\"text-align: right;\">           0.00569348</td><td>FeedForward </td><td style=\"text-align: right;\">     1</td><td style=\"text-align: right;\">         2.52342</td><td style=\"text-align: right;\">           0.0532876</td></tr>\n",
       "<tr><td>trainable_f2889432</td><td>TERMINATED</td><td>         </td><td style=\"text-align: right;\">                    39</td><td style=\"text-align: right;\">             1</td><td style=\"text-align: right;\">                       24</td><td style=\"text-align: right;\">0.00169304</td><td style=\"text-align: right;\">           0.00387966</td><td>FeedForward </td><td style=\"text-align: right;\">     1</td><td style=\"text-align: right;\">         3.86502</td><td style=\"text-align: right;\">           0.050985 </td></tr>\n",
       "</tbody>\n",
       "</table><br><br>"
      ],
      "text/plain": [
       "<IPython.core.display.HTML object>"
      ]
     },
     "metadata": {},
     "output_type": "display_data"
    },
    {
     "name": "stdout",
     "output_type": "stream",
     "text": [
      "Result for trainable_fe3394d0:\n",
      "  date: 2021-03-31_16-23-22\n",
      "  done: true\n",
      "  experiment_id: 077ec0de83084021a5d832254ea13d74\n",
      "  experiment_tag: 2_context_length=56,epochs=1,hidden_layer_size=17,l2=0.0013981,learning_rate=0.0056935,name=FeedForward\n",
      "  hostname: 192.168.1.102\n",
      "  iterations_since_restore: 1\n",
      "  mean_wQuantileLoss: 0.05328761430881791\n",
      "  node_ip: 192.168.1.102\n",
      "  pid: 84342\n",
      "  time_since_restore: 2.5234248638153076\n",
      "  time_this_iter_s: 2.5234248638153076\n",
      "  time_total_s: 2.5234248638153076\n",
      "  timestamp: 1617204202\n",
      "  timesteps_since_restore: 0\n",
      "  training_iteration: 1\n",
      "  trial_id: fe3394d0\n",
      "  \n"
     ]
    },
    {
     "name": "stderr",
     "output_type": "stream",
     "text": [
      "\u001b[2m\u001b[36m(pid=84341)\u001b[0m /Users/trung/Sources/actableai-ml/gluonts/__init__.py:23: UserWarning: Module gluonts was already imported from /Users/trung/Sources/actableai-ml/gluonts/__init__.py, but /Users/trung/miniconda3/envs/actableai-ml/lib/python3.7/site-packages/gluonts-0.5.1.dev136+ga1034b0-py3.7.egg is being added to sys.path\n",
      "\u001b[2m\u001b[36m(pid=84341)\u001b[0m   __version__ = get_distribution(__name__).version\n",
      "  0%|          | 0/50 [00:00<?, ?it/s]\n"
     ]
    },
    {
     "name": "stdout",
     "output_type": "stream",
     "text": [
      "\u001b[2m\u001b[36m(pid=84341)\u001b[0m learning rate from ``lr_scheduler`` has been overwritten by ``learning_rate`` in optimizer.\n"
     ]
    },
    {
     "name": "stderr",
     "output_type": "stream",
     "text": [
      "\u001b[2m\u001b[36m(pid=84341)\u001b[0m \r",
      "100%|██████████| 50/50 [00:03<00:00, 14.50it/s, epoch=1/1, avg_epoch_loss=12.8]\n",
      "\u001b[2m\u001b[36m(pid=84341)\u001b[0m \r",
      "Running evaluation:   0%|          | 0/3 [00:00<?, ?it/s]\n",
      "\u001b[2m\u001b[36m(pid=84341)\u001b[0m \r",
      "Running evaluation: 100%|██████████| 3/3 [00:00<00:00, 21.56it/s]\n"
     ]
    },
    {
     "name": "stdout",
     "output_type": "stream",
     "text": [
      "\u001b[2m\u001b[36m(pid=84341)\u001b[0m <gluonts.model.predictor.RepresentableBlockPredictor object at 0x7fb2fa112390>\n",
      "Result for trainable_08046638:\n",
      "  date: 2021-03-31_16-23-38\n",
      "  done: false\n",
      "  experiment_id: 9cdac3ab0ae148a2ac895b07c1065d49\n",
      "  hostname: 192.168.1.102\n",
      "  iterations_since_restore: 1\n",
      "  mean_wQuantileLoss: 0.05283998426607167\n",
      "  node_ip: 192.168.1.102\n",
      "  pid: 84341\n",
      "  time_since_restore: 3.6724660396575928\n",
      "  time_this_iter_s: 3.6724660396575928\n",
      "  time_total_s: 3.6724660396575928\n",
      "  timestamp: 1617204218\n",
      "  timesteps_since_restore: 0\n",
      "  training_iteration: 1\n",
      "  trial_id: 08046638\n",
      "  \n"
     ]
    },
    {
     "data": {
      "text/html": [
       "== Status ==<br>Memory usage on this node: 10.7/16.0 GiB<br>Using FIFO scheduling algorithm.<br>Resources requested: 1/4 CPUs, 0/0 GPUs, 0.0/3.96 GiB heap, 0.0/1.37 GiB objects<br>Result logdir: /Users/trung/ray_results/trainable_2021-03-31_16-22-45<br>Number of trials: 3/3 (1 RUNNING, 2 TERMINATED)<br><table>\n",
       "<thead>\n",
       "<tr><th>Trial name        </th><th>status    </th><th>loc      </th><th style=\"text-align: right;\">  model/context_length</th><th style=\"text-align: right;\">  model/epochs</th><th style=\"text-align: right;\">  model/hidden_layer_size</th><th style=\"text-align: right;\">  model/l2</th><th style=\"text-align: right;\">  model/learning_rate</th><th>model/name  </th><th style=\"text-align: right;\">  iter</th><th style=\"text-align: right;\">  total time (s)</th><th style=\"text-align: right;\">  mean_wQuantileLoss</th></tr>\n",
       "</thead>\n",
       "<tbody>\n",
       "<tr><td>trainable_08046638</td><td>RUNNING   </td><td>pid=84341</td><td style=\"text-align: right;\">                    27</td><td style=\"text-align: right;\">             1</td><td style=\"text-align: right;\">                       37</td><td style=\"text-align: right;\">0.00553776</td><td style=\"text-align: right;\">           0.00907282</td><td>FeedForward </td><td style=\"text-align: right;\">     1</td><td style=\"text-align: right;\">         3.67247</td><td style=\"text-align: right;\">           0.05284  </td></tr>\n",
       "<tr><td>trainable_f2889432</td><td>TERMINATED</td><td>         </td><td style=\"text-align: right;\">                    39</td><td style=\"text-align: right;\">             1</td><td style=\"text-align: right;\">                       24</td><td style=\"text-align: right;\">0.00169304</td><td style=\"text-align: right;\">           0.00387966</td><td>FeedForward </td><td style=\"text-align: right;\">     1</td><td style=\"text-align: right;\">         3.86502</td><td style=\"text-align: right;\">           0.050985 </td></tr>\n",
       "<tr><td>trainable_fe3394d0</td><td>TERMINATED</td><td>         </td><td style=\"text-align: right;\">                    56</td><td style=\"text-align: right;\">             1</td><td style=\"text-align: right;\">                       17</td><td style=\"text-align: right;\">0.00139808</td><td style=\"text-align: right;\">           0.00569348</td><td>FeedForward </td><td style=\"text-align: right;\">     1</td><td style=\"text-align: right;\">         2.52342</td><td style=\"text-align: right;\">           0.0532876</td></tr>\n",
       "</tbody>\n",
       "</table><br><br>"
      ],
      "text/plain": [
       "<IPython.core.display.HTML object>"
      ]
     },
     "metadata": {},
     "output_type": "display_data"
    },
    {
     "name": "stdout",
     "output_type": "stream",
     "text": [
      "Result for trainable_08046638:\n",
      "  date: 2021-03-31_16-23-38\n",
      "  done: true\n",
      "  experiment_id: 9cdac3ab0ae148a2ac895b07c1065d49\n",
      "  experiment_tag: 3_context_length=27,epochs=1,hidden_layer_size=37,l2=0.0055378,learning_rate=0.0090728,name=FeedForward\n",
      "  hostname: 192.168.1.102\n",
      "  iterations_since_restore: 1\n",
      "  mean_wQuantileLoss: 0.05283998426607167\n",
      "  node_ip: 192.168.1.102\n",
      "  pid: 84341\n",
      "  time_since_restore: 3.6724660396575928\n",
      "  time_this_iter_s: 3.6724660396575928\n",
      "  time_total_s: 3.6724660396575928\n",
      "  timestamp: 1617204218\n",
      "  timesteps_since_restore: 0\n",
      "  training_iteration: 1\n",
      "  trial_id: 08046638\n",
      "  \n"
     ]
    },
    {
     "data": {
      "text/html": [
       "== Status ==<br>Memory usage on this node: 10.7/16.0 GiB<br>Using FIFO scheduling algorithm.<br>Resources requested: 0/4 CPUs, 0/0 GPUs, 0.0/3.96 GiB heap, 0.0/1.37 GiB objects<br>Result logdir: /Users/trung/ray_results/trainable_2021-03-31_16-22-45<br>Number of trials: 3/3 (3 TERMINATED)<br><table>\n",
       "<thead>\n",
       "<tr><th>Trial name        </th><th>status    </th><th>loc  </th><th style=\"text-align: right;\">  model/context_length</th><th style=\"text-align: right;\">  model/epochs</th><th style=\"text-align: right;\">  model/hidden_layer_size</th><th style=\"text-align: right;\">  model/l2</th><th style=\"text-align: right;\">  model/learning_rate</th><th>model/name  </th><th style=\"text-align: right;\">  iter</th><th style=\"text-align: right;\">  total time (s)</th><th style=\"text-align: right;\">  mean_wQuantileLoss</th></tr>\n",
       "</thead>\n",
       "<tbody>\n",
       "<tr><td>trainable_f2889432</td><td>TERMINATED</td><td>     </td><td style=\"text-align: right;\">                    39</td><td style=\"text-align: right;\">             1</td><td style=\"text-align: right;\">                       24</td><td style=\"text-align: right;\">0.00169304</td><td style=\"text-align: right;\">           0.00387966</td><td>FeedForward </td><td style=\"text-align: right;\">     1</td><td style=\"text-align: right;\">         3.86502</td><td style=\"text-align: right;\">           0.050985 </td></tr>\n",
       "<tr><td>trainable_fe3394d0</td><td>TERMINATED</td><td>     </td><td style=\"text-align: right;\">                    56</td><td style=\"text-align: right;\">             1</td><td style=\"text-align: right;\">                       17</td><td style=\"text-align: right;\">0.00139808</td><td style=\"text-align: right;\">           0.00569348</td><td>FeedForward </td><td style=\"text-align: right;\">     1</td><td style=\"text-align: right;\">         2.52342</td><td style=\"text-align: right;\">           0.0532876</td></tr>\n",
       "<tr><td>trainable_08046638</td><td>TERMINATED</td><td>     </td><td style=\"text-align: right;\">                    27</td><td style=\"text-align: right;\">             1</td><td style=\"text-align: right;\">                       37</td><td style=\"text-align: right;\">0.00553776</td><td style=\"text-align: right;\">           0.00907282</td><td>FeedForward </td><td style=\"text-align: right;\">     1</td><td style=\"text-align: right;\">         3.67247</td><td style=\"text-align: right;\">           0.05284  </td></tr>\n",
       "</tbody>\n",
       "</table><br><br>"
      ],
      "text/plain": [
       "<IPython.core.display.HTML object>"
      ]
     },
     "metadata": {},
     "output_type": "display_data"
    },
    {
     "name": "stderr",
     "output_type": "stream",
     "text": [
      "2021-03-31 16:23:38,195\tINFO tune.py:545 -- Total run time: 52.39 seconds (51.17 seconds for the tuning loop).\n",
      "  0%|          | 0/50 [00:00<?, ?it/s]"
     ]
    },
    {
     "name": "stdout",
     "output_type": "stream",
     "text": [
      "learning rate from ``lr_scheduler`` has been overwritten by ``learning_rate`` in optimizer.\n"
     ]
    },
    {
     "name": "stderr",
     "output_type": "stream",
     "text": [
      "100%|██████████| 50/50 [00:03<00:00, 13.00it/s, epoch=1/1, avg_epoch_loss=12.7]\n"
     ]
    }
   ],
   "source": [
    "m.fit(\n",
    "    df[[\"numer_retail_sales\",]], \n",
    "    trials=3, \n",
    "    max_concurrent=1,\n",
    "    loss=\"mean_wQuantileLoss\",\n",
    "    eval_samples=3,\n",
    ")"
   ]
  },
  {
   "cell_type": "code",
   "execution_count": null,
   "metadata": {},
   "outputs": [],
   "source": [
    "forecast = m.predict(df[[\"numer_retail_sales\",]][:df.shape[0] - prediction_length])\n",
    "fig, ax = plt.subplots(figsize=(12, 9))\n",
    "ax.plot(df.index, df[[\"numer_retail_sales\",]])\n",
    "ax.plot(pd.to_datetime(forecast[\"date\"]), forecast[\"values\"][0][0][\"q50\"])\n",
    "ax.fill_between(\n",
    "    pd.to_datetime(forecast[\"date\"]), \n",
    "    forecast[\"values\"][0][0][\"q5\"], \n",
    "    forecast[\"values\"][0][0][\"q95\"], \n",
    "    color='b', alpha=.1)"
   ]
  },
  {
   "cell_type": "code",
   "execution_count": 65,
   "metadata": {},
   "outputs": [
    {
     "data": {
      "text/plain": [
       "<matplotlib.collections.PolyCollection at 0x7f9d97083cd0>"
      ]
     },
     "execution_count": 65,
     "metadata": {},
     "output_type": "execute_result"
    },
    {
     "data": {
      "image/png": "[encoded data removed]",
      "text/plain": [
       "<Figure size 864x648 with 1 Axes>"
      ]
     },
     "metadata": {
      "needs_background": "light"
     },
     "output_type": "display_data"
    }
   ],
   "source": [
    "forecast = m.predict(df[[\"numer_retail_sales\",]])\n",
    "fig, ax = plt.subplots(figsize=(12, 9))\n",
    "ax.plot(df.index, df[[\"numer_retail_sales\",]])\n",
    "ax.plot(pd.to_datetime(forecast[\"date\"]), forecast[\"values\"][0][0][\"q50\"])\n",
    "ax.fill_between(\n",
    "    pd.to_datetime(forecast[\"date\"]), \n",
    "    forecast[\"values\"][0][0][\"q5\"], \n",
    "    forecast[\"values\"][0][0][\"q95\"], \n",
    "    color='b', alpha=.1)"
   ]
  },
  {
   "cell_type": "markdown",
   "metadata": {},
   "source": [
    "### Evaluate multi-variate ts forecasting"
   ]
  },
  {
   "cell_type": "code",
   "execution_count": 15,
   "metadata": {},
   "outputs": [],
   "source": [
    "df = pd.read_csv(\"data/jane_empties.csv\")"
   ]
  },
  {
   "cell_type": "code",
   "execution_count": 16,
   "metadata": {},
   "outputs": [],
   "source": [
    "df.index = pd.to_datetime(df[\"order_date\"], format='%m/%d/%Y')\n",
    "df.sort_index(inplace=True)"
   ]
  },
  {
   "cell_type": "code",
   "execution_count": 17,
   "metadata": {},
   "outputs": [
    {
     "ename": "TypeError",
     "evalue": "__init__() got an unexpected keyword argument 'transformer_temp_flow_params'",
     "output_type": "error",
     "traceback": [
      "\u001b[0;31m---------------------------------------------------------------------------\u001b[0m",
      "\u001b[0;31mTypeError\u001b[0m                                 Traceback (most recent call last)",
      "\u001b[0;32m<ipython-input-17-2be16e42b5c2>\u001b[0m in \u001b[0;36m<module>\u001b[0;34m\u001b[0m\n\u001b[1;32m      2\u001b[0m m = actableai.timeseries.models.AAITimeseriesForecaster(\n\u001b[1;32m      3\u001b[0m     \u001b[0mprediction_length\u001b[0m\u001b[0;34m,\u001b[0m \u001b[0mmx\u001b[0m\u001b[0;34m.\u001b[0m\u001b[0mcpu\u001b[0m\u001b[0;34m(\u001b[0m\u001b[0;34m)\u001b[0m\u001b[0;34m,\u001b[0m \u001b[0mtorch\u001b[0m\u001b[0;34m.\u001b[0m\u001b[0mdevice\u001b[0m\u001b[0;34m(\u001b[0m\u001b[0;34m\"cpu\"\u001b[0m\u001b[0;34m)\u001b[0m\u001b[0;34m,\u001b[0m\u001b[0;34m\u001b[0m\u001b[0;34m\u001b[0m\u001b[0m\n\u001b[0;32m----> 4\u001b[0;31m     \u001b[0mtransformer_temp_flow_params\u001b[0m\u001b[0;34m=\u001b[0m\u001b[0mactableai\u001b[0m\u001b[0;34m.\u001b[0m\u001b[0mtimeseries\u001b[0m\u001b[0;34m.\u001b[0m\u001b[0mparams\u001b[0m\u001b[0;34m.\u001b[0m\u001b[0mTransformerTempFlowParams\u001b[0m\u001b[0;34m(\u001b[0m\u001b[0mepochs\u001b[0m\u001b[0;34m=\u001b[0m\u001b[0;36m1\u001b[0m\u001b[0;34m)\u001b[0m\u001b[0;34m,\u001b[0m\u001b[0;34m\u001b[0m\u001b[0;34m\u001b[0m\u001b[0m\n\u001b[0m\u001b[1;32m      5\u001b[0m \u001b[0;31m#     gp_var_params=actableai.timeseries.params.GPVarParams(epochs=1),\u001b[0m\u001b[0;34m\u001b[0m\u001b[0;34m\u001b[0m\u001b[0;34m\u001b[0m\u001b[0m\n\u001b[1;32m      6\u001b[0m )\n",
      "\u001b[0;31mTypeError\u001b[0m: __init__() got an unexpected keyword argument 'transformer_temp_flow_params'"
     ]
    }
   ],
   "source": [
    "prediction_length = 10\n",
    "m = actableai.timeseries.models.AAITimeseriesForecaster(\n",
    "    prediction_length, mx.cpu(), torch.device(\"cpu\"),\n",
    "    transformer_temp_flow_params=actableai.timeseries.params.TransformerTempFlowParams(epochs=1),\n",
    "#     gp_var_params=actableai.timeseries.params.GPVarParams(epochs=1),\n",
    ")"
   ]
  },
  {
   "cell_type": "code",
   "execution_count": 6,
   "metadata": {},
   "outputs": [
    {
     "name": "stderr",
     "output_type": "stream",
     "text": [
      "2020-12-26 15:56:49,204\tWARNING function_runner.py:486 -- Function checkpointing is disabled. This may result in unexpected behavior when using checkpointing features or certain schedulers. To enable, set the train function arguments to be `func(config, checkpoint_dir=None)`.\n"
     ]
    },
    {
     "data": {
      "text/html": [
       "== Status ==<br>Memory usage on this node: 11.3/16.0 GiB<br>Using FIFO scheduling algorithm.<br>Resources requested: 1/4 CPUs, 0/0 GPUs, 0.0/3.42 GiB heap, 0.0/1.17 GiB objects<br>Result logdir: /Users/trung/ray_results/trainable<br>Number of trials: 1 (1 RUNNING)<br><table>\n",
       "<thead>\n",
       "<tr><th>Trial name        </th><th>status  </th><th>loc  </th><th style=\"text-align: right;\">  model/context_length</th><th style=\"text-align: right;\">  model/d_model</th><th style=\"text-align: right;\">  model/epochs</th><th>model/flow_type  </th><th style=\"text-align: right;\">  model/l2</th><th style=\"text-align: right;\">  model/learning_rate</th><th>model/name         </th><th style=\"text-align: right;\">  model/num_heads</th></tr>\n",
       "</thead>\n",
       "<tbody>\n",
       "<tr><td>trainable_f68cf2c2</td><td>RUNNING </td><td>     </td><td style=\"text-align: right;\">                    79</td><td style=\"text-align: right;\">             16</td><td style=\"text-align: right;\">             1</td><td>MAF              </td><td style=\"text-align: right;\">0.00313251</td><td style=\"text-align: right;\">            0.0090419</td><td>TransformerTempFlow</td><td style=\"text-align: right;\">                4</td></tr>\n",
       "</tbody>\n",
       "</table><br><br>"
      ],
      "text/plain": [
       "<IPython.core.display.HTML object>"
      ]
     },
     "metadata": {},
     "output_type": "display_data"
    },
    {
     "name": "stderr",
     "output_type": "stream",
     "text": [
      "\u001b[2m\u001b[36m(pid=34923)\u001b[0m /Users/trung/Sources/actableai-ml/gluonts/__init__.py:23: UserWarning: Module gluonts was already imported from /Users/trung/Sources/actableai-ml/gluonts/__init__.py, but /Users/trung/miniconda3/envs/actableai-ml/lib/python3.7/site-packages/gluonts-0.5.1.dev136+ga1034b0-py3.7.egg is being added to sys.path\n",
      "\u001b[2m\u001b[36m(pid=34923)\u001b[0m   __version__ = get_distribution(__name__).version\n",
      "0it [00:00, ?it/s]3)\u001b[0m \n",
      "1it [00:00,  5.93it/s, avg_epoch_loss=2.12, epoch=0]\n",
      "2it [00:00,  5.69it/s, avg_epoch_loss=2.31, epoch=0]\n",
      "3it [00:00,  5.69it/s, avg_epoch_loss=2.21, epoch=0]\n",
      "4it [00:00,  5.28it/s, avg_epoch_loss=2.34, epoch=0]\n",
      "5it [00:00,  5.47it/s, avg_epoch_loss=2.26, epoch=0]\n",
      "6it [00:01,  5.16it/s, avg_epoch_loss=2.2, epoch=0] \n",
      "7it [00:01,  4.64it/s, avg_epoch_loss=2.18, epoch=0]\n",
      "8it [00:01,  4.84it/s, avg_epoch_loss=2.16, epoch=0]\n",
      "9it [00:01,  4.92it/s, avg_epoch_loss=2.13, epoch=0]\n",
      "10it [00:01,  4.90it/s, avg_epoch_loss=2.1, epoch=0]\n",
      "11it [00:02,  4.60it/s, avg_epoch_loss=2.1, epoch=0]\n",
      "12it [00:02,  4.44it/s, avg_epoch_loss=2.08, epoch=0]\n",
      "13it [00:02,  4.47it/s, avg_epoch_loss=2.07, epoch=0]\n",
      "14it [00:02,  4.47it/s, avg_epoch_loss=2.06, epoch=0]\n",
      "15it [00:03,  4.55it/s, avg_epoch_loss=2.04, epoch=0]\n",
      "16it [00:03,  4.58it/s, avg_epoch_loss=2.03, epoch=0]\n",
      "17it [00:03,  5.00it/s, avg_epoch_loss=2.02, epoch=0]\n",
      "18it [00:03,  4.31it/s, avg_epoch_loss=2.03, epoch=0]\n",
      "19it [00:03,  4.77it/s, avg_epoch_loss=2.01, epoch=0]\n",
      "20it [00:04,  5.04it/s, avg_epoch_loss=2, epoch=0]   \n",
      "21it [00:04,  5.30it/s, avg_epoch_loss=1.99, epoch=0]\n",
      "22it [00:04,  4.98it/s, avg_epoch_loss=1.99, epoch=0]\n",
      "23it [00:04,  5.13it/s, avg_epoch_loss=1.99, epoch=0]\n",
      "24it [00:04,  5.13it/s, avg_epoch_loss=1.99, epoch=0]\n",
      "25it [00:05,  5.16it/s, avg_epoch_loss=2, epoch=0]   \n",
      "26it [00:05,  5.51it/s, avg_epoch_loss=1.99, epoch=0]\n",
      "27it [00:05,  4.83it/s, avg_epoch_loss=1.99, epoch=0]\n",
      "28it [00:05,  4.85it/s, avg_epoch_loss=1.98, epoch=0]\n",
      "29it [00:06,  4.42it/s, avg_epoch_loss=1.97, epoch=0]\n",
      "30it [00:06,  4.62it/s, avg_epoch_loss=1.96, epoch=0]\n",
      "31it [00:06,  4.78it/s, avg_epoch_loss=1.95, epoch=0]\n",
      "32it [00:06,  5.00it/s, avg_epoch_loss=1.94, epoch=0]\n",
      "33it [00:06,  4.89it/s, avg_epoch_loss=1.93, epoch=0]\n",
      "34it [00:06,  5.32it/s, avg_epoch_loss=1.93, epoch=0]\n",
      "35it [00:07,  5.39it/s, avg_epoch_loss=1.92, epoch=0]\n",
      "36it [00:07,  5.74it/s, avg_epoch_loss=1.91, epoch=0]\n",
      "37it [00:07,  5.76it/s, avg_epoch_loss=1.9, epoch=0] \n",
      "38it [00:07,  6.00it/s, avg_epoch_loss=1.89, epoch=0]\n",
      "39it [00:07,  4.63it/s, avg_epoch_loss=1.89, epoch=0]\n",
      "40it [00:08,  4.64it/s, avg_epoch_loss=1.88, epoch=0]\n",
      "41it [00:08,  4.66it/s, avg_epoch_loss=1.88, epoch=0]\n",
      "42it [00:08,  4.32it/s, avg_epoch_loss=1.87, epoch=0]\n",
      "43it [00:08,  4.43it/s, avg_epoch_loss=1.87, epoch=0]\n",
      "44it [00:09,  4.67it/s, avg_epoch_loss=1.86, epoch=0]\n",
      "45it [00:09,  4.86it/s, avg_epoch_loss=1.85, epoch=0]\n",
      "46it [00:09,  5.22it/s, avg_epoch_loss=1.84, epoch=0]\n",
      "47it [00:09,  5.43it/s, avg_epoch_loss=1.84, epoch=0]\n",
      "48it [00:09,  5.54it/s, avg_epoch_loss=1.84, epoch=0]\n",
      "49it [00:09,  5.56it/s, avg_epoch_loss=1.83, epoch=0]\n",
      "50it [00:10,  5.71it/s, avg_epoch_loss=1.83, epoch=0]\n",
      "51it [00:10,  5.73it/s, avg_epoch_loss=1.82, epoch=0]\n",
      "52it [00:10,  5.93it/s, avg_epoch_loss=1.82, epoch=0]\n",
      "53it [00:10,  5.20it/s, avg_epoch_loss=1.81, epoch=0]\n",
      "54it [00:10,  4.51it/s, avg_epoch_loss=1.81, epoch=0]\n",
      "55it [00:11,  4.69it/s, avg_epoch_loss=1.81, epoch=0]\n",
      "56it [00:11,  4.88it/s, avg_epoch_loss=1.8, epoch=0] \n",
      "57it [00:11,  5.22it/s, avg_epoch_loss=1.79, epoch=0]\n",
      "58it [00:11,  5.44it/s, avg_epoch_loss=1.79, epoch=0]\n",
      "59it [00:11,  5.64it/s, avg_epoch_loss=1.79, epoch=0]\n",
      "60it [00:11,  5.70it/s, avg_epoch_loss=1.78, epoch=0]\n",
      "61it [00:12,  5.22it/s, avg_epoch_loss=1.78, epoch=0]\n",
      "62it [00:12,  5.16it/s, avg_epoch_loss=1.77, epoch=0]\n",
      "63it [00:12,  5.22it/s, avg_epoch_loss=1.77, epoch=0]\n",
      "64it [00:12,  5.17it/s, avg_epoch_loss=1.77, epoch=0]\n",
      "65it [00:12,  5.25it/s, avg_epoch_loss=1.76, epoch=0]\n",
      "66it [00:13,  5.43it/s, avg_epoch_loss=1.76, epoch=0]\n",
      "67it [00:13,  5.59it/s, avg_epoch_loss=1.76, epoch=0]\n",
      "68it [00:13,  5.57it/s, avg_epoch_loss=1.75, epoch=0]\n",
      "69it [00:13,  5.46it/s, avg_epoch_loss=1.75, epoch=0]\n",
      "70it [00:13,  5.62it/s, avg_epoch_loss=1.75, epoch=0]\n",
      "71it [00:14,  5.53it/s, avg_epoch_loss=1.75, epoch=0]\n",
      "72it [00:14,  5.56it/s, avg_epoch_loss=1.74, epoch=0]\n",
      "73it [00:14,  5.38it/s, avg_epoch_loss=1.74, epoch=0]\n",
      "74it [00:14,  5.68it/s, avg_epoch_loss=1.73, epoch=0]\n",
      "75it [00:14,  5.65it/s, avg_epoch_loss=1.73, epoch=0]\n",
      "76it [00:14,  5.70it/s, avg_epoch_loss=1.73, epoch=0]\n",
      "77it [00:15,  5.57it/s, avg_epoch_loss=1.73, epoch=0]\n",
      "78it [00:15,  5.56it/s, avg_epoch_loss=1.73, epoch=0]\n",
      "79it [00:15,  5.71it/s, avg_epoch_loss=1.72, epoch=0]\n",
      "80it [00:15,  5.49it/s, avg_epoch_loss=1.72, epoch=0]\n",
      "81it [00:15,  5.37it/s, avg_epoch_loss=1.72, epoch=0]\n",
      "82it [00:15,  5.42it/s, avg_epoch_loss=1.71, epoch=0]\n",
      "83it [00:16,  5.07it/s, avg_epoch_loss=1.71, epoch=0]\n",
      "84it [00:16,  5.32it/s, avg_epoch_loss=1.71, epoch=0]\n",
      "85it [00:16,  5.22it/s, avg_epoch_loss=1.71, epoch=0]\n",
      "86it [00:16,  5.14it/s, avg_epoch_loss=1.71, epoch=0]\n",
      "87it [00:16,  5.35it/s, avg_epoch_loss=1.7, epoch=0] \n",
      "88it [00:17,  5.50it/s, avg_epoch_loss=1.7, epoch=0]\n",
      "89it [00:17,  5.79it/s, avg_epoch_loss=1.7, epoch=0]\n",
      "90it [00:17,  5.84it/s, avg_epoch_loss=1.69, epoch=0]\n",
      "91it [00:17,  6.06it/s, avg_epoch_loss=1.69, epoch=0]\n",
      "92it [00:17,  5.99it/s, avg_epoch_loss=1.69, epoch=0]\n",
      "93it [00:17,  6.06it/s, avg_epoch_loss=1.69, epoch=0]\n",
      "94it [00:18,  5.87it/s, avg_epoch_loss=1.68, epoch=0]\n",
      "95it [00:18,  6.02it/s, avg_epoch_loss=1.68, epoch=0]\n",
      "96it [00:18,  5.95it/s, avg_epoch_loss=1.68, epoch=0]\n",
      "97it [00:18,  6.03it/s, avg_epoch_loss=1.68, epoch=0]\n",
      "98it [00:18,  5.89it/s, avg_epoch_loss=1.68, epoch=0]\n",
      "99it [00:18,  6.10it/s, avg_epoch_loss=1.67, epoch=0]\n",
      "99it [00:19,  5.07it/s, avg_epoch_loss=1.67, epoch=0]\n",
      "\u001b[2m\u001b[36m(pid=34923)\u001b[0m 2020-12-26 15:57:13,687\tERROR function_runner.py:233 -- Runner Thread raised error.\n",
      "\u001b[2m\u001b[36m(pid=34923)\u001b[0m Traceback (most recent call last):\n",
      "\u001b[2m\u001b[36m(pid=34923)\u001b[0m   File \"/Users/trung/miniconda3/envs/actableai-ml/lib/python3.7/site-packages/ray/tune/function_runner.py\", line 227, in run\n",
      "\u001b[2m\u001b[36m(pid=34923)\u001b[0m     self._entrypoint()\n",
      "\u001b[2m\u001b[36m(pid=34923)\u001b[0m   File \"/Users/trung/miniconda3/envs/actableai-ml/lib/python3.7/site-packages/ray/tune/function_runner.py\", line 290, in entrypoint\n",
      "\u001b[2m\u001b[36m(pid=34923)\u001b[0m     self._status_reporter.get_checkpoint())\n",
      "\u001b[2m\u001b[36m(pid=34923)\u001b[0m   File \"/Users/trung/miniconda3/envs/actableai-ml/lib/python3.7/site-packages/ray/tune/function_runner.py\", line 497, in _trainable_func\n",
      "\u001b[2m\u001b[36m(pid=34923)\u001b[0m     output = train_func(config)\n",
      "\u001b[2m\u001b[36m(pid=34923)\u001b[0m   File \"/Users/trung/Sources/actableai-ml/actableai/timeseries/models.py\", line 190, in trainable\n",
      "\u001b[2m\u001b[36m(pid=34923)\u001b[0m     num_samples = 100\n",
      "\u001b[2m\u001b[36m(pid=34923)\u001b[0m   File \"/Users/trung/Sources/actableai-ml/gluonts/evaluation/backtest.py\", line 67, in make_evaluation_predictions\n",
      "\u001b[2m\u001b[36m(pid=34923)\u001b[0m     lead_time = predictor.lead_time\n",
      "\u001b[2m\u001b[36m(pid=34923)\u001b[0m AttributeError: 'PTSPredictor' object has no attribute 'lead_time'\n",
      "\u001b[2m\u001b[36m(pid=34923)\u001b[0m Exception in thread Thread-2:\n",
      "\u001b[2m\u001b[36m(pid=34923)\u001b[0m Traceback (most recent call last):\n",
      "\u001b[2m\u001b[36m(pid=34923)\u001b[0m   File \"/Users/trung/miniconda3/envs/actableai-ml/lib/python3.7/threading.py\", line 926, in _bootstrap_inner\n",
      "\u001b[2m\u001b[36m(pid=34923)\u001b[0m     self.run()\n",
      "\u001b[2m\u001b[36m(pid=34923)\u001b[0m   File \"/Users/trung/miniconda3/envs/actableai-ml/lib/python3.7/site-packages/ray/tune/function_runner.py\", line 246, in run\n",
      "\u001b[2m\u001b[36m(pid=34923)\u001b[0m     raise e\n",
      "\u001b[2m\u001b[36m(pid=34923)\u001b[0m   File \"/Users/trung/miniconda3/envs/actableai-ml/lib/python3.7/site-packages/ray/tune/function_runner.py\", line 227, in run\n",
      "\u001b[2m\u001b[36m(pid=34923)\u001b[0m     self._entrypoint()\n",
      "\u001b[2m\u001b[36m(pid=34923)\u001b[0m   File \"/Users/trung/miniconda3/envs/actableai-ml/lib/python3.7/site-packages/ray/tune/function_runner.py\", line 290, in entrypoint\n",
      "\u001b[2m\u001b[36m(pid=34923)\u001b[0m     self._status_reporter.get_checkpoint())\n",
      "\u001b[2m\u001b[36m(pid=34923)\u001b[0m   File \"/Users/trung/miniconda3/envs/actableai-ml/lib/python3.7/site-packages/ray/tune/function_runner.py\", line 497, in _trainable_func\n",
      "\u001b[2m\u001b[36m(pid=34923)\u001b[0m     output = train_func(config)\n",
      "\u001b[2m\u001b[36m(pid=34923)\u001b[0m   File \"/Users/trung/Sources/actableai-ml/actableai/timeseries/models.py\", line 190, in trainable\n",
      "\u001b[2m\u001b[36m(pid=34923)\u001b[0m     num_samples = 100\n",
      "\u001b[2m\u001b[36m(pid=34923)\u001b[0m   File \"/Users/trung/Sources/actableai-ml/gluonts/evaluation/backtest.py\", line 67, in make_evaluation_predictions\n",
      "\u001b[2m\u001b[36m(pid=34923)\u001b[0m     lead_time = predictor.lead_time\n",
      "\u001b[2m\u001b[36m(pid=34923)\u001b[0m AttributeError: 'PTSPredictor' object has no attribute 'lead_time'\n",
      "\u001b[2m\u001b[36m(pid=34923)\u001b[0m \n",
      "2020-12-26 15:57:13,802\tERROR trial_runner.py:567 -- Trial trainable_f68cf2c2: Error processing event.\n",
      "Traceback (most recent call last):\n",
      "  File \"/Users/trung/miniconda3/envs/actableai-ml/lib/python3.7/site-packages/ray/tune/trial_runner.py\", line 515, in _process_trial\n",
      "    result = self.trial_executor.fetch_result(trial)\n",
      "  File \"/Users/trung/miniconda3/envs/actableai-ml/lib/python3.7/site-packages/ray/tune/ray_trial_executor.py\", line 488, in fetch_result\n",
      "    result = ray.get(trial_future[0], timeout=DEFAULT_GET_TIMEOUT)\n",
      "  File \"/Users/trung/miniconda3/envs/actableai-ml/lib/python3.7/site-packages/ray/worker.py\", line 1428, in get\n",
      "    raise value.as_instanceof_cause()\n",
      "ray.exceptions.RayTaskError(TuneError): \u001b[36mray::ImplicitFunc.train()\u001b[39m (pid=34923, ip=192.168.1.104)\n",
      "  File \"python/ray/_raylet.pyx\", line 484, in ray._raylet.execute_task\n",
      "  File \"python/ray/_raylet.pyx\", line 438, in ray._raylet.execute_task.function_executor\n",
      "  File \"/Users/trung/miniconda3/envs/actableai-ml/lib/python3.7/site-packages/ray/tune/trainable.py\", line 336, in train\n",
      "    result = self.step()\n",
      "  File \"/Users/trung/miniconda3/envs/actableai-ml/lib/python3.7/site-packages/ray/tune/function_runner.py\", line 340, in step\n",
      "    self._report_thread_runner_error(block=True)\n",
      "  File \"/Users/trung/miniconda3/envs/actableai-ml/lib/python3.7/site-packages/ray/tune/function_runner.py\", line 459, in _report_thread_runner_error\n",
      "    .format(err_tb_str)))\n",
      "ray.tune.error.TuneError: Trial raised an exception. Traceback:\n",
      "\u001b[36mray::ImplicitFunc.train()\u001b[39m (pid=34923, ip=192.168.1.104)\n",
      "  File \"/Users/trung/miniconda3/envs/actableai-ml/lib/python3.7/site-packages/ray/tune/function_runner.py\", line 227, in run\n",
      "    self._entrypoint()\n",
      "  File \"/Users/trung/miniconda3/envs/actableai-ml/lib/python3.7/site-packages/ray/tune/function_runner.py\", line 290, in entrypoint\n",
      "    self._status_reporter.get_checkpoint())\n",
      "  File \"/Users/trung/miniconda3/envs/actableai-ml/lib/python3.7/site-packages/ray/tune/function_runner.py\", line 497, in _trainable_func\n",
      "    output = train_func(config)\n",
      "  File \"/Users/trung/Sources/actableai-ml/actableai/timeseries/models.py\", line 190, in trainable\n",
      "    num_samples = 100\n",
      "  File \"/Users/trung/Sources/actableai-ml/gluonts/evaluation/backtest.py\", line 67, in make_evaluation_predictions\n",
      "    lead_time = predictor.lead_time\n",
      "AttributeError: 'PTSPredictor' object has no attribute 'lead_time'\n"
     ]
    },
    {
     "data": {
      "text/html": [
       "== Status ==<br>Memory usage on this node: 11.7/16.0 GiB<br>Using FIFO scheduling algorithm.<br>Resources requested: 0/4 CPUs, 0/0 GPUs, 0.0/3.42 GiB heap, 0.0/1.17 GiB objects<br>Result logdir: /Users/trung/ray_results/trainable<br>Number of trials: 1 (1 ERROR)<br><table>\n",
       "<thead>\n",
       "<tr><th>Trial name        </th><th>status  </th><th>loc  </th><th style=\"text-align: right;\">  model/context_length</th><th style=\"text-align: right;\">  model/d_model</th><th style=\"text-align: right;\">  model/epochs</th><th>model/flow_type  </th><th style=\"text-align: right;\">  model/l2</th><th style=\"text-align: right;\">  model/learning_rate</th><th>model/name         </th><th style=\"text-align: right;\">  model/num_heads</th></tr>\n",
       "</thead>\n",
       "<tbody>\n",
       "<tr><td>trainable_f68cf2c2</td><td>ERROR   </td><td>     </td><td style=\"text-align: right;\">                    79</td><td style=\"text-align: right;\">             16</td><td style=\"text-align: right;\">             1</td><td>MAF              </td><td style=\"text-align: right;\">0.00313251</td><td style=\"text-align: right;\">            0.0090419</td><td>TransformerTempFlow</td><td style=\"text-align: right;\">                4</td></tr>\n",
       "</tbody>\n",
       "</table><br>Number of errored trials: 1<br><table>\n",
       "<thead>\n",
       "<tr><th>Trial name        </th><th style=\"text-align: right;\">  # failures</th><th>error file                                                                                                                                                                                         </th></tr>\n",
       "</thead>\n",
       "<tbody>\n",
       "<tr><td>trainable_f68cf2c2</td><td style=\"text-align: right;\">           1</td><td>/Users/trung/ray_results/trainable/trainable_f68cf2c2_1_context_length=79,d_model=16,epochs=1,flow_type=MAF,l2=0.0031325,learning_rate=0.0090419,name=TransformerTemp_2020-12-26_15-56-49/error.txt</td></tr>\n",
       "</tbody>\n",
       "</table><br>"
      ],
      "text/plain": [
       "<IPython.core.display.HTML object>"
      ]
     },
     "metadata": {},
     "output_type": "display_data"
    },
    {
     "data": {
      "text/html": [
       "== Status ==<br>Memory usage on this node: 11.7/16.0 GiB<br>Using FIFO scheduling algorithm.<br>Resources requested: 0/4 CPUs, 0/0 GPUs, 0.0/3.42 GiB heap, 0.0/1.17 GiB objects<br>Result logdir: /Users/trung/ray_results/trainable<br>Number of trials: 1 (1 ERROR)<br><table>\n",
       "<thead>\n",
       "<tr><th>Trial name        </th><th>status  </th><th>loc  </th><th style=\"text-align: right;\">  model/context_length</th><th style=\"text-align: right;\">  model/d_model</th><th style=\"text-align: right;\">  model/epochs</th><th>model/flow_type  </th><th style=\"text-align: right;\">  model/l2</th><th style=\"text-align: right;\">  model/learning_rate</th><th>model/name         </th><th style=\"text-align: right;\">  model/num_heads</th></tr>\n",
       "</thead>\n",
       "<tbody>\n",
       "<tr><td>trainable_f68cf2c2</td><td>ERROR   </td><td>     </td><td style=\"text-align: right;\">                    79</td><td style=\"text-align: right;\">             16</td><td style=\"text-align: right;\">             1</td><td>MAF              </td><td style=\"text-align: right;\">0.00313251</td><td style=\"text-align: right;\">            0.0090419</td><td>TransformerTempFlow</td><td style=\"text-align: right;\">                4</td></tr>\n",
       "</tbody>\n",
       "</table><br>Number of errored trials: 1<br><table>\n",
       "<thead>\n",
       "<tr><th>Trial name        </th><th style=\"text-align: right;\">  # failures</th><th>error file                                                                                                                                                                                         </th></tr>\n",
       "</thead>\n",
       "<tbody>\n",
       "<tr><td>trainable_f68cf2c2</td><td style=\"text-align: right;\">           1</td><td>/Users/trung/ray_results/trainable/trainable_f68cf2c2_1_context_length=79,d_model=16,epochs=1,flow_type=MAF,l2=0.0031325,learning_rate=0.0090419,name=TransformerTemp_2020-12-26_15-56-49/error.txt</td></tr>\n",
       "</tbody>\n",
       "</table><br>"
      ],
      "text/plain": [
       "<IPython.core.display.HTML object>"
      ]
     },
     "metadata": {},
     "output_type": "display_data"
    },
    {
     "ename": "TuneError",
     "evalue": "('Trials did not complete', [trainable_f68cf2c2])",
     "output_type": "error",
     "traceback": [
      "\u001b[0;31m---------------------------------------------------------------------------\u001b[0m",
      "\u001b[0;31mTuneError\u001b[0m                                 Traceback (most recent call last)",
      "\u001b[0;32m<ipython-input-6-cf7344f490b9>\u001b[0m in \u001b[0;36m<module>\u001b[0;34m\u001b[0m\n\u001b[0;32m----> 1\u001b[0;31m \u001b[0mm\u001b[0m\u001b[0;34m.\u001b[0m\u001b[0mfit\u001b[0m\u001b[0;34m(\u001b[0m\u001b[0mdf\u001b[0m\u001b[0;34m[\u001b[0m\u001b[0;34m[\u001b[0m\u001b[0;34m\"return_customers\"\u001b[0m\u001b[0;34m,\u001b[0m \u001b[0;34m\"new_customers\"\u001b[0m\u001b[0;34m]\u001b[0m\u001b[0;34m]\u001b[0m\u001b[0;34m,\u001b[0m \u001b[0mtrials\u001b[0m\u001b[0;34m=\u001b[0m\u001b[0;36m1\u001b[0m\u001b[0;34m)\u001b[0m\u001b[0;34m\u001b[0m\u001b[0;34m\u001b[0m\u001b[0m\n\u001b[0m",
      "\u001b[0;32m~/Sources/actableai-ml/actableai/timeseries/models.py\u001b[0m in \u001b[0;36mfit\u001b[0;34m(self, df, trials, loss, tune_params, max_concurrent)\u001b[0m\n\u001b[1;32m     81\u001b[0m         \u001b[0;32melse\u001b[0m\u001b[0;34m:\u001b[0m\u001b[0;34m\u001b[0m\u001b[0;34m\u001b[0m\u001b[0m\n\u001b[1;32m     82\u001b[0m             self.predictor = self._create_multivariate_predictor(\n\u001b[0;32m---> 83\u001b[0;31m                 df, trials, loss, tune_params, max_concurrent)\n\u001b[0m\u001b[1;32m     84\u001b[0m \u001b[0;34m\u001b[0m\u001b[0m\n\u001b[1;32m     85\u001b[0m     \u001b[0;32mdef\u001b[0m \u001b[0mscore\u001b[0m\u001b[0;34m(\u001b[0m\u001b[0mself\u001b[0m\u001b[0;34m,\u001b[0m \u001b[0mdf\u001b[0m\u001b[0;34m,\u001b[0m \u001b[0mnum_samples\u001b[0m\u001b[0;34m=\u001b[0m\u001b[0;36m100\u001b[0m\u001b[0;34m,\u001b[0m \u001b[0mquantiles\u001b[0m\u001b[0;34m=\u001b[0m\u001b[0;34m[\u001b[0m\u001b[0;36m0.1\u001b[0m\u001b[0;34m,\u001b[0m \u001b[0;36m0.5\u001b[0m\u001b[0;34m,\u001b[0m \u001b[0;36m0.95\u001b[0m\u001b[0;34m]\u001b[0m\u001b[0;34m,\u001b[0m \u001b[0mnum_workers\u001b[0m\u001b[0;34m=\u001b[0m\u001b[0;36m0\u001b[0m\u001b[0;34m)\u001b[0m\u001b[0;34m:\u001b[0m\u001b[0;34m\u001b[0m\u001b[0;34m\u001b[0m\u001b[0m\n",
      "\u001b[0;32m~/Sources/actableai-ml/actableai/timeseries/models.py\u001b[0m in \u001b[0;36m_create_multivariate_predictor\u001b[0;34m(self, df, trials, loss, tune_params, max_concurrent)\u001b[0m\n\u001b[1;32m    215\u001b[0m             \u001b[0msearch_alg\u001b[0m\u001b[0;34m=\u001b[0m\u001b[0malgo\u001b[0m\u001b[0;34m,\u001b[0m\u001b[0;34m\u001b[0m\u001b[0;34m\u001b[0m\u001b[0m\n\u001b[1;32m    216\u001b[0m             \u001b[0mnum_samples\u001b[0m\u001b[0;34m=\u001b[0m\u001b[0mtrials\u001b[0m\u001b[0;34m,\u001b[0m\u001b[0;34m\u001b[0m\u001b[0;34m\u001b[0m\u001b[0m\n\u001b[0;32m--> 217\u001b[0;31m             \u001b[0;34m**\u001b[0m\u001b[0mtune_params\u001b[0m\u001b[0;34m\u001b[0m\u001b[0;34m\u001b[0m\u001b[0m\n\u001b[0m\u001b[1;32m    218\u001b[0m         )\n\u001b[1;32m    219\u001b[0m \u001b[0;34m\u001b[0m\u001b[0m\n",
      "\u001b[0;32m~/miniconda3/envs/actableai-ml/lib/python3.7/site-packages/ray/tune/tune.py\u001b[0m in \u001b[0;36mrun\u001b[0;34m(run_or_experiment, name, metric, mode, stop, time_budget_s, config, resources_per_trial, num_samples, local_dir, search_alg, scheduler, keep_checkpoints_num, checkpoint_score_attr, checkpoint_freq, checkpoint_at_end, verbose, progress_reporter, loggers, log_to_file, trial_name_creator, trial_dirname_creator, sync_config, export_formats, max_failures, fail_fast, restore, server_port, resume, queue_trials, reuse_actors, trial_executor, raise_on_failed_trial, ray_auto_init, run_errored_only, global_checkpoint_period, with_server, upload_dir, sync_to_cloud, sync_to_driver, sync_on_checkpoint)\u001b[0m\n\u001b[1;32m    425\u001b[0m     \u001b[0;32mif\u001b[0m \u001b[0mincomplete_trials\u001b[0m\u001b[0;34m:\u001b[0m\u001b[0;34m\u001b[0m\u001b[0;34m\u001b[0m\u001b[0m\n\u001b[1;32m    426\u001b[0m         \u001b[0;32mif\u001b[0m \u001b[0mraise_on_failed_trial\u001b[0m\u001b[0;34m:\u001b[0m\u001b[0;34m\u001b[0m\u001b[0;34m\u001b[0m\u001b[0m\n\u001b[0;32m--> 427\u001b[0;31m             \u001b[0;32mraise\u001b[0m \u001b[0mTuneError\u001b[0m\u001b[0;34m(\u001b[0m\u001b[0;34m\"Trials did not complete\"\u001b[0m\u001b[0;34m,\u001b[0m \u001b[0mincomplete_trials\u001b[0m\u001b[0;34m)\u001b[0m\u001b[0;34m\u001b[0m\u001b[0;34m\u001b[0m\u001b[0m\n\u001b[0m\u001b[1;32m    428\u001b[0m         \u001b[0;32melse\u001b[0m\u001b[0;34m:\u001b[0m\u001b[0;34m\u001b[0m\u001b[0;34m\u001b[0m\u001b[0m\n\u001b[1;32m    429\u001b[0m             \u001b[0mlogger\u001b[0m\u001b[0;34m.\u001b[0m\u001b[0merror\u001b[0m\u001b[0;34m(\u001b[0m\u001b[0;34m\"Trials did not complete: %s\"\u001b[0m\u001b[0;34m,\u001b[0m \u001b[0mincomplete_trials\u001b[0m\u001b[0;34m)\u001b[0m\u001b[0;34m\u001b[0m\u001b[0;34m\u001b[0m\u001b[0m\n",
      "\u001b[0;31mTuneError\u001b[0m: ('Trials did not complete', [trainable_f68cf2c2])"
     ]
    }
   ],
   "source": [
    "m.fit(df[[\"return_customers\", \"new_customers\"]], trials=1) "
   ]
  },
  {
   "cell_type": "code",
   "execution_count": 8,
   "metadata": {},
   "outputs": [
    {
     "name": "stderr",
     "output_type": "stream",
     "text": [
      "Running evaluation: 1it [00:00, 20.91it/s]\n",
      "Running evaluation: 1it [00:00, 18.01it/s]\n"
     ]
    },
    {
     "data": {
      "text/plain": [
       "{'item_metrics':    item_id       MSE  abs_error  abs_target_sum  abs_target_mean  \\\n",
       " 0      NaN  9.831557  24.319380            62.0         6.888889   \n",
       " 0      NaN  9.980836  23.542982            52.0         5.200000   \n",
       " \n",
       "    seasonal_error      MASE      MAPE     sMAPE  OWA      MSIS  \\\n",
       " 0        2.571355  1.050867  0.425025  0.429096  NaN  6.577538   \n",
       " 0        2.514672  0.936225  0.907087  0.474772  NaN  5.696017   \n",
       " \n",
       "    QuantileLoss[0.1]  Coverage[0.1]  QuantileLoss[0.5]  Coverage[0.5]  \\\n",
       " 0           9.536025            0.0          24.319380       0.555556   \n",
       " 0           9.198685            0.2          23.542981       0.700000   \n",
       " \n",
       "    QuantileLoss[0.95]  Coverage[0.95]  \n",
       " 0            7.243873             1.0  \n",
       " 0            7.411017             1.0  ,\n",
       " 'agg_metrics': {'0_MSE': 9.83155737982856,\n",
       "  '0_abs_error': 24.319379806518555,\n",
       "  '0_abs_target_sum': 62.0,\n",
       "  '0_abs_target_mean': 6.888888888888889,\n",
       "  '0_seasonal_error': 2.571354971664091,\n",
       "  '0_MASE': 1.0508674771133042,\n",
       "  '0_MAPE': 0.4250245018840238,\n",
       "  '0_sMAPE': 0.4290956333735664,\n",
       "  '0_OWA': nan,\n",
       "  '0_MSIS': 6.577537702222725,\n",
       "  '0_QuantileLoss[0.1]': 9.536024618148804,\n",
       "  '0_Coverage[0.1]': 0.0,\n",
       "  '0_QuantileLoss[0.5]': 24.319379568099976,\n",
       "  '0_Coverage[0.5]': 0.5555555555555556,\n",
       "  '0_QuantileLoss[0.95]': 7.243872928619391,\n",
       "  '0_Coverage[0.95]': 1.0,\n",
       "  '0_RMSE': 3.1355314349928882,\n",
       "  '0_NRMSE': 0.4551577889505805,\n",
       "  '0_ND': 0.39224806139546053,\n",
       "  '0_wQuantileLoss[0.1]': 0.15380684867981942,\n",
       "  '0_wQuantileLoss[0.5]': 0.3922480575499996,\n",
       "  '0_wQuantileLoss[0.95]': 0.11683666013902243,\n",
       "  '0_mean_wQuantileLoss': 0.22096385545628047,\n",
       "  '0_MAE_Coverage': 0.06851851851851855,\n",
       "  '1_MSE': 9.980835723876954,\n",
       "  '1_abs_error': 23.54298210144043,\n",
       "  '1_abs_target_sum': 52.0,\n",
       "  '1_abs_target_mean': 5.2,\n",
       "  '1_seasonal_error': 2.5146718146718148,\n",
       "  '1_MASE': 0.9362248371369678,\n",
       "  '1_MAPE': 0.9070865842274257,\n",
       "  '1_sMAPE': 0.4747715721905834,\n",
       "  '1_OWA': nan,\n",
       "  '1_MSIS': 5.6960168291159565,\n",
       "  '1_QuantileLoss[0.1]': 9.198684954643252,\n",
       "  '1_Coverage[0.1]': 0.2,\n",
       "  '1_QuantileLoss[0.5]': 23.542981147766113,\n",
       "  '1_Coverage[0.5]': 0.7,\n",
       "  '1_QuantileLoss[0.95]': 7.411016941070563,\n",
       "  '1_Coverage[0.95]': 1.0,\n",
       "  '1_RMSE': 3.1592460689026667,\n",
       "  '1_NRMSE': 0.6075473209428205,\n",
       "  '1_ND': 0.4527496557969313,\n",
       "  '1_wQuantileLoss[0.1]': 0.1768977875892933,\n",
       "  '1_wQuantileLoss[0.5]': 0.45274963745704067,\n",
       "  '1_wQuantileLoss[0.95]': 0.1425195565590493,\n",
       "  '1_mean_wQuantileLoss': 0.2573889938684611,\n",
       "  '1_MAE_Coverage': 0.11666666666666665,\n",
       "  'MSE': 9.906196551852757,\n",
       "  'abs_error': 47.862361907958984,\n",
       "  'abs_target_sum': 114.0,\n",
       "  'abs_target_mean': 6.044444444444444,\n",
       "  'seasonal_error': 2.5430133931679526,\n",
       "  'MASE': 0.993546157125136,\n",
       "  'MAPE': 0.6660555430557248,\n",
       "  'sMAPE': 0.4519336027820749,\n",
       "  'OWA': nan,\n",
       "  'MSIS': 6.136777265669341,\n",
       "  'QuantileLoss[0.1]': 18.734709572792056,\n",
       "  'Coverage[0.1]': 0.1,\n",
       "  'QuantileLoss[0.5]': 47.86236071586609,\n",
       "  'Coverage[0.5]': 0.6277777777777778,\n",
       "  'QuantileLoss[0.95]': 14.654889869689953,\n",
       "  'Coverage[0.95]': 1.0,\n",
       "  'RMSE': 3.1474110872036967,\n",
       "  'NRMSE': 0.5207113931035527,\n",
       "  'ND': 0.41984527989437703,\n",
       "  'wQuantileLoss[0.1]': 0.16433955765607067,\n",
       "  'wQuantileLoss[0.5]': 0.41984526943742184,\n",
       "  'wQuantileLoss[0.95]': 0.12855166552359606,\n",
       "  'mean_wQuantileLoss': 0.23757883087236287,\n",
       "  'MAE_Coverage': 0.05925925925925927}}"
      ]
     },
     "execution_count": 8,
     "metadata": {},
     "output_type": "execute_result"
    }
   ],
   "source": [
    "m.score(df[[\"return_customers\", \"new_customers\"]])"
   ]
  },
  {
   "cell_type": "code",
   "execution_count": null,
   "metadata": {},
   "outputs": [],
   "source": [
    "m.predict(df[[\"return_customers\", \"new_customers\"]])"
   ]
  },
  {
   "cell_type": "markdown",
   "metadata": {},
   "source": [
    "### M4"
   ]
  },
  {
   "cell_type": "code",
   "execution_count": 7,
   "metadata": {},
   "outputs": [],
   "source": [
    "# Load data\n",
    "m4_info = pd.read_csv(\"data/M4-info.csv\")\n",
    "m4_info.index = m4_info['M4id']\n",
    "m4_daily_train = pd.read_csv(\"data/Daily-train-m4.csv\")\n",
    "m4_daily_train.index = m4_daily_train['V1']\n",
    "m4_hourly_train = pd.read_csv(\"data/Hourly-train-m4.csv\")\n",
    "m4_hourly_train.index = m4_hourly_train['V1']"
   ]
  },
  {
   "cell_type": "code",
   "execution_count": 8,
   "metadata": {},
   "outputs": [],
   "source": [
    "m4_data = {'Info':m4_info,\n",
    "           'Daily':m4_daily_train,\n",
    "           'Hourly':m4_hourly_train}"
   ]
  },
  {
   "cell_type": "code",
   "execution_count": 9,
   "metadata": {},
   "outputs": [],
   "source": [
    "num1_10 = np.arange(1, 11)\n",
    "daily_series_name = ['D' + str(i) for i in num1_10]\n",
    "hourly_series_name = ['H' + str(i) for i in num1_10]\n",
    "daily_hourly_series_name = daily_series_name + hourly_series_name"
   ]
  },
  {
   "cell_type": "code",
   "execution_count": 13,
   "metadata": {},
   "outputs": [],
   "source": [
    "def run_forecast(prediction_length, prediction_column_name, df, results):\n",
    "    m = actableai.timeseries.models.AAITimeseriesForecaster(\n",
    "        prediction_length, mx.cpu(), torch.device(\"cpu\"),\n",
    "        actableai.timeseries.params.DeepARParams(\n",
    "            num_cells=(1, 20), num_layers=(1, 3), epochs=(10, 50),\n",
    "            context_length=(prediction_length, prediction_length*3)),\n",
    "        feed_forward_params=actableai.timeseries.params.FeedForwardParams(),\n",
    "        prophet_params=actableai.timeseries.params.ProphetParams(),\n",
    "        rforecast_params=actableai.timeseries.params.RForecastParams())\n",
    "    \n",
    "    m.fit(df[[prediction_column_name,]][:-prediction_length])\n",
    "    predictions = m.predict(df[[prediction_column_name,]])\n",
    "    print(predictions)\n",
    "    with open('actableai_results.json', 'w') as json_file:\n",
    "        results[prediction_column_name] = predictions[\"values\"][0][0]['q50']\n",
    "        json.dump(results, json_file)"
   ]
  },
  {
   "cell_type": "code",
   "execution_count": 14,
   "metadata": {},
   "outputs": [
    {
     "data": {
      "text/html": [
       "== Status ==<br>Memory usage on this node: 11.1/16.0 GiB<br>Using FIFO scheduling algorithm.<br>Resources requested: 1/4 CPUs, 0/0 GPUs, 0.0/4.1 GiB heap, 0.0/1.42 GiB objects<br>Result logdir: /Users/trung/ray_results/trainable<br>Number of trials: 3 (2 PENDING, 1 RUNNING)<br><table>\n",
       "<thead>\n",
       "<tr><th>Trial name        </th><th>status  </th><th>loc  </th><th style=\"text-align: right;\">  model/context_length</th><th style=\"text-align: right;\">  model/epochs</th><th style=\"text-align: right;\">  model/hidden_layer_size</th><th style=\"text-align: right;\">  model/l2</th><th style=\"text-align: right;\">  model/learning_rate</th><th>model/method_name  </th><th>model/name  </th></tr>\n",
       "</thead>\n",
       "<tbody>\n",
       "<tr><td>trainable_3ddac9b0</td><td>RUNNING </td><td>     </td><td style=\"text-align: right;\">                    47</td><td style=\"text-align: right;\">            72</td><td style=\"text-align: right;\">                       11</td><td style=\"text-align: right;\">0.00949333</td><td style=\"text-align: right;\">           0.00435757</td><td>                   </td><td>FeedForward </td></tr>\n",
       "<tr><td>trainable_3ddc166c</td><td>PENDING </td><td>     </td><td style=\"text-align: right;\">                      </td><td style=\"text-align: right;\">              </td><td style=\"text-align: right;\">                         </td><td style=\"text-align: right;\">          </td><td style=\"text-align: right;\">                     </td><td>arima              </td><td>RForecast   </td></tr>\n",
       "<tr><td>trainable_3ddd62d8</td><td>PENDING </td><td>     </td><td style=\"text-align: right;\">                      </td><td style=\"text-align: right;\">              </td><td style=\"text-align: right;\">                         </td><td style=\"text-align: right;\">          </td><td style=\"text-align: right;\">                     </td><td>ets                </td><td>RForecast   </td></tr>\n",
       "</tbody>\n",
       "</table><br><br>"
      ],
      "text/plain": [
       "<IPython.core.display.HTML object>"
      ]
     },
     "metadata": {},
     "output_type": "display_data"
    },
    {
     "name": "stderr",
     "output_type": "stream",
     "text": [
      "\u001b[2m\u001b[36m(pid=23966)\u001b[0m \r",
      "  0%|          | 0/50 [00:00<?, ?it/s]\n"
     ]
    },
    {
     "name": "stdout",
     "output_type": "stream",
     "text": [
      "\u001b[2m\u001b[36m(pid=23966)\u001b[0m learning rate from ``lr_scheduler`` has been overwritten by ``learning_rate`` in optimizer.\n",
      "Result for trainable_3ddac9b0:\n",
      "  date: 2020-12-02_15-08-44\n",
      "  done: false\n",
      "  experiment_id: cfb1a867e86c4ddf994e0132c5263961\n",
      "  experiment_tag: 1_context_length=47,epochs=72,hidden_layer_size=11,l2=0.0094933,learning_rate=0.0043576,name=FeedForward\n",
      "  hostname: Trungs-MacBook-Air.local\n",
      "  iterations_since_restore: 1\n",
      "  node_ip: 192.168.200.198\n",
      "  pid: 23966\n",
      "  time_since_restore: 1.5320231914520264\n",
      "  time_this_iter_s: 1.5320231914520264\n",
      "  time_total_s: 1.5320231914520264\n",
      "  timestamp: 1606921724\n",
      "  timesteps_since_restore: 0\n",
      "  train_loss: 7.008676586151123\n",
      "  training_iteration: 1\n",
      "  trial_id: 3ddac9b0\n",
      "  \n"
     ]
    },
    {
     "data": {
      "text/html": [
       "== Status ==<br>Memory usage on this node: 11.7/16.0 GiB<br>Using FIFO scheduling algorithm.<br>Resources requested: 3/4 CPUs, 0/0 GPUs, 0.0/4.1 GiB heap, 0.0/1.42 GiB objects<br>Result logdir: /Users/trung/ray_results/trainable<br>Number of trials: 3 (3 RUNNING)<br><table>\n",
       "<thead>\n",
       "<tr><th>Trial name        </th><th>status  </th><th>loc                  </th><th style=\"text-align: right;\">  model/context_length</th><th style=\"text-align: right;\">  model/epochs</th><th style=\"text-align: right;\">  model/hidden_layer_size</th><th style=\"text-align: right;\">  model/l2</th><th style=\"text-align: right;\">  model/learning_rate</th><th>model/method_name  </th><th>model/name  </th><th style=\"text-align: right;\">  iter</th><th style=\"text-align: right;\">  total time (s)</th><th style=\"text-align: right;\">  train_loss</th></tr>\n",
       "</thead>\n",
       "<tbody>\n",
       "<tr><td>trainable_3ddac9b0</td><td>RUNNING </td><td>192.168.200.198:23966</td><td style=\"text-align: right;\">                    47</td><td style=\"text-align: right;\">            72</td><td style=\"text-align: right;\">                       11</td><td style=\"text-align: right;\">0.00949333</td><td style=\"text-align: right;\">           0.00435757</td><td>                   </td><td>FeedForward </td><td style=\"text-align: right;\">     1</td><td style=\"text-align: right;\">         1.53202</td><td style=\"text-align: right;\">     7.00868</td></tr>\n",
       "<tr><td>trainable_3ddc166c</td><td>RUNNING </td><td>                     </td><td style=\"text-align: right;\">                      </td><td style=\"text-align: right;\">              </td><td style=\"text-align: right;\">                         </td><td style=\"text-align: right;\">          </td><td style=\"text-align: right;\">                     </td><td>arima              </td><td>RForecast   </td><td style=\"text-align: right;\">      </td><td style=\"text-align: right;\">                </td><td style=\"text-align: right;\">            </td></tr>\n",
       "<tr><td>trainable_3ddd62d8</td><td>RUNNING </td><td>                     </td><td style=\"text-align: right;\">                      </td><td style=\"text-align: right;\">              </td><td style=\"text-align: right;\">                         </td><td style=\"text-align: right;\">          </td><td style=\"text-align: right;\">                     </td><td>ets                </td><td>RForecast   </td><td style=\"text-align: right;\">      </td><td style=\"text-align: right;\">                </td><td style=\"text-align: right;\">            </td></tr>\n",
       "</tbody>\n",
       "</table><br><br>"
      ],
      "text/plain": [
       "<IPython.core.display.HTML object>"
      ]
     },
     "metadata": {},
     "output_type": "display_data"
    },
    {
     "name": "stderr",
     "output_type": "stream",
     "text": [
      "100%|██████████| 50/50 [00:01<00:00, 32.90it/s, epoch=1/72, avg_epoch_loss=7.01]\n",
      "  0%|          | 0/50 [00:00<?, ?it/s]\n",
      "\u001b[2m\u001b[36m(pid=24021)\u001b[0m /Users/trung/miniconda3/envs/actableai-ml/lib/python3.7/site-packages/rpy2/rinterface/__init__.py:146: RRuntimeWarning: Registered S3 method overwritten by 'quantmod':\n",
      "\u001b[2m\u001b[36m(pid=24021)\u001b[0m   method            from\n",
      "\u001b[2m\u001b[36m(pid=24021)\u001b[0m   as.zoo.data.frame zoo \n",
      "\u001b[2m\u001b[36m(pid=24021)\u001b[0m \n",
      "\u001b[2m\u001b[36m(pid=24021)\u001b[0m   warnings.warn(x, RRuntimeWarning)\n",
      "\u001b[2m\u001b[36m(pid=24020)\u001b[0m /Users/trung/miniconda3/envs/actableai-ml/lib/python3.7/site-packages/rpy2/rinterface/__init__.py:146: RRuntimeWarning: Registered S3 method overwritten by 'quantmod':\n",
      "\u001b[2m\u001b[36m(pid=24020)\u001b[0m   method            from\n",
      "\u001b[2m\u001b[36m(pid=24020)\u001b[0m   as.zoo.data.frame zoo \n",
      "\u001b[2m\u001b[36m(pid=24020)\u001b[0m \n",
      "\u001b[2m\u001b[36m(pid=24020)\u001b[0m   warnings.warn(x, RRuntimeWarning)\n",
      "100%|██████████| 50/50 [00:01<00:00, 28.65it/s, epoch=2/72, avg_epoch_loss=6.35]\n",
      "  0%|          | 0/50 [00:00<?, ?it/s]\n",
      "Running evaluation:   0%|          | 0/1 [00:00<?, ?it/s]\n",
      "Running evaluation:   0%|          | 0/1 [00:00<?, ?it/s]\n",
      "Running evaluation: 100%|██████████| 1/1 [00:00<00:00,  1.05it/s]\n"
     ]
    },
    {
     "name": "stdout",
     "output_type": "stream",
     "text": [
      "Result for trainable_3ddd62d8:\n",
      "  date: 2020-12-02_15-08-48\n",
      "  done: false\n",
      "  experiment_id: 5879a0b7700d4b378fd1ecdfb300b6dd\n",
      "  experiment_tag: 3_method_name=ets,name=RForecast\n",
      "  hostname: Trungs-MacBook-Air.local\n",
      "  iterations_since_restore: 1\n",
      "  mean_wQuantileLoss: 0.003926479003022162\n",
      "  node_ip: 192.168.200.198\n",
      "  pid: 24020\n",
      "  time_since_restore: 5.1374428272247314\n",
      "  time_this_iter_s: 5.1374428272247314\n",
      "  time_total_s: 5.1374428272247314\n",
      "  timestamp: 1606921728\n",
      "  timesteps_since_restore: 0\n",
      "  training_iteration: 1\n",
      "  trial_id: 3ddd62d8\n",
      "  \n"
     ]
    },
    {
     "name": "stderr",
     "output_type": "stream",
     "text": [
      "100%|██████████| 50/50 [00:02<00:00, 18.11it/s, epoch=3/72, avg_epoch_loss=6.22]\n",
      "  0%|          | 0/50 [00:00<?, ?it/s]\n",
      "Running evaluation: 100%|██████████| 1/1 [00:01<00:00,  1.42s/it]\n"
     ]
    },
    {
     "name": "stdout",
     "output_type": "stream",
     "text": [
      "Result for trainable_3ddc166c:\n",
      "  date: 2020-12-02_15-08-49\n",
      "  done: false\n",
      "  experiment_id: 3de73b50d440449ebc2761fcdfe0e6ef\n",
      "  experiment_tag: 2_method_name=arima,name=RForecast\n",
      "  hostname: Trungs-MacBook-Air.local\n",
      "  iterations_since_restore: 1\n",
      "  mean_wQuantileLoss: 0.0037521083654434672\n",
      "  node_ip: 192.168.200.198\n",
      "  pid: 24021\n",
      "  time_since_restore: 5.8734118938446045\n",
      "  time_this_iter_s: 5.8734118938446045\n",
      "  time_total_s: 5.8734118938446045\n",
      "  timestamp: 1606921729\n",
      "  timesteps_since_restore: 0\n",
      "  training_iteration: 1\n",
      "  trial_id: 3ddc166c\n",
      "  \n"
     ]
    },
    {
     "data": {
      "text/html": [
       "== Status ==<br>Memory usage on this node: 11.6/16.0 GiB<br>Using FIFO scheduling algorithm.<br>Resources requested: 1/4 CPUs, 0/0 GPUs, 0.0/4.1 GiB heap, 0.0/1.42 GiB objects<br>Result logdir: /Users/trung/ray_results/trainable<br>Number of trials: 3 (1 RUNNING, 2 TERMINATED)<br><table>\n",
       "<thead>\n",
       "<tr><th>Trial name        </th><th>status    </th><th>loc                  </th><th style=\"text-align: right;\">  model/context_length</th><th style=\"text-align: right;\">  model/epochs</th><th style=\"text-align: right;\">  model/hidden_layer_size</th><th style=\"text-align: right;\">  model/l2</th><th style=\"text-align: right;\">  model/learning_rate</th><th>model/method_name  </th><th>model/name  </th><th style=\"text-align: right;\">  iter</th><th style=\"text-align: right;\">  total time (s)</th><th style=\"text-align: right;\">  train_loss</th><th style=\"text-align: right;\">  mean_wQuantileLoss</th></tr>\n",
       "</thead>\n",
       "<tbody>\n",
       "<tr><td>trainable_3ddac9b0</td><td>RUNNING   </td><td>192.168.200.198:23966</td><td style=\"text-align: right;\">                    47</td><td style=\"text-align: right;\">            72</td><td style=\"text-align: right;\">                       11</td><td style=\"text-align: right;\">0.00949333</td><td style=\"text-align: right;\">           0.00435757</td><td>                   </td><td>FeedForward </td><td style=\"text-align: right;\">     3</td><td style=\"text-align: right;\">         6.06917</td><td style=\"text-align: right;\">     6.22278</td><td style=\"text-align: right;\">                    </td></tr>\n",
       "<tr><td>trainable_3ddc166c</td><td>TERMINATED</td><td>                     </td><td style=\"text-align: right;\">                      </td><td style=\"text-align: right;\">              </td><td style=\"text-align: right;\">                         </td><td style=\"text-align: right;\">          </td><td style=\"text-align: right;\">                     </td><td>arima              </td><td>RForecast   </td><td style=\"text-align: right;\">     1</td><td style=\"text-align: right;\">         5.87341</td><td style=\"text-align: right;\">            </td><td style=\"text-align: right;\">          0.00375211</td></tr>\n",
       "<tr><td>trainable_3ddd62d8</td><td>TERMINATED</td><td>                     </td><td style=\"text-align: right;\">                      </td><td style=\"text-align: right;\">              </td><td style=\"text-align: right;\">                         </td><td style=\"text-align: right;\">          </td><td style=\"text-align: right;\">                     </td><td>ets                </td><td>RForecast   </td><td style=\"text-align: right;\">     1</td><td style=\"text-align: right;\">         5.13744</td><td style=\"text-align: right;\">            </td><td style=\"text-align: right;\">          0.00392648</td></tr>\n",
       "</tbody>\n",
       "</table><br><br>"
      ],
      "text/plain": [
       "<IPython.core.display.HTML object>"
      ]
     },
     "metadata": {},
     "output_type": "display_data"
    },
    {
     "name": "stdout",
     "output_type": "stream",
     "text": [
      "Result for trainable_3ddac9b0:\n",
      "  date: 2020-12-02_15-08-50\n",
      "  done: false\n",
      "  experiment_id: cfb1a867e86c4ddf994e0132c5263961\n",
      "  experiment_tag: 1_context_length=47,epochs=72,hidden_layer_size=11,l2=0.0094933,learning_rate=0.0043576,name=FeedForward\n",
      "  hostname: Trungs-MacBook-Air.local\n",
      "  iterations_since_restore: 4\n",
      "  node_ip: 192.168.200.198\n",
      "  pid: 23966\n",
      "  time_since_restore: 7.923949241638184\n",
      "  time_this_iter_s: 1.8547770977020264\n",
      "  time_total_s: 7.923949241638184\n",
      "  timestamp: 1606921730\n",
      "  timesteps_since_restore: 0\n",
      "  train_loss: 6.227621841430664\n",
      "  training_iteration: 4\n",
      "  trial_id: 3ddac9b0\n",
      "  \n"
     ]
    },
    {
     "name": "stderr",
     "output_type": "stream",
     "text": [
      "100%|██████████| 50/50 [00:01<00:00, 27.48it/s, epoch=4/72, avg_epoch_loss=6.23]\n",
      "  0%|          | 0/50 [00:00<?, ?it/s]\n",
      "100%|██████████| 50/50 [00:00<00:00, 66.73it/s, epoch=5/72, avg_epoch_loss=6.51]\n",
      "  0%|          | 0/50 [00:00<?, ?it/s]\n",
      "100%|██████████| 50/50 [00:00<00:00, 56.98it/s, epoch=6/72, avg_epoch_loss=6.29]\n",
      "  0%|          | 0/50 [00:00<?, ?it/s]\n",
      "100%|██████████| 50/50 [00:00<00:00, 68.87it/s, epoch=7/72, avg_epoch_loss=6.19]\n",
      "  0%|          | 0/50 [00:00<?, ?it/s]\n",
      "100%|██████████| 50/50 [00:00<00:00, 68.04it/s, epoch=8/72, avg_epoch_loss=6.22]\n",
      "  0%|          | 0/50 [00:00<?, ?it/s]\n"
     ]
    },
    {
     "data": {
      "text/html": [
       "== Status ==<br>Memory usage on this node: 11.0/16.0 GiB<br>Using FIFO scheduling algorithm.<br>Resources requested: 1/4 CPUs, 0/0 GPUs, 0.0/4.1 GiB heap, 0.0/1.42 GiB objects<br>Result logdir: /Users/trung/ray_results/trainable<br>Number of trials: 3 (1 RUNNING, 2 TERMINATED)<br><table>\n",
       "<thead>\n",
       "<tr><th>Trial name        </th><th>status    </th><th>loc                  </th><th style=\"text-align: right;\">  model/context_length</th><th style=\"text-align: right;\">  model/epochs</th><th style=\"text-align: right;\">  model/hidden_layer_size</th><th style=\"text-align: right;\">  model/l2</th><th style=\"text-align: right;\">  model/learning_rate</th><th>model/method_name  </th><th>model/name  </th><th style=\"text-align: right;\">  iter</th><th style=\"text-align: right;\">  total time (s)</th><th style=\"text-align: right;\">  train_loss</th><th style=\"text-align: right;\">  mean_wQuantileLoss</th></tr>\n",
       "</thead>\n",
       "<tbody>\n",
       "<tr><td>trainable_3ddac9b0</td><td>RUNNING   </td><td>192.168.200.198:23966</td><td style=\"text-align: right;\">                    47</td><td style=\"text-align: right;\">            72</td><td style=\"text-align: right;\">                       11</td><td style=\"text-align: right;\">0.00949333</td><td style=\"text-align: right;\">           0.00435757</td><td>                   </td><td>FeedForward </td><td style=\"text-align: right;\">     9</td><td style=\"text-align: right;\">        11.7614 </td><td style=\"text-align: right;\">      5.7806</td><td style=\"text-align: right;\">                    </td></tr>\n",
       "<tr><td>trainable_3ddc166c</td><td>TERMINATED</td><td>                     </td><td style=\"text-align: right;\">                      </td><td style=\"text-align: right;\">              </td><td style=\"text-align: right;\">                         </td><td style=\"text-align: right;\">          </td><td style=\"text-align: right;\">                     </td><td>arima              </td><td>RForecast   </td><td style=\"text-align: right;\">     1</td><td style=\"text-align: right;\">         5.87341</td><td style=\"text-align: right;\">            </td><td style=\"text-align: right;\">          0.00375211</td></tr>\n",
       "<tr><td>trainable_3ddd62d8</td><td>TERMINATED</td><td>                     </td><td style=\"text-align: right;\">                      </td><td style=\"text-align: right;\">              </td><td style=\"text-align: right;\">                         </td><td style=\"text-align: right;\">          </td><td style=\"text-align: right;\">                     </td><td>ets                </td><td>RForecast   </td><td style=\"text-align: right;\">     1</td><td style=\"text-align: right;\">         5.13744</td><td style=\"text-align: right;\">            </td><td style=\"text-align: right;\">          0.00392648</td></tr>\n",
       "</tbody>\n",
       "</table><br><br>"
      ],
      "text/plain": [
       "<IPython.core.display.HTML object>"
      ]
     },
     "metadata": {},
     "output_type": "display_data"
    },
    {
     "name": "stderr",
     "output_type": "stream",
     "text": [
      "100%|██████████| 50/50 [00:00<00:00, 69.63it/s, epoch=9/72, avg_epoch_loss=5.78]\n",
      "  0%|          | 0/50 [00:00<?, ?it/s]\n",
      "100%|██████████| 50/50 [00:00<00:00, 69.65it/s, epoch=10/72, avg_epoch_loss=5.81]\n",
      "  0%|          | 0/50 [00:00<?, ?it/s]\n"
     ]
    },
    {
     "name": "stdout",
     "output_type": "stream",
     "text": [
      "Result for trainable_3ddac9b0:\n",
      "  date: 2020-12-02_15-08-56\n",
      "  done: false\n",
      "  experiment_id: cfb1a867e86c4ddf994e0132c5263961\n",
      "  experiment_tag: 1_context_length=47,epochs=72,hidden_layer_size=11,l2=0.0094933,learning_rate=0.0043576,name=FeedForward\n",
      "  hostname: Trungs-MacBook-Air.local\n",
      "  iterations_since_restore: 11\n",
      "  node_ip: 192.168.200.198\n",
      "  pid: 23966\n",
      "  time_since_restore: 13.20219087600708\n",
      "  time_this_iter_s: 0.7160189151763916\n",
      "  time_total_s: 13.20219087600708\n",
      "  timestamp: 1606921736\n",
      "  timesteps_since_restore: 0\n",
      "  train_loss: 5.7073978996276855\n",
      "  training_iteration: 11\n",
      "  trial_id: 3ddac9b0\n",
      "  \n"
     ]
    },
    {
     "name": "stderr",
     "output_type": "stream",
     "text": [
      "100%|██████████| 50/50 [00:00<00:00, 70.30it/s, epoch=11/72, avg_epoch_loss=5.71]\n",
      "  0%|          | 0/50 [00:00<?, ?it/s]\n",
      "100%|██████████| 50/50 [00:00<00:00, 69.49it/s, epoch=12/72, avg_epoch_loss=5.55]\n",
      "  0%|          | 0/50 [00:00<?, ?it/s]\n",
      "100%|██████████| 50/50 [00:00<00:00, 64.62it/s, epoch=13/72, avg_epoch_loss=5.64]\n",
      "  0%|          | 0/50 [00:00<?, ?it/s]\n",
      "100%|██████████| 50/50 [00:00<00:00, 68.82it/s, epoch=14/72, avg_epoch_loss=5.48]\n",
      "  0%|          | 0/50 [00:00<?, ?it/s]\n",
      "100%|██████████| 50/50 [00:00<00:00, 70.05it/s, epoch=15/72, avg_epoch_loss=5.27]\n",
      "  0%|          | 0/50 [00:00<?, ?it/s]\n"
     ]
    },
    {
     "data": {
      "text/html": [
       "== Status ==<br>Memory usage on this node: 10.9/16.0 GiB<br>Using FIFO scheduling algorithm.<br>Resources requested: 1/4 CPUs, 0/0 GPUs, 0.0/4.1 GiB heap, 0.0/1.42 GiB objects<br>Result logdir: /Users/trung/ray_results/trainable<br>Number of trials: 3 (1 RUNNING, 2 TERMINATED)<br><table>\n",
       "<thead>\n",
       "<tr><th>Trial name        </th><th>status    </th><th>loc                  </th><th style=\"text-align: right;\">  model/context_length</th><th style=\"text-align: right;\">  model/epochs</th><th style=\"text-align: right;\">  model/hidden_layer_size</th><th style=\"text-align: right;\">  model/l2</th><th style=\"text-align: right;\">  model/learning_rate</th><th>model/method_name  </th><th>model/name  </th><th style=\"text-align: right;\">  iter</th><th style=\"text-align: right;\">  total time (s)</th><th style=\"text-align: right;\">  train_loss</th><th style=\"text-align: right;\">  mean_wQuantileLoss</th></tr>\n",
       "</thead>\n",
       "<tbody>\n",
       "<tr><td>trainable_3ddac9b0</td><td>RUNNING   </td><td>192.168.200.198:23966</td><td style=\"text-align: right;\">                    47</td><td style=\"text-align: right;\">            72</td><td style=\"text-align: right;\">                       11</td><td style=\"text-align: right;\">0.00949333</td><td style=\"text-align: right;\">           0.00435757</td><td>                   </td><td>FeedForward </td><td style=\"text-align: right;\">    16</td><td style=\"text-align: right;\">        16.8709 </td><td style=\"text-align: right;\">     5.15808</td><td style=\"text-align: right;\">                    </td></tr>\n",
       "<tr><td>trainable_3ddc166c</td><td>TERMINATED</td><td>                     </td><td style=\"text-align: right;\">                      </td><td style=\"text-align: right;\">              </td><td style=\"text-align: right;\">                         </td><td style=\"text-align: right;\">          </td><td style=\"text-align: right;\">                     </td><td>arima              </td><td>RForecast   </td><td style=\"text-align: right;\">     1</td><td style=\"text-align: right;\">         5.87341</td><td style=\"text-align: right;\">            </td><td style=\"text-align: right;\">          0.00375211</td></tr>\n",
       "<tr><td>trainable_3ddd62d8</td><td>TERMINATED</td><td>                     </td><td style=\"text-align: right;\">                      </td><td style=\"text-align: right;\">              </td><td style=\"text-align: right;\">                         </td><td style=\"text-align: right;\">          </td><td style=\"text-align: right;\">                     </td><td>ets                </td><td>RForecast   </td><td style=\"text-align: right;\">     1</td><td style=\"text-align: right;\">         5.13744</td><td style=\"text-align: right;\">            </td><td style=\"text-align: right;\">          0.00392648</td></tr>\n",
       "</tbody>\n",
       "</table><br><br>"
      ],
      "text/plain": [
       "<IPython.core.display.HTML object>"
      ]
     },
     "metadata": {},
     "output_type": "display_data"
    },
    {
     "name": "stderr",
     "output_type": "stream",
     "text": [
      "100%|██████████| 50/50 [00:00<00:00, 71.66it/s, epoch=16/72, avg_epoch_loss=5.16]\n",
      "  0%|          | 0/50 [00:00<?, ?it/s]\n",
      "100%|██████████| 50/50 [00:00<00:00, 68.24it/s, epoch=17/72, avg_epoch_loss=5.19]\n",
      "  0%|          | 0/50 [00:00<?, ?it/s]\n"
     ]
    },
    {
     "name": "stdout",
     "output_type": "stream",
     "text": [
      "Result for trainable_3ddac9b0:\n",
      "  date: 2020-12-02_15-09-01\n",
      "  done: false\n",
      "  experiment_id: cfb1a867e86c4ddf994e0132c5263961\n",
      "  experiment_tag: 1_context_length=47,epochs=72,hidden_layer_size=11,l2=0.0094933,learning_rate=0.0043576,name=FeedForward\n",
      "  hostname: Trungs-MacBook-Air.local\n",
      "  iterations_since_restore: 18\n",
      "  node_ip: 192.168.200.198\n",
      "  pid: 23966\n",
      "  time_since_restore: 18.32885193824768\n",
      "  time_this_iter_s: 0.7169959545135498\n",
      "  time_total_s: 18.32885193824768\n",
      "  timestamp: 1606921741\n",
      "  timesteps_since_restore: 0\n",
      "  train_loss: 5.307254037857056\n",
      "  training_iteration: 18\n",
      "  trial_id: 3ddac9b0\n",
      "  \n"
     ]
    },
    {
     "name": "stderr",
     "output_type": "stream",
     "text": [
      "100%|██████████| 50/50 [00:00<00:00, 70.18it/s, epoch=18/72, avg_epoch_loss=5.31]\n",
      "  0%|          | 0/50 [00:00<?, ?it/s]\n",
      "100%|██████████| 50/50 [00:00<00:00, 68.81it/s, epoch=19/72, avg_epoch_loss=5.07]\n",
      "  0%|          | 0/50 [00:00<?, ?it/s]\n",
      "100%|██████████| 50/50 [00:00<00:00, 69.92it/s, epoch=20/72, avg_epoch_loss=5.08]\n",
      "  0%|          | 0/50 [00:00<?, ?it/s]\n",
      "100%|██████████| 50/50 [00:00<00:00, 66.20it/s, epoch=21/72, avg_epoch_loss=5.3]\n",
      "  0%|          | 0/50 [00:00<?, ?it/s]\n",
      "100%|██████████| 50/50 [00:00<00:00, 69.90it/s, epoch=22/72, avg_epoch_loss=5.22]\n",
      "  0%|          | 0/50 [00:00<?, ?it/s]\n"
     ]
    },
    {
     "data": {
      "text/html": [
       "== Status ==<br>Memory usage on this node: 10.9/16.0 GiB<br>Using FIFO scheduling algorithm.<br>Resources requested: 1/4 CPUs, 0/0 GPUs, 0.0/4.1 GiB heap, 0.0/1.42 GiB objects<br>Result logdir: /Users/trung/ray_results/trainable<br>Number of trials: 3 (1 RUNNING, 2 TERMINATED)<br><table>\n",
       "<thead>\n",
       "<tr><th>Trial name        </th><th>status    </th><th>loc                  </th><th style=\"text-align: right;\">  model/context_length</th><th style=\"text-align: right;\">  model/epochs</th><th style=\"text-align: right;\">  model/hidden_layer_size</th><th style=\"text-align: right;\">  model/l2</th><th style=\"text-align: right;\">  model/learning_rate</th><th>model/method_name  </th><th>model/name  </th><th style=\"text-align: right;\">  iter</th><th style=\"text-align: right;\">  total time (s)</th><th style=\"text-align: right;\">  train_loss</th><th style=\"text-align: right;\">  mean_wQuantileLoss</th></tr>\n",
       "</thead>\n",
       "<tbody>\n",
       "<tr><td>trainable_3ddac9b0</td><td>RUNNING   </td><td>192.168.200.198:23966</td><td style=\"text-align: right;\">                    47</td><td style=\"text-align: right;\">            72</td><td style=\"text-align: right;\">                       11</td><td style=\"text-align: right;\">0.00949333</td><td style=\"text-align: right;\">           0.00435757</td><td>                   </td><td>FeedForward </td><td style=\"text-align: right;\">    23</td><td style=\"text-align: right;\">        21.9951 </td><td style=\"text-align: right;\">     5.13914</td><td style=\"text-align: right;\">                    </td></tr>\n",
       "<tr><td>trainable_3ddc166c</td><td>TERMINATED</td><td>                     </td><td style=\"text-align: right;\">                      </td><td style=\"text-align: right;\">              </td><td style=\"text-align: right;\">                         </td><td style=\"text-align: right;\">          </td><td style=\"text-align: right;\">                     </td><td>arima              </td><td>RForecast   </td><td style=\"text-align: right;\">     1</td><td style=\"text-align: right;\">         5.87341</td><td style=\"text-align: right;\">            </td><td style=\"text-align: right;\">          0.00375211</td></tr>\n",
       "<tr><td>trainable_3ddd62d8</td><td>TERMINATED</td><td>                     </td><td style=\"text-align: right;\">                      </td><td style=\"text-align: right;\">              </td><td style=\"text-align: right;\">                         </td><td style=\"text-align: right;\">          </td><td style=\"text-align: right;\">                     </td><td>ets                </td><td>RForecast   </td><td style=\"text-align: right;\">     1</td><td style=\"text-align: right;\">         5.13744</td><td style=\"text-align: right;\">            </td><td style=\"text-align: right;\">          0.00392648</td></tr>\n",
       "</tbody>\n",
       "</table><br><br>"
      ],
      "text/plain": [
       "<IPython.core.display.HTML object>"
      ]
     },
     "metadata": {},
     "output_type": "display_data"
    },
    {
     "name": "stderr",
     "output_type": "stream",
     "text": [
      "100%|██████████| 50/50 [00:00<00:00, 69.23it/s, epoch=23/72, avg_epoch_loss=5.14]\n",
      "  0%|          | 0/50 [00:00<?, ?it/s]\n",
      "100%|██████████| 50/50 [00:00<00:00, 70.14it/s, epoch=24/72, avg_epoch_loss=5.14]\n",
      "  0%|          | 0/50 [00:00<?, ?it/s]\n"
     ]
    },
    {
     "name": "stdout",
     "output_type": "stream",
     "text": [
      "Result for trainable_3ddac9b0:\n",
      "  date: 2020-12-02_15-09-06\n",
      "  done: false\n",
      "  experiment_id: cfb1a867e86c4ddf994e0132c5263961\n",
      "  experiment_tag: 1_context_length=47,epochs=72,hidden_layer_size=11,l2=0.0094933,learning_rate=0.0043576,name=FeedForward\n",
      "  hostname: Trungs-MacBook-Air.local\n",
      "  iterations_since_restore: 25\n",
      "  node_ip: 192.168.200.198\n",
      "  pid: 23966\n",
      "  time_since_restore: 23.454928874969482\n",
      "  time_this_iter_s: 0.7425746917724609\n",
      "  time_total_s: 23.454928874969482\n",
      "  timestamp: 1606921746\n",
      "  timesteps_since_restore: 0\n",
      "  train_loss: 5.112382793426514\n",
      "  training_iteration: 25\n",
      "  trial_id: 3ddac9b0\n",
      "  \n"
     ]
    },
    {
     "name": "stderr",
     "output_type": "stream",
     "text": [
      "100%|██████████| 50/50 [00:00<00:00, 67.75it/s, epoch=25/72, avg_epoch_loss=5.11]\n",
      "  0%|          | 0/50 [00:00<?, ?it/s]\n",
      "100%|██████████| 50/50 [00:00<00:00, 63.22it/s, epoch=26/72, avg_epoch_loss=5.04]\n",
      "  0%|          | 0/50 [00:00<?, ?it/s]\n",
      "100%|██████████| 50/50 [00:00<00:00, 69.56it/s, epoch=27/72, avg_epoch_loss=5.18]\n",
      "  0%|          | 0/50 [00:00<?, ?it/s]\n",
      "100%|██████████| 50/50 [00:00<00:00, 65.73it/s, epoch=28/72, avg_epoch_loss=4.98]\n",
      "  0%|          | 0/50 [00:00<?, ?it/s]\n",
      "100%|██████████| 50/50 [00:00<00:00, 66.40it/s, epoch=29/72, avg_epoch_loss=5.01]\n",
      "  0%|          | 0/50 [00:00<?, ?it/s]\n"
     ]
    },
    {
     "data": {
      "text/html": [
       "== Status ==<br>Memory usage on this node: 10.9/16.0 GiB<br>Using FIFO scheduling algorithm.<br>Resources requested: 1/4 CPUs, 0/0 GPUs, 0.0/4.1 GiB heap, 0.0/1.42 GiB objects<br>Result logdir: /Users/trung/ray_results/trainable<br>Number of trials: 3 (1 RUNNING, 2 TERMINATED)<br><table>\n",
       "<thead>\n",
       "<tr><th>Trial name        </th><th>status    </th><th>loc                  </th><th style=\"text-align: right;\">  model/context_length</th><th style=\"text-align: right;\">  model/epochs</th><th style=\"text-align: right;\">  model/hidden_layer_size</th><th style=\"text-align: right;\">  model/l2</th><th style=\"text-align: right;\">  model/learning_rate</th><th>model/method_name  </th><th>model/name  </th><th style=\"text-align: right;\">  iter</th><th style=\"text-align: right;\">  total time (s)</th><th style=\"text-align: right;\">  train_loss</th><th style=\"text-align: right;\">  mean_wQuantileLoss</th></tr>\n",
       "</thead>\n",
       "<tbody>\n",
       "<tr><td>trainable_3ddac9b0</td><td>RUNNING   </td><td>192.168.200.198:23966</td><td style=\"text-align: right;\">                    47</td><td style=\"text-align: right;\">            72</td><td style=\"text-align: right;\">                       11</td><td style=\"text-align: right;\">0.00949333</td><td style=\"text-align: right;\">           0.00435757</td><td>                   </td><td>FeedForward </td><td style=\"text-align: right;\">    30</td><td style=\"text-align: right;\">        27.2385 </td><td style=\"text-align: right;\">      4.9853</td><td style=\"text-align: right;\">                    </td></tr>\n",
       "<tr><td>trainable_3ddc166c</td><td>TERMINATED</td><td>                     </td><td style=\"text-align: right;\">                      </td><td style=\"text-align: right;\">              </td><td style=\"text-align: right;\">                         </td><td style=\"text-align: right;\">          </td><td style=\"text-align: right;\">                     </td><td>arima              </td><td>RForecast   </td><td style=\"text-align: right;\">     1</td><td style=\"text-align: right;\">         5.87341</td><td style=\"text-align: right;\">            </td><td style=\"text-align: right;\">          0.00375211</td></tr>\n",
       "<tr><td>trainable_3ddd62d8</td><td>TERMINATED</td><td>                     </td><td style=\"text-align: right;\">                      </td><td style=\"text-align: right;\">              </td><td style=\"text-align: right;\">                         </td><td style=\"text-align: right;\">          </td><td style=\"text-align: right;\">                     </td><td>ets                </td><td>RForecast   </td><td style=\"text-align: right;\">     1</td><td style=\"text-align: right;\">         5.13744</td><td style=\"text-align: right;\">            </td><td style=\"text-align: right;\">          0.00392648</td></tr>\n",
       "</tbody>\n",
       "</table><br><br>"
      ],
      "text/plain": [
       "<IPython.core.display.HTML object>"
      ]
     },
     "metadata": {},
     "output_type": "display_data"
    },
    {
     "name": "stderr",
     "output_type": "stream",
     "text": [
      "100%|██████████| 50/50 [00:00<00:00, 68.95it/s, epoch=30/72, avg_epoch_loss=4.99]\n",
      "  0%|          | 0/50 [00:00<?, ?it/s]\n",
      "100%|██████████| 50/50 [00:00<00:00, 69.71it/s, epoch=31/72, avg_epoch_loss=5.02]\n",
      "  0%|          | 0/50 [00:00<?, ?it/s]\n"
     ]
    },
    {
     "name": "stdout",
     "output_type": "stream",
     "text": [
      "Result for trainable_3ddac9b0:\n",
      "  date: 2020-12-02_15-09-11\n",
      "  done: false\n",
      "  experiment_id: cfb1a867e86c4ddf994e0132c5263961\n",
      "  experiment_tag: 1_context_length=47,epochs=72,hidden_layer_size=11,l2=0.0094933,learning_rate=0.0043576,name=FeedForward\n",
      "  hostname: Trungs-MacBook-Air.local\n",
      "  iterations_since_restore: 32\n",
      "  node_ip: 192.168.200.198\n",
      "  pid: 23966\n",
      "  time_since_restore: 28.693817853927612\n",
      "  time_this_iter_s: 0.7328777313232422\n",
      "  time_total_s: 28.693817853927612\n",
      "  timestamp: 1606921751\n",
      "  timesteps_since_restore: 0\n",
      "  train_loss: 4.948979244232178\n",
      "  training_iteration: 32\n",
      "  trial_id: 3ddac9b0\n",
      "  \n"
     ]
    },
    {
     "name": "stderr",
     "output_type": "stream",
     "text": [
      "100%|██████████| 50/50 [00:00<00:00, 68.66it/s, epoch=32/72, avg_epoch_loss=4.95]\n",
      "  0%|          | 0/50 [00:00<?, ?it/s]\n",
      "100%|██████████| 50/50 [00:00<00:00, 62.96it/s, epoch=33/72, avg_epoch_loss=5.05]\n",
      "  0%|          | 0/50 [00:00<?, ?it/s]\n",
      "100%|██████████| 50/50 [00:00<00:00, 66.69it/s, epoch=34/72, avg_epoch_loss=4.96]\n",
      "  0%|          | 0/50 [00:00<?, ?it/s]\n",
      "100%|██████████| 50/50 [00:00<00:00, 61.77it/s, epoch=35/72, avg_epoch_loss=4.85]\n",
      "  0%|          | 0/50 [00:00<?, ?it/s]\n",
      "100%|██████████| 50/50 [00:00<00:00, 69.27it/s, epoch=36/72, avg_epoch_loss=4.96]\n",
      "  0%|          | 0/50 [00:00<?, ?it/s]\n"
     ]
    },
    {
     "data": {
      "text/html": [
       "== Status ==<br>Memory usage on this node: 11.0/16.0 GiB<br>Using FIFO scheduling algorithm.<br>Resources requested: 1/4 CPUs, 0/0 GPUs, 0.0/4.1 GiB heap, 0.0/1.42 GiB objects<br>Result logdir: /Users/trung/ray_results/trainable<br>Number of trials: 3 (1 RUNNING, 2 TERMINATED)<br><table>\n",
       "<thead>\n",
       "<tr><th>Trial name        </th><th>status    </th><th>loc                  </th><th style=\"text-align: right;\">  model/context_length</th><th style=\"text-align: right;\">  model/epochs</th><th style=\"text-align: right;\">  model/hidden_layer_size</th><th style=\"text-align: right;\">  model/l2</th><th style=\"text-align: right;\">  model/learning_rate</th><th>model/method_name  </th><th>model/name  </th><th style=\"text-align: right;\">  iter</th><th style=\"text-align: right;\">  total time (s)</th><th style=\"text-align: right;\">  train_loss</th><th style=\"text-align: right;\">  mean_wQuantileLoss</th></tr>\n",
       "</thead>\n",
       "<tbody>\n",
       "<tr><td>trainable_3ddac9b0</td><td>RUNNING   </td><td>192.168.200.198:23966</td><td style=\"text-align: right;\">                    47</td><td style=\"text-align: right;\">            72</td><td style=\"text-align: right;\">                       11</td><td style=\"text-align: right;\">0.00949333</td><td style=\"text-align: right;\">           0.00435757</td><td>                   </td><td>FeedForward </td><td style=\"text-align: right;\">    37</td><td style=\"text-align: right;\">        32.5274 </td><td style=\"text-align: right;\">     4.92797</td><td style=\"text-align: right;\">                    </td></tr>\n",
       "<tr><td>trainable_3ddc166c</td><td>TERMINATED</td><td>                     </td><td style=\"text-align: right;\">                      </td><td style=\"text-align: right;\">              </td><td style=\"text-align: right;\">                         </td><td style=\"text-align: right;\">          </td><td style=\"text-align: right;\">                     </td><td>arima              </td><td>RForecast   </td><td style=\"text-align: right;\">     1</td><td style=\"text-align: right;\">         5.87341</td><td style=\"text-align: right;\">            </td><td style=\"text-align: right;\">          0.00375211</td></tr>\n",
       "<tr><td>trainable_3ddd62d8</td><td>TERMINATED</td><td>                     </td><td style=\"text-align: right;\">                      </td><td style=\"text-align: right;\">              </td><td style=\"text-align: right;\">                         </td><td style=\"text-align: right;\">          </td><td style=\"text-align: right;\">                     </td><td>ets                </td><td>RForecast   </td><td style=\"text-align: right;\">     1</td><td style=\"text-align: right;\">         5.13744</td><td style=\"text-align: right;\">            </td><td style=\"text-align: right;\">          0.00392648</td></tr>\n",
       "</tbody>\n",
       "</table><br><br>"
      ],
      "text/plain": [
       "<IPython.core.display.HTML object>"
      ]
     },
     "metadata": {},
     "output_type": "display_data"
    },
    {
     "name": "stderr",
     "output_type": "stream",
     "text": [
      "100%|██████████| 50/50 [00:00<00:00, 69.65it/s, epoch=37/72, avg_epoch_loss=4.93]\n",
      "  0%|          | 0/50 [00:00<?, ?it/s]\n",
      "100%|██████████| 50/50 [00:00<00:00, 65.83it/s, epoch=38/72, avg_epoch_loss=4.87]\n",
      "  0%|          | 0/50 [00:00<?, ?it/s]\n"
     ]
    },
    {
     "name": "stdout",
     "output_type": "stream",
     "text": [
      "Result for trainable_3ddac9b0:\n",
      "  date: 2020-12-02_15-09-16\n",
      "  done: false\n",
      "  experiment_id: cfb1a867e86c4ddf994e0132c5263961\n",
      "  experiment_tag: 1_context_length=47,epochs=72,hidden_layer_size=11,l2=0.0094933,learning_rate=0.0043576,name=FeedForward\n",
      "  hostname: Trungs-MacBook-Air.local\n",
      "  iterations_since_restore: 39\n",
      "  node_ip: 192.168.200.198\n",
      "  pid: 23966\n",
      "  time_since_restore: 34.04240703582764\n",
      "  time_this_iter_s: 0.7493000030517578\n",
      "  time_total_s: 34.04240703582764\n",
      "  timestamp: 1606921756\n",
      "  timesteps_since_restore: 0\n",
      "  train_loss: 4.824690227508545\n",
      "  training_iteration: 39\n",
      "  trial_id: 3ddac9b0\n",
      "  \n"
     ]
    },
    {
     "name": "stderr",
     "output_type": "stream",
     "text": [
      "100%|██████████| 50/50 [00:00<00:00, 67.19it/s, epoch=39/72, avg_epoch_loss=4.82]\n",
      "  0%|          | 0/50 [00:00<?, ?it/s]\n",
      "100%|██████████| 50/50 [00:00<00:00, 69.33it/s, epoch=40/72, avg_epoch_loss=4.81]\n",
      "  0%|          | 0/50 [00:00<?, ?it/s]\n",
      "100%|██████████| 50/50 [00:00<00:00, 66.33it/s, epoch=41/72, avg_epoch_loss=4.89]\n",
      "  0%|          | 0/50 [00:00<?, ?it/s]\n",
      "100%|██████████| 50/50 [00:00<00:00, 65.24it/s, epoch=42/72, avg_epoch_loss=4.84]\n",
      "  0%|          | 0/50 [00:00<?, ?it/s]\n",
      "100%|██████████| 50/50 [00:00<00:00, 67.46it/s, epoch=43/72, avg_epoch_loss=4.88]\n",
      "  0%|          | 0/50 [00:00<?, ?it/s]\n"
     ]
    },
    {
     "data": {
      "text/html": [
       "== Status ==<br>Memory usage on this node: 10.9/16.0 GiB<br>Using FIFO scheduling algorithm.<br>Resources requested: 1/4 CPUs, 0/0 GPUs, 0.0/4.1 GiB heap, 0.0/1.42 GiB objects<br>Result logdir: /Users/trung/ray_results/trainable<br>Number of trials: 3 (1 RUNNING, 2 TERMINATED)<br><table>\n",
       "<thead>\n",
       "<tr><th>Trial name        </th><th>status    </th><th>loc                  </th><th style=\"text-align: right;\">  model/context_length</th><th style=\"text-align: right;\">  model/epochs</th><th style=\"text-align: right;\">  model/hidden_layer_size</th><th style=\"text-align: right;\">  model/l2</th><th style=\"text-align: right;\">  model/learning_rate</th><th>model/method_name  </th><th>model/name  </th><th style=\"text-align: right;\">  iter</th><th style=\"text-align: right;\">  total time (s)</th><th style=\"text-align: right;\">  train_loss</th><th style=\"text-align: right;\">  mean_wQuantileLoss</th></tr>\n",
       "</thead>\n",
       "<tbody>\n",
       "<tr><td>trainable_3ddac9b0</td><td>RUNNING   </td><td>192.168.200.198:23966</td><td style=\"text-align: right;\">                    47</td><td style=\"text-align: right;\">            72</td><td style=\"text-align: right;\">                       11</td><td style=\"text-align: right;\">0.00949333</td><td style=\"text-align: right;\">           0.00435757</td><td>                   </td><td>FeedForward </td><td style=\"text-align: right;\">    44</td><td style=\"text-align: right;\">        37.8415 </td><td style=\"text-align: right;\">     4.79389</td><td style=\"text-align: right;\">                    </td></tr>\n",
       "<tr><td>trainable_3ddc166c</td><td>TERMINATED</td><td>                     </td><td style=\"text-align: right;\">                      </td><td style=\"text-align: right;\">              </td><td style=\"text-align: right;\">                         </td><td style=\"text-align: right;\">          </td><td style=\"text-align: right;\">                     </td><td>arima              </td><td>RForecast   </td><td style=\"text-align: right;\">     1</td><td style=\"text-align: right;\">         5.87341</td><td style=\"text-align: right;\">            </td><td style=\"text-align: right;\">          0.00375211</td></tr>\n",
       "<tr><td>trainable_3ddd62d8</td><td>TERMINATED</td><td>                     </td><td style=\"text-align: right;\">                      </td><td style=\"text-align: right;\">              </td><td style=\"text-align: right;\">                         </td><td style=\"text-align: right;\">          </td><td style=\"text-align: right;\">                     </td><td>ets                </td><td>RForecast   </td><td style=\"text-align: right;\">     1</td><td style=\"text-align: right;\">         5.13744</td><td style=\"text-align: right;\">            </td><td style=\"text-align: right;\">          0.00392648</td></tr>\n",
       "</tbody>\n",
       "</table><br><br>"
      ],
      "text/plain": [
       "<IPython.core.display.HTML object>"
      ]
     },
     "metadata": {},
     "output_type": "display_data"
    },
    {
     "name": "stderr",
     "output_type": "stream",
     "text": [
      "100%|██████████| 50/50 [00:00<00:00, 64.04it/s, epoch=44/72, avg_epoch_loss=4.79]\n",
      "  0%|          | 0/50 [00:00<?, ?it/s]\n",
      "100%|██████████| 50/50 [00:00<00:00, 67.43it/s, epoch=45/72, avg_epoch_loss=4.75]\n",
      "  0%|          | 0/50 [00:00<?, ?it/s]\n"
     ]
    },
    {
     "name": "stdout",
     "output_type": "stream",
     "text": [
      "Result for trainable_3ddac9b0:\n",
      "  date: 2020-12-02_15-09-22\n",
      "  done: false\n",
      "  experiment_id: cfb1a867e86c4ddf994e0132c5263961\n",
      "  experiment_tag: 1_context_length=47,epochs=72,hidden_layer_size=11,l2=0.0094933,learning_rate=0.0043576,name=FeedForward\n",
      "  hostname: Trungs-MacBook-Air.local\n",
      "  iterations_since_restore: 46\n",
      "  node_ip: 192.168.200.198\n",
      "  pid: 23966\n",
      "  time_since_restore: 39.35757112503052\n",
      "  time_this_iter_s: 0.7666501998901367\n",
      "  time_total_s: 39.35757112503052\n",
      "  timestamp: 1606921762\n",
      "  timesteps_since_restore: 0\n",
      "  train_loss: 4.757956466674805\n",
      "  training_iteration: 46\n",
      "  trial_id: 3ddac9b0\n",
      "  \n"
     ]
    },
    {
     "name": "stderr",
     "output_type": "stream",
     "text": [
      "100%|██████████| 50/50 [00:00<00:00, 65.90it/s, epoch=46/72, avg_epoch_loss=4.76]\n",
      "  0%|          | 0/50 [00:00<?, ?it/s]\n",
      "100%|██████████| 50/50 [00:00<00:00, 69.24it/s, epoch=47/72, avg_epoch_loss=4.8]\n",
      "  0%|          | 0/50 [00:00<?, ?it/s]\n",
      "100%|██████████| 50/50 [00:00<00:00, 69.55it/s, epoch=48/72, avg_epoch_loss=4.79]\n",
      "  0%|          | 0/50 [00:00<?, ?it/s]\n",
      "100%|██████████| 50/50 [00:00<00:00, 65.51it/s, epoch=49/72, avg_epoch_loss=4.72]\n",
      "  0%|          | 0/50 [00:00<?, ?it/s]\n",
      "100%|██████████| 50/50 [00:00<00:00, 68.54it/s, epoch=50/72, avg_epoch_loss=4.78]\n",
      "  0%|          | 0/50 [00:00<?, ?it/s]\n"
     ]
    },
    {
     "data": {
      "text/html": [
       "== Status ==<br>Memory usage on this node: 10.8/16.0 GiB<br>Using FIFO scheduling algorithm.<br>Resources requested: 1/4 CPUs, 0/0 GPUs, 0.0/4.1 GiB heap, 0.0/1.42 GiB objects<br>Result logdir: /Users/trung/ray_results/trainable<br>Number of trials: 3 (1 RUNNING, 2 TERMINATED)<br><table>\n",
       "<thead>\n",
       "<tr><th>Trial name        </th><th>status    </th><th>loc                  </th><th style=\"text-align: right;\">  model/context_length</th><th style=\"text-align: right;\">  model/epochs</th><th style=\"text-align: right;\">  model/hidden_layer_size</th><th style=\"text-align: right;\">  model/l2</th><th style=\"text-align: right;\">  model/learning_rate</th><th>model/method_name  </th><th>model/name  </th><th style=\"text-align: right;\">  iter</th><th style=\"text-align: right;\">  total time (s)</th><th style=\"text-align: right;\">  train_loss</th><th style=\"text-align: right;\">  mean_wQuantileLoss</th></tr>\n",
       "</thead>\n",
       "<tbody>\n",
       "<tr><td>trainable_3ddac9b0</td><td>RUNNING   </td><td>192.168.200.198:23966</td><td style=\"text-align: right;\">                    47</td><td style=\"text-align: right;\">            72</td><td style=\"text-align: right;\">                       11</td><td style=\"text-align: right;\">0.00949333</td><td style=\"text-align: right;\">           0.00435757</td><td>                   </td><td>FeedForward </td><td style=\"text-align: right;\">    51</td><td style=\"text-align: right;\">        43.0394 </td><td style=\"text-align: right;\">      4.7853</td><td style=\"text-align: right;\">                    </td></tr>\n",
       "<tr><td>trainable_3ddc166c</td><td>TERMINATED</td><td>                     </td><td style=\"text-align: right;\">                      </td><td style=\"text-align: right;\">              </td><td style=\"text-align: right;\">                         </td><td style=\"text-align: right;\">          </td><td style=\"text-align: right;\">                     </td><td>arima              </td><td>RForecast   </td><td style=\"text-align: right;\">     1</td><td style=\"text-align: right;\">         5.87341</td><td style=\"text-align: right;\">            </td><td style=\"text-align: right;\">          0.00375211</td></tr>\n",
       "<tr><td>trainable_3ddd62d8</td><td>TERMINATED</td><td>                     </td><td style=\"text-align: right;\">                      </td><td style=\"text-align: right;\">              </td><td style=\"text-align: right;\">                         </td><td style=\"text-align: right;\">          </td><td style=\"text-align: right;\">                     </td><td>ets                </td><td>RForecast   </td><td style=\"text-align: right;\">     1</td><td style=\"text-align: right;\">         5.13744</td><td style=\"text-align: right;\">            </td><td style=\"text-align: right;\">          0.00392648</td></tr>\n",
       "</tbody>\n",
       "</table><br><br>"
      ],
      "text/plain": [
       "<IPython.core.display.HTML object>"
      ]
     },
     "metadata": {},
     "output_type": "display_data"
    },
    {
     "name": "stderr",
     "output_type": "stream",
     "text": [
      "100%|██████████| 50/50 [00:00<00:00, 69.83it/s, epoch=51/72, avg_epoch_loss=4.79]\n",
      "  0%|          | 0/50 [00:00<?, ?it/s]\n",
      "100%|██████████| 50/50 [00:00<00:00, 65.04it/s, epoch=52/72, avg_epoch_loss=4.99]\n",
      "  0%|          | 0/50 [00:00<?, ?it/s]\n"
     ]
    },
    {
     "name": "stdout",
     "output_type": "stream",
     "text": [
      "Result for trainable_3ddac9b0:\n",
      "  date: 2020-12-02_15-09-27\n",
      "  done: false\n",
      "  experiment_id: cfb1a867e86c4ddf994e0132c5263961\n",
      "  experiment_tag: 1_context_length=47,epochs=72,hidden_layer_size=11,l2=0.0094933,learning_rate=0.0043576,name=FeedForward\n",
      "  hostname: Trungs-MacBook-Air.local\n",
      "  iterations_since_restore: 53\n",
      "  node_ip: 192.168.200.198\n",
      "  pid: 23966\n",
      "  time_since_restore: 44.59177207946777\n",
      "  time_this_iter_s: 0.7788949012756348\n",
      "  time_total_s: 44.59177207946777\n",
      "  timestamp: 1606921767\n",
      "  timesteps_since_restore: 0\n",
      "  train_loss: 4.87111801147461\n",
      "  training_iteration: 53\n",
      "  trial_id: 3ddac9b0\n",
      "  \n"
     ]
    },
    {
     "name": "stderr",
     "output_type": "stream",
     "text": [
      "100%|██████████| 50/50 [00:00<00:00, 64.67it/s, epoch=53/72, avg_epoch_loss=4.87]\n",
      "  0%|          | 0/50 [00:00<?, ?it/s]\n",
      "100%|██████████| 50/50 [00:01<00:00, 44.68it/s, epoch=54/72, avg_epoch_loss=4.77]\n",
      "  0%|          | 0/50 [00:00<?, ?it/s]\n",
      "100%|██████████| 50/50 [00:00<00:00, 56.52it/s, epoch=55/72, avg_epoch_loss=4.8]\n",
      "  0%|          | 0/50 [00:00<?, ?it/s]\n",
      "100%|██████████| 50/50 [00:00<00:00, 59.37it/s, epoch=56/72, avg_epoch_loss=4.69]\n",
      "  0%|          | 0/50 [00:00<?, ?it/s]\n"
     ]
    },
    {
     "data": {
      "text/html": [
       "== Status ==<br>Memory usage on this node: 11.3/16.0 GiB<br>Using FIFO scheduling algorithm.<br>Resources requested: 1/4 CPUs, 0/0 GPUs, 0.0/4.1 GiB heap, 0.0/1.42 GiB objects<br>Result logdir: /Users/trung/ray_results/trainable<br>Number of trials: 3 (1 RUNNING, 2 TERMINATED)<br><table>\n",
       "<thead>\n",
       "<tr><th>Trial name        </th><th>status    </th><th>loc                  </th><th style=\"text-align: right;\">  model/context_length</th><th style=\"text-align: right;\">  model/epochs</th><th style=\"text-align: right;\">  model/hidden_layer_size</th><th style=\"text-align: right;\">  model/l2</th><th style=\"text-align: right;\">  model/learning_rate</th><th>model/method_name  </th><th>model/name  </th><th style=\"text-align: right;\">  iter</th><th style=\"text-align: right;\">  total time (s)</th><th style=\"text-align: right;\">  train_loss</th><th style=\"text-align: right;\">  mean_wQuantileLoss</th></tr>\n",
       "</thead>\n",
       "<tbody>\n",
       "<tr><td>trainable_3ddac9b0</td><td>RUNNING   </td><td>192.168.200.198:23966</td><td style=\"text-align: right;\">                    47</td><td style=\"text-align: right;\">            72</td><td style=\"text-align: right;\">                       11</td><td style=\"text-align: right;\">0.00949333</td><td style=\"text-align: right;\">           0.00435757</td><td>                   </td><td>FeedForward </td><td style=\"text-align: right;\">    57</td><td style=\"text-align: right;\">        48.8112 </td><td style=\"text-align: right;\">     4.86132</td><td style=\"text-align: right;\">                    </td></tr>\n",
       "<tr><td>trainable_3ddc166c</td><td>TERMINATED</td><td>                     </td><td style=\"text-align: right;\">                      </td><td style=\"text-align: right;\">              </td><td style=\"text-align: right;\">                         </td><td style=\"text-align: right;\">          </td><td style=\"text-align: right;\">                     </td><td>arima              </td><td>RForecast   </td><td style=\"text-align: right;\">     1</td><td style=\"text-align: right;\">         5.87341</td><td style=\"text-align: right;\">            </td><td style=\"text-align: right;\">          0.00375211</td></tr>\n",
       "<tr><td>trainable_3ddd62d8</td><td>TERMINATED</td><td>                     </td><td style=\"text-align: right;\">                      </td><td style=\"text-align: right;\">              </td><td style=\"text-align: right;\">                         </td><td style=\"text-align: right;\">          </td><td style=\"text-align: right;\">                     </td><td>ets                </td><td>RForecast   </td><td style=\"text-align: right;\">     1</td><td style=\"text-align: right;\">         5.13744</td><td style=\"text-align: right;\">            </td><td style=\"text-align: right;\">          0.00392648</td></tr>\n",
       "</tbody>\n",
       "</table><br><br>"
      ],
      "text/plain": [
       "<IPython.core.display.HTML object>"
      ]
     },
     "metadata": {},
     "output_type": "display_data"
    },
    {
     "name": "stderr",
     "output_type": "stream",
     "text": [
      "\u001b[2m\u001b[36m(pid=23966)\u001b[0m \r",
      "100%|██████████| 50/50 [00:01<00:00, 37.26it/s, epoch=57/72, avg_epoch_loss=4.86]\n",
      "\u001b[2m\u001b[36m(pid=23966)\u001b[0m \r",
      "  0%|          | 0/50 [00:00<?, ?it/s]\n"
     ]
    },
    {
     "name": "stdout",
     "output_type": "stream",
     "text": [
      "Result for trainable_3ddac9b0:\n",
      "  date: 2020-12-02_15-09-33\n",
      "  done: false\n",
      "  experiment_id: cfb1a867e86c4ddf994e0132c5263961\n",
      "  experiment_tag: 1_context_length=47,epochs=72,hidden_layer_size=11,l2=0.0094933,learning_rate=0.0043576,name=FeedForward\n",
      "  hostname: Trungs-MacBook-Air.local\n",
      "  iterations_since_restore: 58\n",
      "  node_ip: 192.168.200.198\n",
      "  pid: 23966\n",
      "  time_since_restore: 50.21079611778259\n",
      "  time_this_iter_s: 1.399613857269287\n",
      "  time_total_s: 50.21079611778259\n",
      "  timestamp: 1606921773\n",
      "  timesteps_since_restore: 0\n",
      "  train_loss: 4.80502688407898\n",
      "  training_iteration: 58\n",
      "  trial_id: 3ddac9b0\n",
      "  \n"
     ]
    },
    {
     "name": "stderr",
     "output_type": "stream",
     "text": [
      "100%|██████████| 50/50 [00:01<00:00, 35.95it/s, epoch=58/72, avg_epoch_loss=4.81]\n",
      "  0%|          | 0/50 [00:00<?, ?it/s]\n",
      "100%|██████████| 50/50 [00:01<00:00, 39.88it/s, epoch=59/72, avg_epoch_loss=4.78]\n",
      "  0%|          | 0/50 [00:00<?, ?it/s]\n",
      "100%|██████████| 50/50 [00:01<00:00, 39.35it/s, epoch=60/72, avg_epoch_loss=4.86]\n",
      "  0%|          | 0/50 [00:00<?, ?it/s]\n"
     ]
    },
    {
     "data": {
      "text/html": [
       "== Status ==<br>Memory usage on this node: 11.1/16.0 GiB<br>Using FIFO scheduling algorithm.<br>Resources requested: 1/4 CPUs, 0/0 GPUs, 0.0/4.1 GiB heap, 0.0/1.42 GiB objects<br>Result logdir: /Users/trung/ray_results/trainable<br>Number of trials: 3 (1 RUNNING, 2 TERMINATED)<br><table>\n",
       "<thead>\n",
       "<tr><th>Trial name        </th><th>status    </th><th>loc                  </th><th style=\"text-align: right;\">  model/context_length</th><th style=\"text-align: right;\">  model/epochs</th><th style=\"text-align: right;\">  model/hidden_layer_size</th><th style=\"text-align: right;\">  model/l2</th><th style=\"text-align: right;\">  model/learning_rate</th><th>model/method_name  </th><th>model/name  </th><th style=\"text-align: right;\">  iter</th><th style=\"text-align: right;\">  total time (s)</th><th style=\"text-align: right;\">  train_loss</th><th style=\"text-align: right;\">  mean_wQuantileLoss</th></tr>\n",
       "</thead>\n",
       "<tbody>\n",
       "<tr><td>trainable_3ddac9b0</td><td>RUNNING   </td><td>192.168.200.198:23966</td><td style=\"text-align: right;\">                    47</td><td style=\"text-align: right;\">            72</td><td style=\"text-align: right;\">                       11</td><td style=\"text-align: right;\">0.00949333</td><td style=\"text-align: right;\">           0.00435757</td><td>                   </td><td>FeedForward </td><td style=\"text-align: right;\">    61</td><td style=\"text-align: right;\">        54.0997 </td><td style=\"text-align: right;\">     4.78338</td><td style=\"text-align: right;\">                    </td></tr>\n",
       "<tr><td>trainable_3ddc166c</td><td>TERMINATED</td><td>                     </td><td style=\"text-align: right;\">                      </td><td style=\"text-align: right;\">              </td><td style=\"text-align: right;\">                         </td><td style=\"text-align: right;\">          </td><td style=\"text-align: right;\">                     </td><td>arima              </td><td>RForecast   </td><td style=\"text-align: right;\">     1</td><td style=\"text-align: right;\">         5.87341</td><td style=\"text-align: right;\">            </td><td style=\"text-align: right;\">          0.00375211</td></tr>\n",
       "<tr><td>trainable_3ddd62d8</td><td>TERMINATED</td><td>                     </td><td style=\"text-align: right;\">                      </td><td style=\"text-align: right;\">              </td><td style=\"text-align: right;\">                         </td><td style=\"text-align: right;\">          </td><td style=\"text-align: right;\">                     </td><td>ets                </td><td>RForecast   </td><td style=\"text-align: right;\">     1</td><td style=\"text-align: right;\">         5.13744</td><td style=\"text-align: right;\">            </td><td style=\"text-align: right;\">          0.00392648</td></tr>\n",
       "</tbody>\n",
       "</table><br><br>"
      ],
      "text/plain": [
       "<IPython.core.display.HTML object>"
      ]
     },
     "metadata": {},
     "output_type": "display_data"
    },
    {
     "name": "stderr",
     "output_type": "stream",
     "text": [
      "\u001b[2m\u001b[36m(pid=23966)\u001b[0m \r",
      "100%|██████████| 50/50 [00:01<00:00, 37.32it/s, epoch=61/72, avg_epoch_loss=4.78]\n",
      "\u001b[2m\u001b[36m(pid=23966)\u001b[0m \r",
      "  0%|          | 0/50 [00:00<?, ?it/s]\n"
     ]
    },
    {
     "name": "stdout",
     "output_type": "stream",
     "text": [
      "Result for trainable_3ddac9b0:\n",
      "  date: 2020-12-02_15-09-38\n",
      "  done: false\n",
      "  experiment_id: cfb1a867e86c4ddf994e0132c5263961\n",
      "  experiment_tag: 1_context_length=47,epochs=72,hidden_layer_size=11,l2=0.0094933,learning_rate=0.0043576,name=FeedForward\n",
      "  hostname: Trungs-MacBook-Air.local\n",
      "  iterations_since_restore: 62\n",
      "  node_ip: 192.168.200.198\n",
      "  pid: 23966\n",
      "  time_since_restore: 55.69179391860962\n",
      "  time_this_iter_s: 1.592073917388916\n",
      "  time_total_s: 55.69179391860962\n",
      "  timestamp: 1606921778\n",
      "  timesteps_since_restore: 0\n",
      "  train_loss: 4.7706516742706295\n",
      "  training_iteration: 62\n",
      "  trial_id: 3ddac9b0\n",
      "  \n"
     ]
    },
    {
     "name": "stderr",
     "output_type": "stream",
     "text": [
      "100%|██████████| 50/50 [00:01<00:00, 31.55it/s, epoch=62/72, avg_epoch_loss=4.77]\n",
      "  0%|          | 0/50 [00:00<?, ?it/s]\n",
      "100%|██████████| 50/50 [00:01<00:00, 36.73it/s, epoch=63/72, avg_epoch_loss=4.77]\n",
      "  0%|          | 0/50 [00:00<?, ?it/s]\n",
      "100%|██████████| 50/50 [00:01<00:00, 42.85it/s, epoch=64/72, avg_epoch_loss=4.75]\n",
      "  0%|          | 0/50 [00:00<?, ?it/s]\n"
     ]
    },
    {
     "data": {
      "text/html": [
       "== Status ==<br>Memory usage on this node: 11.5/16.0 GiB<br>Using FIFO scheduling algorithm.<br>Resources requested: 1/4 CPUs, 0/0 GPUs, 0.0/4.1 GiB heap, 0.0/1.42 GiB objects<br>Result logdir: /Users/trung/ray_results/trainable<br>Number of trials: 3 (1 RUNNING, 2 TERMINATED)<br><table>\n",
       "<thead>\n",
       "<tr><th>Trial name        </th><th>status    </th><th>loc                  </th><th style=\"text-align: right;\">  model/context_length</th><th style=\"text-align: right;\">  model/epochs</th><th style=\"text-align: right;\">  model/hidden_layer_size</th><th style=\"text-align: right;\">  model/l2</th><th style=\"text-align: right;\">  model/learning_rate</th><th>model/method_name  </th><th>model/name  </th><th style=\"text-align: right;\">  iter</th><th style=\"text-align: right;\">  total time (s)</th><th style=\"text-align: right;\">  train_loss</th><th style=\"text-align: right;\">  mean_wQuantileLoss</th></tr>\n",
       "</thead>\n",
       "<tbody>\n",
       "<tr><td>trainable_3ddac9b0</td><td>RUNNING   </td><td>192.168.200.198:23966</td><td style=\"text-align: right;\">                    47</td><td style=\"text-align: right;\">            72</td><td style=\"text-align: right;\">                       11</td><td style=\"text-align: right;\">0.00949333</td><td style=\"text-align: right;\">           0.00435757</td><td>                   </td><td>FeedForward </td><td style=\"text-align: right;\">    65</td><td style=\"text-align: right;\">        59.1503 </td><td style=\"text-align: right;\">      4.7332</td><td style=\"text-align: right;\">                    </td></tr>\n",
       "<tr><td>trainable_3ddc166c</td><td>TERMINATED</td><td>                     </td><td style=\"text-align: right;\">                      </td><td style=\"text-align: right;\">              </td><td style=\"text-align: right;\">                         </td><td style=\"text-align: right;\">          </td><td style=\"text-align: right;\">                     </td><td>arima              </td><td>RForecast   </td><td style=\"text-align: right;\">     1</td><td style=\"text-align: right;\">         5.87341</td><td style=\"text-align: right;\">            </td><td style=\"text-align: right;\">          0.00375211</td></tr>\n",
       "<tr><td>trainable_3ddd62d8</td><td>TERMINATED</td><td>                     </td><td style=\"text-align: right;\">                      </td><td style=\"text-align: right;\">              </td><td style=\"text-align: right;\">                         </td><td style=\"text-align: right;\">          </td><td style=\"text-align: right;\">                     </td><td>ets                </td><td>RForecast   </td><td style=\"text-align: right;\">     1</td><td style=\"text-align: right;\">         5.13744</td><td style=\"text-align: right;\">            </td><td style=\"text-align: right;\">          0.00392648</td></tr>\n",
       "</tbody>\n",
       "</table><br><br>"
      ],
      "text/plain": [
       "<IPython.core.display.HTML object>"
      ]
     },
     "metadata": {},
     "output_type": "display_data"
    },
    {
     "name": "stderr",
     "output_type": "stream",
     "text": [
      "100%|██████████| 50/50 [00:00<00:00, 55.66it/s, epoch=65/72, avg_epoch_loss=4.73]\n",
      "  0%|          | 0/50 [00:00<?, ?it/s]\n",
      "100%|██████████| 50/50 [00:01<00:00, 45.46it/s, epoch=66/72, avg_epoch_loss=4.8]\n",
      "  0%|          | 0/50 [00:00<?, ?it/s]\n"
     ]
    },
    {
     "name": "stdout",
     "output_type": "stream",
     "text": [
      "Result for trainable_3ddac9b0:\n",
      "  date: 2020-12-02_15-09-44\n",
      "  done: false\n",
      "  experiment_id: cfb1a867e86c4ddf994e0132c5263961\n",
      "  experiment_tag: 1_context_length=47,epochs=72,hidden_layer_size=11,l2=0.0094933,learning_rate=0.0043576,name=FeedForward\n",
      "  hostname: Trungs-MacBook-Air.local\n",
      "  iterations_since_restore: 67\n",
      "  node_ip: 192.168.200.198\n",
      "  pid: 23966\n",
      "  time_since_restore: 61.25938892364502\n",
      "  time_this_iter_s: 1.003964900970459\n",
      "  time_total_s: 61.25938892364502\n",
      "  timestamp: 1606921784\n",
      "  timesteps_since_restore: 0\n",
      "  train_loss: 4.67249698638916\n",
      "  training_iteration: 67\n",
      "  trial_id: 3ddac9b0\n",
      "  \n"
     ]
    },
    {
     "name": "stderr",
     "output_type": "stream",
     "text": [
      "100%|██████████| 50/50 [00:00<00:00, 50.66it/s, epoch=67/72, avg_epoch_loss=4.67]\n",
      "  0%|          | 0/50 [00:00<?, ?it/s]\n",
      "100%|██████████| 50/50 [00:00<00:00, 54.63it/s, epoch=68/72, avg_epoch_loss=4.57]\n",
      "  0%|          | 0/50 [00:00<?, ?it/s]\n",
      "100%|██████████| 50/50 [00:01<00:00, 48.32it/s, epoch=69/72, avg_epoch_loss=4.61]\n",
      "  0%|          | 0/50 [00:00<?, ?it/s]\n"
     ]
    },
    {
     "data": {
      "text/html": [
       "== Status ==<br>Memory usage on this node: 11.3/16.0 GiB<br>Using FIFO scheduling algorithm.<br>Resources requested: 1/4 CPUs, 0/0 GPUs, 0.0/4.1 GiB heap, 0.0/1.42 GiB objects<br>Result logdir: /Users/trung/ray_results/trainable<br>Number of trials: 3 (1 RUNNING, 2 TERMINATED)<br><table>\n",
       "<thead>\n",
       "<tr><th>Trial name        </th><th>status    </th><th>loc                  </th><th style=\"text-align: right;\">  model/context_length</th><th style=\"text-align: right;\">  model/epochs</th><th style=\"text-align: right;\">  model/hidden_layer_size</th><th style=\"text-align: right;\">  model/l2</th><th style=\"text-align: right;\">  model/learning_rate</th><th>model/method_name  </th><th>model/name  </th><th style=\"text-align: right;\">  iter</th><th style=\"text-align: right;\">  total time (s)</th><th style=\"text-align: right;\">  train_loss</th><th style=\"text-align: right;\">  mean_wQuantileLoss</th></tr>\n",
       "</thead>\n",
       "<tbody>\n",
       "<tr><td>trainable_3ddac9b0</td><td>RUNNING   </td><td>192.168.200.198:23966</td><td style=\"text-align: right;\">                    47</td><td style=\"text-align: right;\">            72</td><td style=\"text-align: right;\">                       11</td><td style=\"text-align: right;\">0.00949333</td><td style=\"text-align: right;\">           0.00435757</td><td>                   </td><td>FeedForward </td><td style=\"text-align: right;\">    70</td><td style=\"text-align: right;\">        65.8925 </td><td style=\"text-align: right;\">     4.64674</td><td style=\"text-align: right;\">                    </td></tr>\n",
       "<tr><td>trainable_3ddc166c</td><td>TERMINATED</td><td>                     </td><td style=\"text-align: right;\">                      </td><td style=\"text-align: right;\">              </td><td style=\"text-align: right;\">                         </td><td style=\"text-align: right;\">          </td><td style=\"text-align: right;\">                     </td><td>arima              </td><td>RForecast   </td><td style=\"text-align: right;\">     1</td><td style=\"text-align: right;\">         5.87341</td><td style=\"text-align: right;\">            </td><td style=\"text-align: right;\">          0.00375211</td></tr>\n",
       "<tr><td>trainable_3ddd62d8</td><td>TERMINATED</td><td>                     </td><td style=\"text-align: right;\">                      </td><td style=\"text-align: right;\">              </td><td style=\"text-align: right;\">                         </td><td style=\"text-align: right;\">          </td><td style=\"text-align: right;\">                     </td><td>ets                </td><td>RForecast   </td><td style=\"text-align: right;\">     1</td><td style=\"text-align: right;\">         5.13744</td><td style=\"text-align: right;\">            </td><td style=\"text-align: right;\">          0.00392648</td></tr>\n",
       "</tbody>\n",
       "</table><br><br>"
      ],
      "text/plain": [
       "<IPython.core.display.HTML object>"
      ]
     },
     "metadata": {},
     "output_type": "display_data"
    },
    {
     "name": "stderr",
     "output_type": "stream",
     "text": [
      "\u001b[2m\u001b[36m(pid=23966)\u001b[0m \r",
      "100%|██████████| 50/50 [00:02<00:00, 18.93it/s, epoch=70/72, avg_epoch_loss=4.65]\n",
      "\u001b[2m\u001b[36m(pid=23966)\u001b[0m \r",
      "  0%|          | 0/50 [00:00<?, ?it/s]\n"
     ]
    },
    {
     "name": "stdout",
     "output_type": "stream",
     "text": [
      "Result for trainable_3ddac9b0:\n",
      "  date: 2020-12-02_15-09-51\n",
      "  done: false\n",
      "  experiment_id: cfb1a867e86c4ddf994e0132c5263961\n",
      "  experiment_tag: 1_context_length=47,epochs=72,hidden_layer_size=11,l2=0.0094933,learning_rate=0.0043576,name=FeedForward\n",
      "  hostname: Trungs-MacBook-Air.local\n",
      "  iterations_since_restore: 71\n",
      "  node_ip: 192.168.200.198\n",
      "  pid: 23966\n",
      "  time_since_restore: 68.73437404632568\n",
      "  time_this_iter_s: 2.8418939113616943\n",
      "  time_total_s: 68.73437404632568\n",
      "  timestamp: 1606921791\n",
      "  timesteps_since_restore: 0\n",
      "  train_loss: 4.554590768814087\n",
      "  training_iteration: 71\n",
      "  trial_id: 3ddac9b0\n",
      "  \n"
     ]
    },
    {
     "name": "stderr",
     "output_type": "stream",
     "text": [
      "100%|██████████| 50/50 [00:02<00:00, 17.69it/s, epoch=71/72, avg_epoch_loss=4.55]\n",
      "  0%|          | 0/50 [00:00<?, ?it/s]\n",
      "100%|██████████| 50/50 [00:00<00:00, 51.66it/s, epoch=72/72, avg_epoch_loss=4.56]\n",
      "Running evaluation:   0%|          | 0/1 [00:00<?, ?it/s]\n",
      "Running evaluation: 100%|██████████| 1/1 [00:00<00:00, 27.49it/s]\n"
     ]
    },
    {
     "data": {
      "text/html": [
       "== Status ==<br>Memory usage on this node: 11.4/16.0 GiB<br>Using FIFO scheduling algorithm.<br>Resources requested: 0/4 CPUs, 0/0 GPUs, 0.0/4.1 GiB heap, 0.0/1.42 GiB objects<br>Result logdir: /Users/trung/ray_results/trainable<br>Number of trials: 3 (3 TERMINATED)<br><table>\n",
       "<thead>\n",
       "<tr><th>Trial name        </th><th>status    </th><th>loc  </th><th style=\"text-align: right;\">  model/context_length</th><th style=\"text-align: right;\">  model/epochs</th><th style=\"text-align: right;\">  model/hidden_layer_size</th><th style=\"text-align: right;\">  model/l2</th><th style=\"text-align: right;\">  model/learning_rate</th><th>model/method_name  </th><th>model/name  </th><th style=\"text-align: right;\">  iter</th><th style=\"text-align: right;\">  total time (s)</th><th style=\"text-align: right;\">  mean_wQuantileLoss</th></tr>\n",
       "</thead>\n",
       "<tbody>\n",
       "<tr><td>trainable_3ddac9b0</td><td>TERMINATED</td><td>     </td><td style=\"text-align: right;\">                    47</td><td style=\"text-align: right;\">            72</td><td style=\"text-align: right;\">                       11</td><td style=\"text-align: right;\">0.00949333</td><td style=\"text-align: right;\">           0.00435757</td><td>                   </td><td>FeedForward </td><td style=\"text-align: right;\">    73</td><td style=\"text-align: right;\">        69.8845 </td><td style=\"text-align: right;\">          0.00761313</td></tr>\n",
       "<tr><td>trainable_3ddc166c</td><td>TERMINATED</td><td>     </td><td style=\"text-align: right;\">                      </td><td style=\"text-align: right;\">              </td><td style=\"text-align: right;\">                         </td><td style=\"text-align: right;\">          </td><td style=\"text-align: right;\">                     </td><td>arima              </td><td>RForecast   </td><td style=\"text-align: right;\">     1</td><td style=\"text-align: right;\">         5.87341</td><td style=\"text-align: right;\">          0.00375211</td></tr>\n",
       "<tr><td>trainable_3ddd62d8</td><td>TERMINATED</td><td>     </td><td style=\"text-align: right;\">                      </td><td style=\"text-align: right;\">              </td><td style=\"text-align: right;\">                         </td><td style=\"text-align: right;\">          </td><td style=\"text-align: right;\">                     </td><td>ets                </td><td>RForecast   </td><td style=\"text-align: right;\">     1</td><td style=\"text-align: right;\">         5.13744</td><td style=\"text-align: right;\">          0.00392648</td></tr>\n",
       "</tbody>\n",
       "</table><br><br>"
      ],
      "text/plain": [
       "<IPython.core.display.HTML object>"
      ]
     },
     "metadata": {},
     "output_type": "display_data"
    },
    {
     "name": "stdout",
     "output_type": "stream",
     "text": [
      "{'date': ['1996-12-01 12:00:00', '1996-12-02 12:00:00', '1996-12-03 12:00:00', '1996-12-04 12:00:00', '1996-12-05 12:00:00', '1996-12-06 12:00:00', '1996-12-07 12:00:00', '1996-12-08 12:00:00', '1996-12-09 12:00:00', '1996-12-10 12:00:00', '1996-12-11 12:00:00', '1996-12-12 12:00:00', '1996-12-13 12:00:00', '1996-12-14 12:00:00'], 'values': [[{'q5': array([2020.39493003, 2018.92508827, 2014.03852819, 2008.91330144,\n",
      "       2009.33877027, 2009.20655386, 2004.18308696, 2004.15057952,\n",
      "       2004.06112133, 2002.43013896, 1999.86029701, 1997.48079739,\n",
      "       1998.9329068 , 1996.91917374]), 'q50': array([2030.72851108, 2030.66646767, 2033.79531114, 2037.31472246,\n",
      "       2037.12654939, 2037.15672276, 2036.33870924, 2038.8018629 ,\n",
      "       2038.84200833, 2037.66539431, 2039.60148899, 2040.03788015,\n",
      "       2044.43627428, 2042.6744421 ]), 'q95': array([2040.07538306, 2047.99081258, 2056.56564677, 2061.15662826,\n",
      "       2065.29622139, 2065.10222947, 2065.62381459, 2077.78904861,\n",
      "       2077.85859964, 2078.59272594, 2082.07965296, 2089.7421233 ,\n",
      "       2089.84660086, 2090.80364493])}]]}\n"
     ]
    },
    {
     "ename": "TypeError",
     "evalue": "Object of type ndarray is not JSON serializable",
     "output_type": "error",
     "traceback": [
      "\u001b[0;31m---------------------------------------------------------------------------\u001b[0m",
      "\u001b[0;31mTypeError\u001b[0m                                 Traceback (most recent call last)",
      "\u001b[0;32m<ipython-input-14-f135859e2ce3>\u001b[0m in \u001b[0;36m<module>\u001b[0;34m\u001b[0m\n\u001b[1;32m     12\u001b[0m \u001b[0;34m\u001b[0m\u001b[0m\n\u001b[1;32m     13\u001b[0m     \u001b[0mseries_df\u001b[0m \u001b[0;34m=\u001b[0m \u001b[0mseries_df\u001b[0m\u001b[0;34m.\u001b[0m\u001b[0mastype\u001b[0m\u001b[0;34m(\u001b[0m\u001b[0;34m{\u001b[0m\u001b[0mseries_name\u001b[0m\u001b[0;34m:\u001b[0m \u001b[0mfloat\u001b[0m\u001b[0;34m}\u001b[0m\u001b[0;34m)\u001b[0m\u001b[0;34m\u001b[0m\u001b[0;34m\u001b[0m\u001b[0m\n\u001b[0;32m---> 14\u001b[0;31m     \u001b[0mrun_forecast\u001b[0m\u001b[0;34m(\u001b[0m\u001b[0mseries_data\u001b[0m\u001b[0;34m[\u001b[0m\u001b[0;34m'Horizon'\u001b[0m\u001b[0;34m]\u001b[0m\u001b[0;34m,\u001b[0m \u001b[0mseries_name\u001b[0m\u001b[0;34m,\u001b[0m \u001b[0mseries_df\u001b[0m\u001b[0;34m,\u001b[0m \u001b[0mresults\u001b[0m\u001b[0;34m)\u001b[0m\u001b[0;34m\u001b[0m\u001b[0;34m\u001b[0m\u001b[0m\n\u001b[0m",
      "\u001b[0;32m<ipython-input-13-16e10d831066>\u001b[0m in \u001b[0;36mrun_forecast\u001b[0;34m(prediction_length, prediction_column_name, df, results)\u001b[0m\n\u001b[1;32m     14\u001b[0m     \u001b[0;32mwith\u001b[0m \u001b[0mopen\u001b[0m\u001b[0;34m(\u001b[0m\u001b[0;34m'actableai_results.json'\u001b[0m\u001b[0;34m,\u001b[0m \u001b[0;34m'w'\u001b[0m\u001b[0;34m)\u001b[0m \u001b[0;32mas\u001b[0m \u001b[0mjson_file\u001b[0m\u001b[0;34m:\u001b[0m\u001b[0;34m\u001b[0m\u001b[0;34m\u001b[0m\u001b[0m\n\u001b[1;32m     15\u001b[0m         \u001b[0mresults\u001b[0m\u001b[0;34m[\u001b[0m\u001b[0mprediction_column_name\u001b[0m\u001b[0;34m]\u001b[0m \u001b[0;34m=\u001b[0m \u001b[0mpredictions\u001b[0m\u001b[0;34m[\u001b[0m\u001b[0;34m\"values\"\u001b[0m\u001b[0;34m]\u001b[0m\u001b[0;34m[\u001b[0m\u001b[0;36m0\u001b[0m\u001b[0;34m]\u001b[0m\u001b[0;34m[\u001b[0m\u001b[0;36m0\u001b[0m\u001b[0;34m]\u001b[0m\u001b[0;34m[\u001b[0m\u001b[0;34m'q50'\u001b[0m\u001b[0;34m]\u001b[0m\u001b[0;34m\u001b[0m\u001b[0;34m\u001b[0m\u001b[0m\n\u001b[0;32m---> 16\u001b[0;31m         \u001b[0mjson\u001b[0m\u001b[0;34m.\u001b[0m\u001b[0mdump\u001b[0m\u001b[0;34m(\u001b[0m\u001b[0mresults\u001b[0m\u001b[0;34m,\u001b[0m \u001b[0mjson_file\u001b[0m\u001b[0;34m)\u001b[0m\u001b[0;34m\u001b[0m\u001b[0;34m\u001b[0m\u001b[0m\n\u001b[0m",
      "\u001b[0;32m~/miniconda3/envs/actableai-ml/lib/python3.7/json/__init__.py\u001b[0m in \u001b[0;36mdump\u001b[0;34m(obj, fp, skipkeys, ensure_ascii, check_circular, allow_nan, cls, indent, separators, default, sort_keys, **kw)\u001b[0m\n\u001b[1;32m    177\u001b[0m     \u001b[0;31m# could accelerate with writelines in some versions of Python, at\u001b[0m\u001b[0;34m\u001b[0m\u001b[0;34m\u001b[0m\u001b[0;34m\u001b[0m\u001b[0m\n\u001b[1;32m    178\u001b[0m     \u001b[0;31m# a debuggability cost\u001b[0m\u001b[0;34m\u001b[0m\u001b[0;34m\u001b[0m\u001b[0;34m\u001b[0m\u001b[0m\n\u001b[0;32m--> 179\u001b[0;31m     \u001b[0;32mfor\u001b[0m \u001b[0mchunk\u001b[0m \u001b[0;32min\u001b[0m \u001b[0miterable\u001b[0m\u001b[0;34m:\u001b[0m\u001b[0;34m\u001b[0m\u001b[0;34m\u001b[0m\u001b[0m\n\u001b[0m\u001b[1;32m    180\u001b[0m         \u001b[0mfp\u001b[0m\u001b[0;34m.\u001b[0m\u001b[0mwrite\u001b[0m\u001b[0;34m(\u001b[0m\u001b[0mchunk\u001b[0m\u001b[0;34m)\u001b[0m\u001b[0;34m\u001b[0m\u001b[0;34m\u001b[0m\u001b[0m\n\u001b[1;32m    181\u001b[0m \u001b[0;34m\u001b[0m\u001b[0m\n",
      "\u001b[0;32m~/miniconda3/envs/actableai-ml/lib/python3.7/json/encoder.py\u001b[0m in \u001b[0;36m_iterencode\u001b[0;34m(o, _current_indent_level)\u001b[0m\n\u001b[1;32m    429\u001b[0m             \u001b[0;32myield\u001b[0m \u001b[0;32mfrom\u001b[0m \u001b[0m_iterencode_list\u001b[0m\u001b[0;34m(\u001b[0m\u001b[0mo\u001b[0m\u001b[0;34m,\u001b[0m \u001b[0m_current_indent_level\u001b[0m\u001b[0;34m)\u001b[0m\u001b[0;34m\u001b[0m\u001b[0;34m\u001b[0m\u001b[0m\n\u001b[1;32m    430\u001b[0m         \u001b[0;32melif\u001b[0m \u001b[0misinstance\u001b[0m\u001b[0;34m(\u001b[0m\u001b[0mo\u001b[0m\u001b[0;34m,\u001b[0m \u001b[0mdict\u001b[0m\u001b[0;34m)\u001b[0m\u001b[0;34m:\u001b[0m\u001b[0;34m\u001b[0m\u001b[0;34m\u001b[0m\u001b[0m\n\u001b[0;32m--> 431\u001b[0;31m             \u001b[0;32myield\u001b[0m \u001b[0;32mfrom\u001b[0m \u001b[0m_iterencode_dict\u001b[0m\u001b[0;34m(\u001b[0m\u001b[0mo\u001b[0m\u001b[0;34m,\u001b[0m \u001b[0m_current_indent_level\u001b[0m\u001b[0;34m)\u001b[0m\u001b[0;34m\u001b[0m\u001b[0;34m\u001b[0m\u001b[0m\n\u001b[0m\u001b[1;32m    432\u001b[0m         \u001b[0;32melse\u001b[0m\u001b[0;34m:\u001b[0m\u001b[0;34m\u001b[0m\u001b[0;34m\u001b[0m\u001b[0m\n\u001b[1;32m    433\u001b[0m             \u001b[0;32mif\u001b[0m \u001b[0mmarkers\u001b[0m \u001b[0;32mis\u001b[0m \u001b[0;32mnot\u001b[0m \u001b[0;32mNone\u001b[0m\u001b[0;34m:\u001b[0m\u001b[0;34m\u001b[0m\u001b[0;34m\u001b[0m\u001b[0m\n",
      "\u001b[0;32m~/miniconda3/envs/actableai-ml/lib/python3.7/json/encoder.py\u001b[0m in \u001b[0;36m_iterencode_dict\u001b[0;34m(dct, _current_indent_level)\u001b[0m\n\u001b[1;32m    403\u001b[0m                 \u001b[0;32melse\u001b[0m\u001b[0;34m:\u001b[0m\u001b[0;34m\u001b[0m\u001b[0;34m\u001b[0m\u001b[0m\n\u001b[1;32m    404\u001b[0m                     \u001b[0mchunks\u001b[0m \u001b[0;34m=\u001b[0m \u001b[0m_iterencode\u001b[0m\u001b[0;34m(\u001b[0m\u001b[0mvalue\u001b[0m\u001b[0;34m,\u001b[0m \u001b[0m_current_indent_level\u001b[0m\u001b[0;34m)\u001b[0m\u001b[0;34m\u001b[0m\u001b[0;34m\u001b[0m\u001b[0m\n\u001b[0;32m--> 405\u001b[0;31m                 \u001b[0;32myield\u001b[0m \u001b[0;32mfrom\u001b[0m \u001b[0mchunks\u001b[0m\u001b[0;34m\u001b[0m\u001b[0;34m\u001b[0m\u001b[0m\n\u001b[0m\u001b[1;32m    406\u001b[0m         \u001b[0;32mif\u001b[0m \u001b[0mnewline_indent\u001b[0m \u001b[0;32mis\u001b[0m \u001b[0;32mnot\u001b[0m \u001b[0;32mNone\u001b[0m\u001b[0;34m:\u001b[0m\u001b[0;34m\u001b[0m\u001b[0;34m\u001b[0m\u001b[0m\n\u001b[1;32m    407\u001b[0m             \u001b[0m_current_indent_level\u001b[0m \u001b[0;34m-=\u001b[0m \u001b[0;36m1\u001b[0m\u001b[0;34m\u001b[0m\u001b[0;34m\u001b[0m\u001b[0m\n",
      "\u001b[0;32m~/miniconda3/envs/actableai-ml/lib/python3.7/json/encoder.py\u001b[0m in \u001b[0;36m_iterencode\u001b[0;34m(o, _current_indent_level)\u001b[0m\n\u001b[1;32m    436\u001b[0m                     \u001b[0;32mraise\u001b[0m \u001b[0mValueError\u001b[0m\u001b[0;34m(\u001b[0m\u001b[0;34m\"Circular reference detected\"\u001b[0m\u001b[0;34m)\u001b[0m\u001b[0;34m\u001b[0m\u001b[0;34m\u001b[0m\u001b[0m\n\u001b[1;32m    437\u001b[0m                 \u001b[0mmarkers\u001b[0m\u001b[0;34m[\u001b[0m\u001b[0mmarkerid\u001b[0m\u001b[0;34m]\u001b[0m \u001b[0;34m=\u001b[0m \u001b[0mo\u001b[0m\u001b[0;34m\u001b[0m\u001b[0;34m\u001b[0m\u001b[0m\n\u001b[0;32m--> 438\u001b[0;31m             \u001b[0mo\u001b[0m \u001b[0;34m=\u001b[0m \u001b[0m_default\u001b[0m\u001b[0;34m(\u001b[0m\u001b[0mo\u001b[0m\u001b[0;34m)\u001b[0m\u001b[0;34m\u001b[0m\u001b[0;34m\u001b[0m\u001b[0m\n\u001b[0m\u001b[1;32m    439\u001b[0m             \u001b[0;32myield\u001b[0m \u001b[0;32mfrom\u001b[0m \u001b[0m_iterencode\u001b[0m\u001b[0;34m(\u001b[0m\u001b[0mo\u001b[0m\u001b[0;34m,\u001b[0m \u001b[0m_current_indent_level\u001b[0m\u001b[0;34m)\u001b[0m\u001b[0;34m\u001b[0m\u001b[0;34m\u001b[0m\u001b[0m\n\u001b[1;32m    440\u001b[0m             \u001b[0;32mif\u001b[0m \u001b[0mmarkers\u001b[0m \u001b[0;32mis\u001b[0m \u001b[0;32mnot\u001b[0m \u001b[0;32mNone\u001b[0m\u001b[0;34m:\u001b[0m\u001b[0;34m\u001b[0m\u001b[0;34m\u001b[0m\u001b[0m\n",
      "\u001b[0;32m~/miniconda3/envs/actableai-ml/lib/python3.7/json/encoder.py\u001b[0m in \u001b[0;36mdefault\u001b[0;34m(self, o)\u001b[0m\n\u001b[1;32m    177\u001b[0m \u001b[0;34m\u001b[0m\u001b[0m\n\u001b[1;32m    178\u001b[0m         \"\"\"\n\u001b[0;32m--> 179\u001b[0;31m         raise TypeError(f'Object of type {o.__class__.__name__} '\n\u001b[0m\u001b[1;32m    180\u001b[0m                         f'is not JSON serializable')\n\u001b[1;32m    181\u001b[0m \u001b[0;34m\u001b[0m\u001b[0m\n",
      "\u001b[0;31mTypeError\u001b[0m: Object of type ndarray is not JSON serializable"
     ]
    }
   ],
   "source": [
    "# Run forecasting algorithm\n",
    "results = {}\n",
    "for series_name in daily_hourly_series_name:\n",
    "    series_data = m4_data['Info'].loc[series_name,['StartingDate', 'Horizon', 'SP']]\n",
    "    prediction_column_data = m4_data[series_data['SP']].loc[series_name].dropna().iloc[1:].values\n",
    "    series_df = pd.DataFrame(prediction_column_data, columns=[series_name])\n",
    "\n",
    "    if series_data['SP'] == 'Hourly':\n",
    "        series_df.index = [pd.to_datetime(series_data['StartingDate'], format='%m/%d/%Y %H:%M') + timedelta(hours=i) for i in range(len(prediction_column_data))]\n",
    "    elif series_data['SP'] == 'Daily':\n",
    "        series_df.index = [pd.to_datetime(series_data['StartingDate'], format='%m/%d/%Y %H:%M') + timedelta(days=i) for i in range(len(prediction_column_data))]\n",
    "        \n",
    "    series_df = series_df.astype({series_name: float})\n",
    "    run_forecast(series_data['Horizon'], series_name, series_df, results)"
   ]
  },
  {
   "cell_type": "code",
   "execution_count": 12,
   "metadata": {},
   "outputs": [
    {
     "name": "stdout",
     "output_type": "stream",
     "text": [
      "\n"
     ]
    }
   ],
   "source": [
    "print(\"\")"
   ]
  },
  {
   "cell_type": "code",
   "execution_count": null,
   "metadata": {},
   "outputs": [],
   "source": []
  }
 ],
 "metadata": {
  "kernelspec": {
   "display_name": "Python 3",
   "language": "python",
   "name": "python3"
  },
  "language_info": {
   "codemirror_mode": {
    "name": "ipython",
    "version": 3
   },
   "file_extension": ".py",
   "mimetype": "text/x-python",
   "name": "python",
   "nbconvert_exporter": "python",
   "pygments_lexer": "ipython3",
   "version": "3.7.10"
  }
 },
 "nbformat": 4,
 "nbformat_minor": 4
}
