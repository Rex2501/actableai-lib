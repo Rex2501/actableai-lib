{
 "cells": [
  {
   "cell_type": "markdown",
   "metadata": {},
   "source": [
    "<img src=\"https://docs.actable.ai/_images/logo.png\" style=\"object-fit: cover; max-width:100%; height:300px;\" />"
   ]
  },
  {
   "cell_type": "markdown",
   "metadata": {},
   "source": [
    "# infer_causal\n",
    "\n",
    "This notebook is an example on how you can run a causal inference analyisis automatically with\n",
    "[Actable AI](https://actable.ai)\n",
    "\n",
    "For this example we will see the average effect of a treatment on an outcome\\\n",
    "and then see how controlling by a certain feature gives us multiple average effects."
   ]
  },
  {
   "cell_type": "markdown",
   "metadata": {},
   "source": [
    "### Imports\n",
    "\n",
    "This part simply imports the python modules.\n",
    "Last line imports the infer_causal from actableai"
   ]
  },
  {
   "cell_type": "code",
   "execution_count": null,
   "metadata": {},
   "outputs": [],
   "source": [
    "import pandas as pd\n",
    "import numpy as np\n",
    "from matplotlib import pyplot as plt\n",
    "\n",
    "from actableai import infer_causal\n",
    "from actableai.utils.testing import unittest_hyperparameters"
   ]
  },
  {
   "cell_type": "markdown",
   "metadata": {},
   "source": [
    "### Importing the data\n",
    "\n",
    "This part simply imports the data."
   ]
  },
  {
   "cell_type": "code",
   "execution_count": null,
   "metadata": {},
   "outputs": [],
   "source": [
    "df = pd.read_csv(\n",
    "    \"https://raw.githubusercontent.com/Actable-AI/public-datasets/master/apartments.csv\"\n",
    ").head(100)\n",
    "df"
   ]
  },
  {
   "cell_type": "markdown",
   "metadata": {},
   "source": [
    "### Calling Actable AI task\n",
    "\n",
    "This part is the call to the ActableAI causal inference analysis.\\\n",
    "To learn more about the available parameters you can consult the [API Documentation](https://lib.actable.ai/actableai.tasks.html#actableai.tasks.causal_inference.infer_causal)"
   ]
  },
  {
   "cell_type": "code",
   "execution_count": null,
   "metadata": {},
   "outputs": [],
   "source": [
    "# Here df is the DataFrame containing our data\n",
    "# target is \"Churn\" because we want to predict the churn\n",
    "# features set to None means that we will use every single feature available\n",
    "result = infer_causal(pd_table=df, treatments=[\"location\"], outcomes=[\"rental_price\"])\n"
   ]
  },
  {
   "cell_type": "markdown",
   "metadata": {},
   "source": [
    "### Evaluation of the generated model"
   ]
  },
  {
   "cell_type": "code",
   "execution_count": null,
   "metadata": {},
   "outputs": [],
   "source": [
    "result"
   ]
  }
 ],
 "metadata": {
  "kernelspec": {
   "display_name": "Python 3.7.13 ('venv': venv)",
   "language": "python",
   "name": "python3"
  },
  "language_info": {
   "codemirror_mode": {
    "name": "ipython",
    "version": 3
   },
   "file_extension": ".py",
   "mimetype": "text/x-python",
   "name": "python",
   "nbconvert_exporter": "python",
   "pygments_lexer": "ipython3",
   "version": "3.7.13"
  },
  "orig_nbformat": 4,
  "vscode": {
   "interpreter": {
    "hash": "c256946009b6d463502efae7f857e4995f38d81e9717a8754436e094e686e044"
   }
  }
 },
 "nbformat": 4,
 "nbformat_minor": 2
}
