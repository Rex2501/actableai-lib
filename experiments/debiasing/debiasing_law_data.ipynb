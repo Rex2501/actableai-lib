{
 "cells": [
  {
   "cell_type": "markdown",
   "id": "099ae924",
   "metadata": {},
   "source": [
    "# Imports"
   ]
  },
  {
   "cell_type": "code",
   "execution_count": null,
   "id": "b2142ff0",
   "metadata": {},
   "outputs": [],
   "source": [
    "import sys\n",
    "sys.path.insert(0, \"/home/axen/projects/actableai-ml\")"
   ]
  },
  {
   "cell_type": "code",
   "execution_count": null,
   "id": "3d390203",
   "metadata": {},
   "outputs": [],
   "source": [
    "import pandas as pd\n",
    "import seaborn as sns\n",
    "import matplotlib.pyplot as plt\n",
    "import numpy as np\n",
    "\n",
    "from sklearn.metrics import classification_report, ConfusionMatrixDisplay, confusion_matrix, mean_squared_error, r2_score\n",
    "from sklearn.compose import make_column_selector, ColumnTransformer\n",
    "from sklearn.linear_model import LinearRegression, SGDRegressor, LogisticRegression\n",
    "from sklearn.ensemble import RandomForestRegressor, AdaBoostRegressor, BaggingRegressor\n",
    "from sklearn.pipeline import make_pipeline\n",
    "from sklearn.preprocessing import StandardScaler\n",
    "from sklearn.preprocessing import OneHotEncoder as sk_OneHotEncoder\n",
    "from sklearn.preprocessing import Normalizer as sk_Normalizer\n",
    "\n",
    "from actableai.utils.debiasing import debias_dataframe, _make_residuals\n",
    "from actableai.tasks.regression import AAIRegressionTask"
   ]
  },
  {
   "cell_type": "code",
   "execution_count": null,
   "id": "cd42bbbc",
   "metadata": {},
   "outputs": [],
   "source": [
    "# Set up matplotlib and seaborn\n",
    "%matplotlib inline\n",
    "sns.set()\n",
    "plt.rcParams['figure.figsize'] = [12, 8]\n",
    "\n",
    "pd.set_option('display.float_format', lambda x: '%.5f' % x)"
   ]
  },
  {
   "cell_type": "markdown",
   "id": "2eff985a",
   "metadata": {},
   "source": [
    "# Load and process Dataset"
   ]
  },
  {
   "cell_type": "code",
   "execution_count": null,
   "id": "e4b4a211",
   "metadata": {},
   "outputs": [],
   "source": [
    "# TO CHANGE\n",
    "dataset_path = \"../../../data/law_data.csv\""
   ]
  },
  {
   "cell_type": "code",
   "execution_count": null,
   "id": "f766c0c7",
   "metadata": {},
   "outputs": [],
   "source": [
    "df_law = pd.read_csv(dataset_path)\n",
    "\n",
    "full_size = len(df_law)\n",
    "train_size = int(full_size * 0.8)\n",
    "test_size = full_size - train_size\n",
    "\n",
    "df_test = df_law.sample(test_size, random_state=0)\n",
    "\n",
    "df_law[\"ZFYA_exp\"] = df_law[\"ZFYA\"]\n",
    "df_law.loc[df_test.index, \"ZFYA_exp\"] = np.nan"
   ]
  },
  {
   "cell_type": "code",
   "execution_count": null,
   "id": "74a0a12b",
   "metadata": {},
   "outputs": [],
   "source": [
    "print(\"training_size:\", len(df_law[~df_law[\"ZFYA_exp\"].isna()]))\n",
    "print(\"testing_size:\", len(df_law[df_law[\"ZFYA_exp\"].isna()]))"
   ]
  },
  {
   "cell_type": "code",
   "execution_count": null,
   "id": "980e2de5",
   "metadata": {},
   "outputs": [],
   "source": [
    "print(\"Bias in data\")\n",
    "sns.kdeplot(\n",
    "    data=df_law,\n",
    "    x=\"ZFYA_exp\", hue=\"race\",\n",
    "    common_norm=False\n",
    ")"
   ]
  },
  {
   "cell_type": "markdown",
   "id": "3b637271",
   "metadata": {},
   "source": [
    "# Train Regression Model\n",
    "\n",
    "The training data should be returned in the regression function as well"
   ]
  },
  {
   "cell_type": "code",
   "execution_count": null,
   "id": "131dca63",
   "metadata": {},
   "outputs": [],
   "source": [
    "target = \"ZFYA_exp\"\n",
    "features = [\"LSAT\", \"UGPA\"]\n",
    "debiasing_features = [\"race\"]\n",
    "debiased_features = [\"LSAT\", \"UGPA\"]"
   ]
  },
  {
   "cell_type": "code",
   "execution_count": null,
   "id": "1b4ee760",
   "metadata": {},
   "outputs": [],
   "source": [
    "task = AAIRegressionTask()\n",
    "results = task.run(\n",
    "    df=df_law,\n",
    "    target=target,\n",
    "    features=features,\n",
    "    debiasing_features=debiasing_features,\n",
    "    debiased_features=debiased_features,\n",
    "    presets=\"medium_quality_faster_train\",\n",
    "    prediction_quantile_low=None,\n",
    "    prediction_quantile_high=None\n",
    ")"
   ]
  },
  {
   "cell_type": "code",
   "execution_count": null,
   "id": "bcac88c5",
   "metadata": {},
   "outputs": [],
   "source": [
    "df_results = results[\"data\"][\"prediction_table\"]\n",
    "df_validation = results[\"data\"][\"validation_table\"]"
   ]
  },
  {
   "cell_type": "code",
   "execution_count": null,
   "id": "f4aea28a",
   "metadata": {},
   "outputs": [],
   "source": [
    "df_train = results[\"data\"][\"training_table\"]\n",
    "\n",
    "# Rename residuals\n",
    "df_train.rename(inplace=True, columns={\n",
    "    column: f\"{column}_residuals\"\n",
    "    for column in debiased_features\n",
    "})\n",
    "df_train.rename(inplace=True, columns={\n",
    "    f\"{column}_orig\": column\n",
    "    for column in debiased_features\n",
    "})"
   ]
  },
  {
   "cell_type": "code",
   "execution_count": null,
   "id": "2f490405",
   "metadata": {},
   "outputs": [],
   "source": [
    "# Merge dataframes\n",
    "df_results[\"dataset\"] = \"test\"\n",
    "df_validation[\"dataset\"] = \"val\"\n",
    "df_train[\"dataset\"] = \"train\"\n",
    "\n",
    "df_full_results = df_train.append(df_validation, ignore_index=True).append(df_results, ignore_index=True).copy()"
   ]
  },
  {
   "cell_type": "markdown",
   "id": "588b29f3",
   "metadata": {},
   "source": [
    "## Train Basic Linear Regression"
   ]
  },
  {
   "cell_type": "code",
   "execution_count": null,
   "id": "0397a756",
   "metadata": {},
   "outputs": [],
   "source": [
    "def make_preprocessor():\n",
    "    return ColumnTransformer(\n",
    "        transformers=[\n",
    "            (\"num\", StandardScaler(), make_column_selector(dtype_include=\"number\")),\n",
    "            (\"txt\", sk_OneHotEncoder(sparse=True, handle_unknown=\"ignore\"), make_column_selector(dtype_exclude=\"number\")),\n",
    "        ]\n",
    "    )"
   ]
  },
  {
   "cell_type": "code",
   "execution_count": null,
   "id": "f03e65cf",
   "metadata": {},
   "outputs": [],
   "source": [
    "lr = make_pipeline(make_preprocessor(), sk_Normalizer(), LinearRegression())"
   ]
  },
  {
   "cell_type": "code",
   "execution_count": null,
   "id": "2a6d056a",
   "metadata": {},
   "outputs": [],
   "source": [
    "lr = lr.fit(df_full_results[df_full_results[\"dataset\"] == \"train\"][[\"LSAT_residuals\", \"UGPA_residuals\"]], df_train[\"ZFYA_exp\"])"
   ]
  },
  {
   "cell_type": "code",
   "execution_count": null,
   "id": "7e310263",
   "metadata": {},
   "outputs": [],
   "source": [
    "df_full_results.loc[(df_full_results[\"dataset\"] == \"val\") | (df_full_results[\"dataset\"] == \"test\"), \"ZFYA_exp_lr_predicted\"] = \\\n",
    "    lr.predict(df_full_results[(df_full_results[\"dataset\"] == \"val\") | (df_full_results[\"dataset\"] == \"test\")][[\"LSAT_residuals\", \"UGPA_residuals\"]])"
   ]
  },
  {
   "cell_type": "markdown",
   "id": "5903658e",
   "metadata": {},
   "source": [
    "## Original vs Residuals Densities"
   ]
  },
  {
   "cell_type": "code",
   "execution_count": null,
   "id": "ce23c9ef",
   "metadata": {},
   "outputs": [],
   "source": [
    "df_residuals = df_full_results.melt(\n",
    "    value_vars=[\"LSAT_residuals\", \"UGPA_residuals\", \"LSAT\", \"UGPA\"],\n",
    "    id_vars=[\"race\", \"dataset\"],\n",
    "    var_name=\"col\",\n",
    "    value_name=\"value\"\n",
    ")"
   ]
  },
  {
   "cell_type": "code",
   "execution_count": null,
   "id": "fffc35f4",
   "metadata": {},
   "outputs": [],
   "source": [
    "sns.displot(\n",
    "    data=df_residuals,\n",
    "    x=\"value\",\n",
    "    hue=\"race\",\n",
    "    col=\"col\", col_wrap=2,\n",
    "    col_order=[\"UGPA\", \"UGPA_residuals\", \"LSAT\", \"LSAT_residuals\"],\n",
    "    kind=\"kde\", facet_kws={\"sharex\": False, \"sharey\": False},\n",
    "    common_norm=False\n",
    ")"
   ]
  },
  {
   "cell_type": "code",
   "execution_count": null,
   "id": "52fe1bf5",
   "metadata": {},
   "outputs": [],
   "source": [
    "sns.displot(\n",
    "    data=df_residuals,\n",
    "    x=\"value\",\n",
    "    hue=\"race\",\n",
    "    row=\"dataset\", col=\"col\",\n",
    "    col_order=[\"UGPA\", \"UGPA_residuals\", \"LSAT\", \"LSAT_residuals\"],\n",
    "    kind=\"kde\", facet_kws={\"sharex\": False, \"sharey\": False},\n",
    "    common_norm=False\n",
    ")"
   ]
  },
  {
   "cell_type": "markdown",
   "id": "1db47805",
   "metadata": {},
   "source": [
    "## Predictions Densities"
   ]
  },
  {
   "cell_type": "code",
   "execution_count": null,
   "id": "11856de1",
   "metadata": {},
   "outputs": [],
   "source": [
    "df_predictions = df_full_results[(df_full_results[\"dataset\"] == \"val\") | (df_full_results[\"dataset\"] == \"test\")].melt(\n",
    "    value_vars=[\"ZFYA\", \"ZFYA_exp_predicted\", \"ZFYA_exp_lr_predicted\"],\n",
    "    id_vars=[\"race\", \"dataset\"],\n",
    "    var_name=\"col\",\n",
    "    value_name=\"value\"\n",
    ")"
   ]
  },
  {
   "cell_type": "code",
   "execution_count": null,
   "id": "4ef1500c",
   "metadata": {},
   "outputs": [],
   "source": [
    "sns.displot(\n",
    "    data=df_predictions,\n",
    "    x=\"value\",\n",
    "    hue=\"race\",\n",
    "    row=\"dataset\", col=\"col\",\n",
    "    kind=\"kde\", facet_kws={\"sharex\": False, \"sharey\": False},\n",
    "    common_norm=False\n",
    ")"
   ]
  },
  {
   "cell_type": "markdown",
   "id": "ddab13ae",
   "metadata": {},
   "source": [
    "## Compare RMSEs"
   ]
  },
  {
   "cell_type": "code",
   "execution_count": null,
   "id": "03dac03b",
   "metadata": {},
   "outputs": [],
   "source": [
    "df_errors = pd.DataFrame(columns=[\"model\", \"metric\", \"dataset\", \"value\"])\n",
    "\n",
    "for model_name, model in zip([\"autogluon\", \"linear_regression\"], [\"ZFYA_exp_predicted\", \"ZFYA_exp_lr_predicted\"]):\n",
    "    for dataset in [\"val\", \"test\"]:\n",
    "        df_errors = df_errors.append({\n",
    "            \"model\": model_name,\n",
    "            \"metric\": \"rmse\",\n",
    "            \"dataset\": dataset,\n",
    "            \"value\": mean_squared_error(\n",
    "                df_full_results[df_full_results[\"dataset\"] == dataset][\"ZFYA\"],\n",
    "                df_full_results[df_full_results[\"dataset\"] == dataset][model],\n",
    "                squared=False\n",
    "            )\n",
    "        }, ignore_index=True)\n",
    "        \n",
    "        df_errors = df_errors.append({\n",
    "            \"model\": model_name,\n",
    "            \"metric\": \"r2\",\n",
    "            \"dataset\": dataset,\n",
    "            \"value\": r2_score(\n",
    "                df_full_results[df_full_results[\"dataset\"] == dataset][\"ZFYA\"],\n",
    "                df_full_results[df_full_results[\"dataset\"] == dataset][model]\n",
    "            )\n",
    "        }, ignore_index=True)"
   ]
  },
  {
   "cell_type": "code",
   "execution_count": null,
   "id": "379322f6",
   "metadata": {},
   "outputs": [],
   "source": [
    "sns.catplot(\n",
    "    data=df_errors,\n",
    "    x=\"value\", y=\"dataset\", hue=\"model\",\n",
    "    col=\"metric\",\n",
    "    kind=\"bar\", sharex=False\n",
    ")"
   ]
  }
 ],
 "metadata": {
  "kernelspec": {
   "display_name": "Python 3 (ipykernel)",
   "language": "python",
   "name": "python3"
  },
  "language_info": {
   "codemirror_mode": {
    "name": "ipython",
    "version": 3
   },
   "file_extension": ".py",
   "mimetype": "text/x-python",
   "name": "python",
   "nbconvert_exporter": "python",
   "pygments_lexer": "ipython3",
   "version": "3.7.12"
  }
 },
 "nbformat": 4,
 "nbformat_minor": 5
}
